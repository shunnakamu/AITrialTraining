{
 "cells": [
  {
   "cell_type": "code",
   "execution_count": 20,
   "id": "diverse-craps",
   "metadata": {},
   "outputs": [],
   "source": [
    "from sagemaker import get_execution_role\n",
    "role = get_execution_role()"
   ]
  },
  {
   "cell_type": "code",
   "execution_count": 21,
   "id": "individual-emergency",
   "metadata": {},
   "outputs": [],
   "source": [
    "from sagemaker.pytorch import PyTorchModel\n",
    "\n",
    "pytorch_model = PyTorchModel(\n",
    "    model_data='s3://sagemaker-gpu-training7-ts-hirota/model.tar.gz',\n",
    "    framework_version=\"1.3.1\",\n",
    "    py_version=\"py3\",\n",
    "    entry_point='entry_point.py',\n",
    "    source_dir='source_dir',\n",
    "    role=role,\n",
    "    env={'MMS_DEFAULT_RESPONSE_TIMEOUT': '500', 'SAGEMAKER_MODEL_SERVER_TIMEOUT': '3600'}\n",
    ")\n"
   ]
  },
  {
   "cell_type": "code",
   "execution_count": 22,
   "id": "celtic-tunnel",
   "metadata": {},
   "outputs": [
    {
     "name": "stdout",
     "output_type": "stream",
     "text": [
      "---------------!"
     ]
    }
   ],
   "source": [
    "predictor = pytorch_model.deploy(\n",
    "    endpoint_name='aitraining7-ts-hirota',\n",
    "    initial_instance_count=1,\n",
    "    instance_type='ml.c4.xlarge'\n",
    ")"
   ]
  },
  {
   "cell_type": "code",
   "execution_count": 26,
   "id": "collective-contractor",
   "metadata": {},
   "outputs": [
    {
     "name": "stdout",
     "output_type": "stream",
     "text": [
      "['As a mother of a newborn baby, I have to say that the bottle caps on some of the baby bottles are a bit of a let down.']\n"
     ]
    }
   ],
   "source": [
    "# {\"review_body\": \"Pathetic design of the caps. Very impractical to use everyday. The caps close so tight that everyday we have to wrestle with the bottle to open the cap. With a baby in one hand opening the cap is a night mare. And on top of these extra ordinary features of super secure cap, they are so expensive when compared to other brands. Stay away from these until they fix the cap issues. We have hurt ourselves many time trying to open caps as they have sharp edges on the inner and outer edges. Not worth the price.\"}\n",
    "!python inference_test.py"
   ]
  },
  {
   "cell_type": "code",
   "execution_count": 19,
   "id": "heated-lighter",
   "metadata": {},
   "outputs": [],
   "source": [
    "predictor.delete_endpoint()\n",
    "predictor.delete_model()"
   ]
  },
  {
   "cell_type": "code",
   "execution_count": null,
   "id": "varying-recall",
   "metadata": {},
   "outputs": [],
   "source": []
  }
 ],
 "metadata": {
  "kernelspec": {
   "display_name": "conda_pytorch_p36",
   "language": "python",
   "name": "conda_pytorch_p36"
  },
  "language_info": {
   "codemirror_mode": {
    "name": "ipython",
    "version": 3
   },
   "file_extension": ".py",
   "mimetype": "text/x-python",
   "name": "python",
   "nbconvert_exporter": "python",
   "pygments_lexer": "ipython3",
   "version": "3.6.13"
  }
 },
 "nbformat": 4,
 "nbformat_minor": 5
}
