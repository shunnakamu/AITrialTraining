{
  "nbformat": 4,
  "nbformat_minor": 0,
  "metadata": {
    "colab": {
      "name": "AITraining10-1.ipynb",
      "provenance": [],
      "collapsed_sections": [],
      "include_colab_link": true
    },
    "kernelspec": {
      "name": "python3",
      "display_name": "Python 3"
    },
    "language_info": {
      "name": "python"
    },
    "widgets": {
      "application/vnd.jupyter.widget-state+json": {
        "06f9eaca35c94774a5fe4f34918c685c": {
          "model_module": "@jupyter-widgets/controls",
          "model_name": "HBoxModel",
          "state": {
            "_view_name": "HBoxView",
            "_dom_classes": [],
            "_model_name": "HBoxModel",
            "_view_module": "@jupyter-widgets/controls",
            "_model_module_version": "1.5.0",
            "_view_count": null,
            "_view_module_version": "1.5.0",
            "box_style": "",
            "layout": "IPY_MODEL_3fb92184e78f49c789bd69af63a8ceb7",
            "_model_module": "@jupyter-widgets/controls",
            "children": [
              "IPY_MODEL_0ec130370b224736a5df78f849cb3e56",
              "IPY_MODEL_a160a2b0bb0545e8a235b16ea6093c2c"
            ]
          }
        },
        "3fb92184e78f49c789bd69af63a8ceb7": {
          "model_module": "@jupyter-widgets/base",
          "model_name": "LayoutModel",
          "state": {
            "_view_name": "LayoutView",
            "grid_template_rows": null,
            "right": null,
            "justify_content": null,
            "_view_module": "@jupyter-widgets/base",
            "overflow": null,
            "_model_module_version": "1.2.0",
            "_view_count": null,
            "flex_flow": null,
            "width": null,
            "min_width": null,
            "border": null,
            "align_items": null,
            "bottom": null,
            "_model_module": "@jupyter-widgets/base",
            "top": null,
            "grid_column": null,
            "overflow_y": null,
            "overflow_x": null,
            "grid_auto_flow": null,
            "grid_area": null,
            "grid_template_columns": null,
            "flex": null,
            "_model_name": "LayoutModel",
            "justify_items": null,
            "grid_row": null,
            "max_height": null,
            "align_content": null,
            "visibility": null,
            "align_self": null,
            "height": null,
            "min_height": null,
            "padding": null,
            "grid_auto_rows": null,
            "grid_gap": null,
            "max_width": null,
            "order": null,
            "_view_module_version": "1.2.0",
            "grid_template_areas": null,
            "object_position": null,
            "object_fit": null,
            "grid_auto_columns": null,
            "margin": null,
            "display": null,
            "left": null
          }
        },
        "0ec130370b224736a5df78f849cb3e56": {
          "model_module": "@jupyter-widgets/controls",
          "model_name": "FloatProgressModel",
          "state": {
            "_view_name": "ProgressView",
            "style": "IPY_MODEL_8680ae099c754ff1a46843acf00d1312",
            "_dom_classes": [],
            "description": "100%",
            "_model_name": "FloatProgressModel",
            "bar_style": "success",
            "max": 1441,
            "_view_module": "@jupyter-widgets/controls",
            "_model_module_version": "1.5.0",
            "value": 1441,
            "_view_count": null,
            "_view_module_version": "1.5.0",
            "orientation": "horizontal",
            "min": 0,
            "description_tooltip": null,
            "_model_module": "@jupyter-widgets/controls",
            "layout": "IPY_MODEL_47e03d1fe79942be9e112a8609eaa10c"
          }
        },
        "a160a2b0bb0545e8a235b16ea6093c2c": {
          "model_module": "@jupyter-widgets/controls",
          "model_name": "HTMLModel",
          "state": {
            "_view_name": "HTMLView",
            "style": "IPY_MODEL_b249e428d0304680a711b3e96b9c6cc1",
            "_dom_classes": [],
            "description": "",
            "_model_name": "HTMLModel",
            "placeholder": "​",
            "_view_module": "@jupyter-widgets/controls",
            "_model_module_version": "1.5.0",
            "value": " 1441/1441 [05:01&lt;00:00,  4.78it/s]",
            "_view_count": null,
            "_view_module_version": "1.5.0",
            "description_tooltip": null,
            "_model_module": "@jupyter-widgets/controls",
            "layout": "IPY_MODEL_104c88f48283470ab7ab10a21bac22bf"
          }
        },
        "8680ae099c754ff1a46843acf00d1312": {
          "model_module": "@jupyter-widgets/controls",
          "model_name": "ProgressStyleModel",
          "state": {
            "_view_name": "StyleView",
            "_model_name": "ProgressStyleModel",
            "description_width": "initial",
            "_view_module": "@jupyter-widgets/base",
            "_model_module_version": "1.5.0",
            "_view_count": null,
            "_view_module_version": "1.2.0",
            "bar_color": null,
            "_model_module": "@jupyter-widgets/controls"
          }
        },
        "47e03d1fe79942be9e112a8609eaa10c": {
          "model_module": "@jupyter-widgets/base",
          "model_name": "LayoutModel",
          "state": {
            "_view_name": "LayoutView",
            "grid_template_rows": null,
            "right": null,
            "justify_content": null,
            "_view_module": "@jupyter-widgets/base",
            "overflow": null,
            "_model_module_version": "1.2.0",
            "_view_count": null,
            "flex_flow": null,
            "width": null,
            "min_width": null,
            "border": null,
            "align_items": null,
            "bottom": null,
            "_model_module": "@jupyter-widgets/base",
            "top": null,
            "grid_column": null,
            "overflow_y": null,
            "overflow_x": null,
            "grid_auto_flow": null,
            "grid_area": null,
            "grid_template_columns": null,
            "flex": null,
            "_model_name": "LayoutModel",
            "justify_items": null,
            "grid_row": null,
            "max_height": null,
            "align_content": null,
            "visibility": null,
            "align_self": null,
            "height": null,
            "min_height": null,
            "padding": null,
            "grid_auto_rows": null,
            "grid_gap": null,
            "max_width": null,
            "order": null,
            "_view_module_version": "1.2.0",
            "grid_template_areas": null,
            "object_position": null,
            "object_fit": null,
            "grid_auto_columns": null,
            "margin": null,
            "display": null,
            "left": null
          }
        },
        "b249e428d0304680a711b3e96b9c6cc1": {
          "model_module": "@jupyter-widgets/controls",
          "model_name": "DescriptionStyleModel",
          "state": {
            "_view_name": "StyleView",
            "_model_name": "DescriptionStyleModel",
            "description_width": "",
            "_view_module": "@jupyter-widgets/base",
            "_model_module_version": "1.5.0",
            "_view_count": null,
            "_view_module_version": "1.2.0",
            "_model_module": "@jupyter-widgets/controls"
          }
        },
        "104c88f48283470ab7ab10a21bac22bf": {
          "model_module": "@jupyter-widgets/base",
          "model_name": "LayoutModel",
          "state": {
            "_view_name": "LayoutView",
            "grid_template_rows": null,
            "right": null,
            "justify_content": null,
            "_view_module": "@jupyter-widgets/base",
            "overflow": null,
            "_model_module_version": "1.2.0",
            "_view_count": null,
            "flex_flow": null,
            "width": null,
            "min_width": null,
            "border": null,
            "align_items": null,
            "bottom": null,
            "_model_module": "@jupyter-widgets/base",
            "top": null,
            "grid_column": null,
            "overflow_y": null,
            "overflow_x": null,
            "grid_auto_flow": null,
            "grid_area": null,
            "grid_template_columns": null,
            "flex": null,
            "_model_name": "LayoutModel",
            "justify_items": null,
            "grid_row": null,
            "max_height": null,
            "align_content": null,
            "visibility": null,
            "align_self": null,
            "height": null,
            "min_height": null,
            "padding": null,
            "grid_auto_rows": null,
            "grid_gap": null,
            "max_width": null,
            "order": null,
            "_view_module_version": "1.2.0",
            "grid_template_areas": null,
            "object_position": null,
            "object_fit": null,
            "grid_auto_columns": null,
            "margin": null,
            "display": null,
            "left": null
          }
        },
        "770b98f198a04dec9c98d9ba49c15323": {
          "model_module": "@jupyter-widgets/controls",
          "model_name": "HBoxModel",
          "state": {
            "_view_name": "HBoxView",
            "_dom_classes": [],
            "_model_name": "HBoxModel",
            "_view_module": "@jupyter-widgets/controls",
            "_model_module_version": "1.5.0",
            "_view_count": null,
            "_view_module_version": "1.5.0",
            "box_style": "",
            "layout": "IPY_MODEL_a328f32c48fb4032826ca3a573aa4267",
            "_model_module": "@jupyter-widgets/controls",
            "children": [
              "IPY_MODEL_452ecb9d8b76498284b8eda17133ab91",
              "IPY_MODEL_f6bc6ca7b64748958acee13a974384ca"
            ]
          }
        },
        "a328f32c48fb4032826ca3a573aa4267": {
          "model_module": "@jupyter-widgets/base",
          "model_name": "LayoutModel",
          "state": {
            "_view_name": "LayoutView",
            "grid_template_rows": null,
            "right": null,
            "justify_content": null,
            "_view_module": "@jupyter-widgets/base",
            "overflow": null,
            "_model_module_version": "1.2.0",
            "_view_count": null,
            "flex_flow": null,
            "width": null,
            "min_width": null,
            "border": null,
            "align_items": null,
            "bottom": null,
            "_model_module": "@jupyter-widgets/base",
            "top": null,
            "grid_column": null,
            "overflow_y": null,
            "overflow_x": null,
            "grid_auto_flow": null,
            "grid_area": null,
            "grid_template_columns": null,
            "flex": null,
            "_model_name": "LayoutModel",
            "justify_items": null,
            "grid_row": null,
            "max_height": null,
            "align_content": null,
            "visibility": null,
            "align_self": null,
            "height": null,
            "min_height": null,
            "padding": null,
            "grid_auto_rows": null,
            "grid_gap": null,
            "max_width": null,
            "order": null,
            "_view_module_version": "1.2.0",
            "grid_template_areas": null,
            "object_position": null,
            "object_fit": null,
            "grid_auto_columns": null,
            "margin": null,
            "display": null,
            "left": null
          }
        },
        "452ecb9d8b76498284b8eda17133ab91": {
          "model_module": "@jupyter-widgets/controls",
          "model_name": "FloatProgressModel",
          "state": {
            "_view_name": "ProgressView",
            "style": "IPY_MODEL_3a8dd054ede1473588f4efc62d233b5f",
            "_dom_classes": [],
            "description": "100%",
            "_model_name": "FloatProgressModel",
            "bar_style": "success",
            "max": 50,
            "_view_module": "@jupyter-widgets/controls",
            "_model_module_version": "1.5.0",
            "value": 50,
            "_view_count": null,
            "_view_module_version": "1.5.0",
            "orientation": "horizontal",
            "min": 0,
            "description_tooltip": null,
            "_model_module": "@jupyter-widgets/controls",
            "layout": "IPY_MODEL_d7851d8636474485bd05210e012229ef"
          }
        },
        "f6bc6ca7b64748958acee13a974384ca": {
          "model_module": "@jupyter-widgets/controls",
          "model_name": "HTMLModel",
          "state": {
            "_view_name": "HTMLView",
            "style": "IPY_MODEL_fce52f15bc7d45f89fd487d82f789924",
            "_dom_classes": [],
            "description": "",
            "_model_name": "HTMLModel",
            "placeholder": "​",
            "_view_module": "@jupyter-widgets/controls",
            "_model_module_version": "1.5.0",
            "value": " 50/50 [02:39&lt;00:00,  3.19s/it]",
            "_view_count": null,
            "_view_module_version": "1.5.0",
            "description_tooltip": null,
            "_model_module": "@jupyter-widgets/controls",
            "layout": "IPY_MODEL_0b31b1e99a744cc3b359251fcb1d916e"
          }
        },
        "3a8dd054ede1473588f4efc62d233b5f": {
          "model_module": "@jupyter-widgets/controls",
          "model_name": "ProgressStyleModel",
          "state": {
            "_view_name": "StyleView",
            "_model_name": "ProgressStyleModel",
            "description_width": "initial",
            "_view_module": "@jupyter-widgets/base",
            "_model_module_version": "1.5.0",
            "_view_count": null,
            "_view_module_version": "1.2.0",
            "bar_color": null,
            "_model_module": "@jupyter-widgets/controls"
          }
        },
        "d7851d8636474485bd05210e012229ef": {
          "model_module": "@jupyter-widgets/base",
          "model_name": "LayoutModel",
          "state": {
            "_view_name": "LayoutView",
            "grid_template_rows": null,
            "right": null,
            "justify_content": null,
            "_view_module": "@jupyter-widgets/base",
            "overflow": null,
            "_model_module_version": "1.2.0",
            "_view_count": null,
            "flex_flow": null,
            "width": null,
            "min_width": null,
            "border": null,
            "align_items": null,
            "bottom": null,
            "_model_module": "@jupyter-widgets/base",
            "top": null,
            "grid_column": null,
            "overflow_y": null,
            "overflow_x": null,
            "grid_auto_flow": null,
            "grid_area": null,
            "grid_template_columns": null,
            "flex": null,
            "_model_name": "LayoutModel",
            "justify_items": null,
            "grid_row": null,
            "max_height": null,
            "align_content": null,
            "visibility": null,
            "align_self": null,
            "height": null,
            "min_height": null,
            "padding": null,
            "grid_auto_rows": null,
            "grid_gap": null,
            "max_width": null,
            "order": null,
            "_view_module_version": "1.2.0",
            "grid_template_areas": null,
            "object_position": null,
            "object_fit": null,
            "grid_auto_columns": null,
            "margin": null,
            "display": null,
            "left": null
          }
        },
        "fce52f15bc7d45f89fd487d82f789924": {
          "model_module": "@jupyter-widgets/controls",
          "model_name": "DescriptionStyleModel",
          "state": {
            "_view_name": "StyleView",
            "_model_name": "DescriptionStyleModel",
            "description_width": "",
            "_view_module": "@jupyter-widgets/base",
            "_model_module_version": "1.5.0",
            "_view_count": null,
            "_view_module_version": "1.2.0",
            "_model_module": "@jupyter-widgets/controls"
          }
        },
        "0b31b1e99a744cc3b359251fcb1d916e": {
          "model_module": "@jupyter-widgets/base",
          "model_name": "LayoutModel",
          "state": {
            "_view_name": "LayoutView",
            "grid_template_rows": null,
            "right": null,
            "justify_content": null,
            "_view_module": "@jupyter-widgets/base",
            "overflow": null,
            "_model_module_version": "1.2.0",
            "_view_count": null,
            "flex_flow": null,
            "width": null,
            "min_width": null,
            "border": null,
            "align_items": null,
            "bottom": null,
            "_model_module": "@jupyter-widgets/base",
            "top": null,
            "grid_column": null,
            "overflow_y": null,
            "overflow_x": null,
            "grid_auto_flow": null,
            "grid_area": null,
            "grid_template_columns": null,
            "flex": null,
            "_model_name": "LayoutModel",
            "justify_items": null,
            "grid_row": null,
            "max_height": null,
            "align_content": null,
            "visibility": null,
            "align_self": null,
            "height": null,
            "min_height": null,
            "padding": null,
            "grid_auto_rows": null,
            "grid_gap": null,
            "max_width": null,
            "order": null,
            "_view_module_version": "1.2.0",
            "grid_template_areas": null,
            "object_position": null,
            "object_fit": null,
            "grid_auto_columns": null,
            "margin": null,
            "display": null,
            "left": null
          }
        }
      }
    },
    "accelerator": "GPU"
  },
  "cells": [
    {
      "cell_type": "markdown",
      "metadata": {
        "id": "view-in-github",
        "colab_type": "text"
      },
      "source": [
        "<a href=\"https://colab.research.google.com/github/tsubauaaa/AITrialTraining/blob/main/Training10/AITraining10-1.ipynb\" target=\"_parent\"><img src=\"https://colab.research.google.com/assets/colab-badge.svg\" alt=\"Open In Colab\"/></a>"
      ]
    },
    {
      "cell_type": "markdown",
      "metadata": {
        "id": "44JU1FRyJd_1"
      },
      "source": [
        "# 課題1\n",
        "1. 音声を画像で保存 or Datasetで前処理を行う  \n",
        "予め保存しておいたほうが処理効率は高いが、欠損もある (0-255になるため)\n",
        "2. CNNで学習 (画像のように扱えるが、値は0-255ではないことに注意)\n"
      ]
    },
    {
      "cell_type": "code",
      "metadata": {
        "colab": {
          "base_uri": "https://localhost:8080/"
        },
        "id": "lqDWMwlrukZ8",
        "outputId": "5ebff113-0b51-4a4b-f861-f5afc5892d99"
      },
      "source": [
        " # Google Driveをマウントする\n",
        "from google.colab import drive\n",
        "drive.mount('/content/drive')"
      ],
      "execution_count": 1,
      "outputs": [
        {
          "output_type": "stream",
          "text": [
            "Drive already mounted at /content/drive; to attempt to forcibly remount, call drive.mount(\"/content/drive\", force_remount=True).\n"
          ],
          "name": "stdout"
        }
      ]
    },
    {
      "cell_type": "code",
      "metadata": {
        "colab": {
          "base_uri": "https://localhost:8080/"
        },
        "id": "-yYhplI3J3ot",
        "outputId": "60d936e9-adb1-4316-94fb-073c012e236a"
      },
      "source": [
        "# 各音声を画像として保存\n",
        "\n",
        "from pathlib import Path\n",
        "\n",
        "audio_dir = Path('/content/drive/My Drive/Colab Notebooks/AITraining/RAVDESS/')\n",
        "audio_files = audio_dir.glob(\"**/*.wav\")\n",
        "audio_file_list = list(audio_files)\n",
        "print(audio_file_list)\n",
        "print(len(audio_file_list))"
      ],
      "execution_count": 2,
      "outputs": [
        {
          "output_type": "stream",
          "text": [
            "[PosixPath('/content/drive/My Drive/Colab Notebooks/AITraining/RAVDESS/Actor_10/03-01-02-02-02-01-10.wav'), PosixPath('/content/drive/My Drive/Colab Notebooks/AITraining/RAVDESS/Actor_10/03-01-04-01-02-01-10.wav'), PosixPath('/content/drive/My Drive/Colab Notebooks/AITraining/RAVDESS/Actor_10/03-01-04-01-01-01-10.wav'), PosixPath('/content/drive/My Drive/Colab Notebooks/AITraining/RAVDESS/Actor_10/03-01-04-02-02-01-10.wav'), PosixPath('/content/drive/My Drive/Colab Notebooks/AITraining/RAVDESS/Actor_10/03-01-01-01-01-02-10.wav'), PosixPath('/content/drive/My Drive/Colab Notebooks/AITraining/RAVDESS/Actor_10/03-01-03-02-01-01-10.wav'), PosixPath('/content/drive/My Drive/Colab Notebooks/AITraining/RAVDESS/Actor_10/03-01-02-02-01-01-10.wav'), PosixPath('/content/drive/My Drive/Colab Notebooks/AITraining/RAVDESS/Actor_10/03-01-01-01-02-02-10.wav'), PosixPath('/content/drive/My Drive/Colab Notebooks/AITraining/RAVDESS/Actor_10/03-01-03-01-01-01-10.wav'), PosixPath('/content/drive/My Drive/Colab Notebooks/AITraining/RAVDESS/Actor_10/03-01-02-01-02-01-10.wav'), PosixPath('/content/drive/My Drive/Colab Notebooks/AITraining/RAVDESS/Actor_10/03-01-02-01-02-02-10.wav'), PosixPath('/content/drive/My Drive/Colab Notebooks/AITraining/RAVDESS/Actor_10/03-01-04-01-01-02-10.wav'), PosixPath('/content/drive/My Drive/Colab Notebooks/AITraining/RAVDESS/Actor_10/03-01-04-01-02-02-10.wav'), PosixPath('/content/drive/My Drive/Colab Notebooks/AITraining/RAVDESS/Actor_10/03-01-03-02-02-01-10.wav'), PosixPath('/content/drive/My Drive/Colab Notebooks/AITraining/RAVDESS/Actor_10/03-01-01-01-02-01-10.wav'), PosixPath('/content/drive/My Drive/Colab Notebooks/AITraining/RAVDESS/Actor_10/03-01-04-02-01-01-10.wav'), PosixPath('/content/drive/My Drive/Colab Notebooks/AITraining/RAVDESS/Actor_10/03-01-04-02-01-02-10.wav'), PosixPath('/content/drive/My Drive/Colab Notebooks/AITraining/RAVDESS/Actor_10/03-01-02-02-01-02-10.wav'), PosixPath('/content/drive/My Drive/Colab Notebooks/AITraining/RAVDESS/Actor_10/03-01-03-01-02-01-10.wav'), PosixPath('/content/drive/My Drive/Colab Notebooks/AITraining/RAVDESS/Actor_10/03-01-02-01-01-02-10.wav'), PosixPath('/content/drive/My Drive/Colab Notebooks/AITraining/RAVDESS/Actor_10/03-01-03-01-01-02-10.wav'), PosixPath('/content/drive/My Drive/Colab Notebooks/AITraining/RAVDESS/Actor_10/03-01-03-02-02-02-10.wav'), PosixPath('/content/drive/My Drive/Colab Notebooks/AITraining/RAVDESS/Actor_10/03-01-02-02-02-02-10.wav'), PosixPath('/content/drive/My Drive/Colab Notebooks/AITraining/RAVDESS/Actor_10/03-01-03-01-02-02-10.wav'), PosixPath('/content/drive/My Drive/Colab Notebooks/AITraining/RAVDESS/Actor_10/03-01-02-01-01-01-10.wav'), PosixPath('/content/drive/My Drive/Colab Notebooks/AITraining/RAVDESS/Actor_10/03-01-01-01-01-01-10.wav'), PosixPath('/content/drive/My Drive/Colab Notebooks/AITraining/RAVDESS/Actor_10/03-01-03-02-01-02-10.wav'), PosixPath('/content/drive/My Drive/Colab Notebooks/AITraining/RAVDESS/Actor_10/03-01-08-02-02-01-10.wav'), PosixPath('/content/drive/My Drive/Colab Notebooks/AITraining/RAVDESS/Actor_10/03-01-07-01-01-02-10.wav'), PosixPath('/content/drive/My Drive/Colab Notebooks/AITraining/RAVDESS/Actor_10/03-01-05-01-01-01-10.wav'), PosixPath('/content/drive/My Drive/Colab Notebooks/AITraining/RAVDESS/Actor_10/03-01-08-02-01-02-10.wav'), PosixPath('/content/drive/My Drive/Colab Notebooks/AITraining/RAVDESS/Actor_10/03-01-08-01-01-02-10.wav'), PosixPath('/content/drive/My Drive/Colab Notebooks/AITraining/RAVDESS/Actor_10/03-01-05-01-02-02-10.wav'), PosixPath('/content/drive/My Drive/Colab Notebooks/AITraining/RAVDESS/Actor_10/03-01-06-02-01-02-10.wav'), PosixPath('/content/drive/My Drive/Colab Notebooks/AITraining/RAVDESS/Actor_10/03-01-05-01-01-02-10.wav'), PosixPath('/content/drive/My Drive/Colab Notebooks/AITraining/RAVDESS/Actor_10/03-01-06-02-02-02-10.wav'), PosixPath('/content/drive/My Drive/Colab Notebooks/AITraining/RAVDESS/Actor_10/03-01-07-02-02-02-10.wav'), PosixPath('/content/drive/My Drive/Colab Notebooks/AITraining/RAVDESS/Actor_10/03-01-06-01-01-02-10.wav'), PosixPath('/content/drive/My Drive/Colab Notebooks/AITraining/RAVDESS/Actor_10/03-01-06-01-02-01-10.wav'), PosixPath('/content/drive/My Drive/Colab Notebooks/AITraining/RAVDESS/Actor_10/03-01-07-01-01-01-10.wav'), PosixPath('/content/drive/My Drive/Colab Notebooks/AITraining/RAVDESS/Actor_10/03-01-07-01-02-01-10.wav'), PosixPath('/content/drive/My Drive/Colab Notebooks/AITraining/RAVDESS/Actor_10/03-01-07-01-02-02-10.wav'), PosixPath('/content/drive/My Drive/Colab Notebooks/AITraining/RAVDESS/Actor_10/03-01-05-02-02-02-10.wav'), PosixPath('/content/drive/My Drive/Colab Notebooks/AITraining/RAVDESS/Actor_10/03-01-08-01-02-01-10.wav'), PosixPath('/content/drive/My Drive/Colab Notebooks/AITraining/RAVDESS/Actor_10/03-01-06-01-01-01-10.wav'), PosixPath('/content/drive/My Drive/Colab Notebooks/AITraining/RAVDESS/Actor_10/03-01-08-02-02-02-10.wav'), PosixPath('/content/drive/My Drive/Colab Notebooks/AITraining/RAVDESS/Actor_10/03-01-06-02-02-01-10.wav'), PosixPath('/content/drive/My Drive/Colab Notebooks/AITraining/RAVDESS/Actor_10/03-01-07-02-01-01-10.wav'), PosixPath('/content/drive/My Drive/Colab Notebooks/AITraining/RAVDESS/Actor_10/03-01-05-01-02-01-10.wav'), PosixPath('/content/drive/My Drive/Colab Notebooks/AITraining/RAVDESS/Actor_10/03-01-07-02-02-01-10.wav'), PosixPath('/content/drive/My Drive/Colab Notebooks/AITraining/RAVDESS/Actor_10/03-01-06-02-01-01-10.wav'), PosixPath('/content/drive/My Drive/Colab Notebooks/AITraining/RAVDESS/Actor_10/03-01-05-02-01-01-10.wav'), PosixPath('/content/drive/My Drive/Colab Notebooks/AITraining/RAVDESS/Actor_10/03-01-08-01-01-01-10.wav'), PosixPath('/content/drive/My Drive/Colab Notebooks/AITraining/RAVDESS/Actor_10/03-01-07-02-01-02-10.wav'), PosixPath('/content/drive/My Drive/Colab Notebooks/AITraining/RAVDESS/Actor_10/03-01-05-02-01-02-10.wav'), PosixPath('/content/drive/My Drive/Colab Notebooks/AITraining/RAVDESS/Actor_10/03-01-04-02-02-02-10.wav'), PosixPath('/content/drive/My Drive/Colab Notebooks/AITraining/RAVDESS/Actor_10/03-01-08-02-01-01-10.wav'), PosixPath('/content/drive/My Drive/Colab Notebooks/AITraining/RAVDESS/Actor_10/03-01-08-01-02-02-10.wav'), PosixPath('/content/drive/My Drive/Colab Notebooks/AITraining/RAVDESS/Actor_10/03-01-06-01-02-02-10.wav'), PosixPath('/content/drive/My Drive/Colab Notebooks/AITraining/RAVDESS/Actor_10/03-01-05-02-02-01-10.wav'), PosixPath('/content/drive/My Drive/Colab Notebooks/AITraining/RAVDESS/Actor_16/03-01-03-02-01-02-16.wav'), PosixPath('/content/drive/My Drive/Colab Notebooks/AITraining/RAVDESS/Actor_16/03-01-01-01-02-01-16.wav'), PosixPath('/content/drive/My Drive/Colab Notebooks/AITraining/RAVDESS/Actor_16/03-01-03-02-02-02-16.wav'), PosixPath('/content/drive/My Drive/Colab Notebooks/AITraining/RAVDESS/Actor_16/03-01-06-01-02-02-16.wav'), PosixPath('/content/drive/My Drive/Colab Notebooks/AITraining/RAVDESS/Actor_16/03-01-04-01-01-01-16.wav'), PosixPath('/content/drive/My Drive/Colab Notebooks/AITraining/RAVDESS/Actor_16/03-01-03-02-01-01-16.wav'), PosixPath('/content/drive/My Drive/Colab Notebooks/AITraining/RAVDESS/Actor_16/03-01-05-01-02-02-16.wav'), PosixPath('/content/drive/My Drive/Colab Notebooks/AITraining/RAVDESS/Actor_16/03-01-03-02-02-01-16.wav'), PosixPath('/content/drive/My Drive/Colab Notebooks/AITraining/RAVDESS/Actor_16/03-01-05-02-02-01-16.wav'), PosixPath('/content/drive/My Drive/Colab Notebooks/AITraining/RAVDESS/Actor_16/03-01-04-02-01-01-16.wav'), PosixPath('/content/drive/My Drive/Colab Notebooks/AITraining/RAVDESS/Actor_16/03-01-04-02-01-02-16.wav'), PosixPath('/content/drive/My Drive/Colab Notebooks/AITraining/RAVDESS/Actor_16/03-01-05-02-02-02-16.wav'), PosixPath('/content/drive/My Drive/Colab Notebooks/AITraining/RAVDESS/Actor_16/03-01-05-01-01-02-16.wav'), PosixPath('/content/drive/My Drive/Colab Notebooks/AITraining/RAVDESS/Actor_16/03-01-02-01-02-01-16.wav'), PosixPath('/content/drive/My Drive/Colab Notebooks/AITraining/RAVDESS/Actor_16/03-01-05-01-01-01-16.wav'), PosixPath('/content/drive/My Drive/Colab Notebooks/AITraining/RAVDESS/Actor_16/03-01-04-01-02-01-16.wav'), PosixPath('/content/drive/My Drive/Colab Notebooks/AITraining/RAVDESS/Actor_16/03-01-04-01-01-02-16.wav'), PosixPath('/content/drive/My Drive/Colab Notebooks/AITraining/RAVDESS/Actor_16/03-01-06-01-02-01-16.wav'), PosixPath('/content/drive/My Drive/Colab Notebooks/AITraining/RAVDESS/Actor_16/03-01-02-01-01-02-16.wav'), PosixPath('/content/drive/My Drive/Colab Notebooks/AITraining/RAVDESS/Actor_16/03-01-02-02-01-01-16.wav'), PosixPath('/content/drive/My Drive/Colab Notebooks/AITraining/RAVDESS/Actor_16/03-01-05-01-02-01-16.wav'), PosixPath('/content/drive/My Drive/Colab Notebooks/AITraining/RAVDESS/Actor_16/03-01-01-01-01-02-16.wav'), PosixPath('/content/drive/My Drive/Colab Notebooks/AITraining/RAVDESS/Actor_16/03-01-01-01-02-02-16.wav'), PosixPath('/content/drive/My Drive/Colab Notebooks/AITraining/RAVDESS/Actor_16/03-01-02-02-02-01-16.wav'), PosixPath('/content/drive/My Drive/Colab Notebooks/AITraining/RAVDESS/Actor_16/03-01-04-02-02-02-16.wav'), PosixPath('/content/drive/My Drive/Colab Notebooks/AITraining/RAVDESS/Actor_16/03-01-05-02-01-01-16.wav'), PosixPath('/content/drive/My Drive/Colab Notebooks/AITraining/RAVDESS/Actor_16/03-01-02-01-02-02-16.wav'), PosixPath('/content/drive/My Drive/Colab Notebooks/AITraining/RAVDESS/Actor_16/03-01-02-02-02-02-16.wav'), PosixPath('/content/drive/My Drive/Colab Notebooks/AITraining/RAVDESS/Actor_16/03-01-03-01-01-01-16.wav'), PosixPath('/content/drive/My Drive/Colab Notebooks/AITraining/RAVDESS/Actor_16/03-01-04-02-02-01-16.wav'), PosixPath('/content/drive/My Drive/Colab Notebooks/AITraining/RAVDESS/Actor_16/03-01-05-02-01-02-16.wav'), PosixPath('/content/drive/My Drive/Colab Notebooks/AITraining/RAVDESS/Actor_16/03-01-04-01-02-02-16.wav'), PosixPath('/content/drive/My Drive/Colab Notebooks/AITraining/RAVDESS/Actor_16/03-01-03-01-02-02-16.wav'), PosixPath('/content/drive/My Drive/Colab Notebooks/AITraining/RAVDESS/Actor_16/03-01-01-01-01-01-16.wav'), PosixPath('/content/drive/My Drive/Colab Notebooks/AITraining/RAVDESS/Actor_16/03-01-03-01-01-02-16.wav'), PosixPath('/content/drive/My Drive/Colab Notebooks/AITraining/RAVDESS/Actor_16/03-01-02-01-01-01-16.wav'), PosixPath('/content/drive/My Drive/Colab Notebooks/AITraining/RAVDESS/Actor_16/03-01-06-01-01-02-16.wav'), PosixPath('/content/drive/My Drive/Colab Notebooks/AITraining/RAVDESS/Actor_16/03-01-02-02-01-02-16.wav'), PosixPath('/content/drive/My Drive/Colab Notebooks/AITraining/RAVDESS/Actor_16/03-01-03-01-02-01-16.wav'), PosixPath('/content/drive/My Drive/Colab Notebooks/AITraining/RAVDESS/Actor_16/03-01-06-02-01-01-16.wav'), PosixPath('/content/drive/My Drive/Colab Notebooks/AITraining/RAVDESS/Actor_16/03-01-06-01-01-01-16.wav'), PosixPath('/content/drive/My Drive/Colab Notebooks/AITraining/RAVDESS/Actor_16/03-01-08-02-02-01-16.wav'), PosixPath('/content/drive/My Drive/Colab Notebooks/AITraining/RAVDESS/Actor_16/03-01-08-02-02-02-16.wav'), PosixPath('/content/drive/My Drive/Colab Notebooks/AITraining/RAVDESS/Actor_16/03-01-07-01-01-02-16.wav'), PosixPath('/content/drive/My Drive/Colab Notebooks/AITraining/RAVDESS/Actor_16/03-01-08-01-02-02-16.wav'), PosixPath('/content/drive/My Drive/Colab Notebooks/AITraining/RAVDESS/Actor_16/03-01-08-01-01-02-16.wav'), PosixPath('/content/drive/My Drive/Colab Notebooks/AITraining/RAVDESS/Actor_16/03-01-06-02-01-02-16.wav'), PosixPath('/content/drive/My Drive/Colab Notebooks/AITraining/RAVDESS/Actor_16/03-01-08-02-01-01-16.wav'), PosixPath('/content/drive/My Drive/Colab Notebooks/AITraining/RAVDESS/Actor_16/03-01-07-02-01-02-16.wav'), PosixPath('/content/drive/My Drive/Colab Notebooks/AITraining/RAVDESS/Actor_16/03-01-07-01-01-01-16.wav'), PosixPath('/content/drive/My Drive/Colab Notebooks/AITraining/RAVDESS/Actor_16/03-01-08-01-02-01-16.wav'), PosixPath('/content/drive/My Drive/Colab Notebooks/AITraining/RAVDESS/Actor_16/03-01-07-02-02-01-16.wav'), PosixPath('/content/drive/My Drive/Colab Notebooks/AITraining/RAVDESS/Actor_16/03-01-07-02-02-02-16.wav'), PosixPath('/content/drive/My Drive/Colab Notebooks/AITraining/RAVDESS/Actor_16/03-01-07-01-02-02-16.wav'), PosixPath('/content/drive/My Drive/Colab Notebooks/AITraining/RAVDESS/Actor_16/03-01-08-01-01-01-16.wav'), PosixPath('/content/drive/My Drive/Colab Notebooks/AITraining/RAVDESS/Actor_16/03-01-07-01-02-01-16.wav'), PosixPath('/content/drive/My Drive/Colab Notebooks/AITraining/RAVDESS/Actor_16/03-01-07-02-01-01-16.wav'), PosixPath('/content/drive/My Drive/Colab Notebooks/AITraining/RAVDESS/Actor_16/03-01-06-02-02-01-16.wav'), PosixPath('/content/drive/My Drive/Colab Notebooks/AITraining/RAVDESS/Actor_16/03-01-06-02-02-02-16.wav'), PosixPath('/content/drive/My Drive/Colab Notebooks/AITraining/RAVDESS/Actor_16/03-01-08-02-01-02-16.wav'), PosixPath('/content/drive/My Drive/Colab Notebooks/AITraining/RAVDESS/Actor_17/03-01-05-02-01-01-17.wav'), PosixPath('/content/drive/My Drive/Colab Notebooks/AITraining/RAVDESS/Actor_17/03-01-02-02-01-02-17.wav'), PosixPath('/content/drive/My Drive/Colab Notebooks/AITraining/RAVDESS/Actor_17/03-01-02-02-01-01-17.wav'), PosixPath('/content/drive/My Drive/Colab Notebooks/AITraining/RAVDESS/Actor_17/03-01-03-01-02-02-17.wav'), PosixPath('/content/drive/My Drive/Colab Notebooks/AITraining/RAVDESS/Actor_17/03-01-05-02-01-02-17.wav'), PosixPath('/content/drive/My Drive/Colab Notebooks/AITraining/RAVDESS/Actor_17/03-01-02-01-02-02-17.wav'), PosixPath('/content/drive/My Drive/Colab Notebooks/AITraining/RAVDESS/Actor_17/03-01-04-01-02-01-17.wav'), PosixPath('/content/drive/My Drive/Colab Notebooks/AITraining/RAVDESS/Actor_17/03-01-03-01-01-01-17.wav'), PosixPath('/content/drive/My Drive/Colab Notebooks/AITraining/RAVDESS/Actor_17/03-01-05-01-02-01-17.wav'), PosixPath('/content/drive/My Drive/Colab Notebooks/AITraining/RAVDESS/Actor_17/03-01-01-01-01-02-17.wav'), PosixPath('/content/drive/My Drive/Colab Notebooks/AITraining/RAVDESS/Actor_17/03-01-04-02-01-01-17.wav'), PosixPath('/content/drive/My Drive/Colab Notebooks/AITraining/RAVDESS/Actor_17/03-01-03-02-02-01-17.wav'), PosixPath('/content/drive/My Drive/Colab Notebooks/AITraining/RAVDESS/Actor_17/03-01-03-02-02-02-17.wav'), PosixPath('/content/drive/My Drive/Colab Notebooks/AITraining/RAVDESS/Actor_17/03-01-01-01-01-01-17.wav'), PosixPath('/content/drive/My Drive/Colab Notebooks/AITraining/RAVDESS/Actor_17/03-01-05-01-01-01-17.wav'), PosixPath('/content/drive/My Drive/Colab Notebooks/AITraining/RAVDESS/Actor_17/03-01-02-02-02-02-17.wav'), PosixPath('/content/drive/My Drive/Colab Notebooks/AITraining/RAVDESS/Actor_17/03-01-03-02-01-02-17.wav'), PosixPath('/content/drive/My Drive/Colab Notebooks/AITraining/RAVDESS/Actor_17/03-01-04-01-01-01-17.wav'), PosixPath('/content/drive/My Drive/Colab Notebooks/AITraining/RAVDESS/Actor_17/03-01-01-01-02-01-17.wav'), PosixPath('/content/drive/My Drive/Colab Notebooks/AITraining/RAVDESS/Actor_17/03-01-02-01-02-01-17.wav'), PosixPath('/content/drive/My Drive/Colab Notebooks/AITraining/RAVDESS/Actor_17/03-01-02-01-01-02-17.wav'), PosixPath('/content/drive/My Drive/Colab Notebooks/AITraining/RAVDESS/Actor_17/03-01-04-02-02-01-17.wav'), PosixPath('/content/drive/My Drive/Colab Notebooks/AITraining/RAVDESS/Actor_17/03-01-03-01-02-01-17.wav'), PosixPath('/content/drive/My Drive/Colab Notebooks/AITraining/RAVDESS/Actor_17/03-01-04-01-01-02-17.wav'), PosixPath('/content/drive/My Drive/Colab Notebooks/AITraining/RAVDESS/Actor_17/03-01-05-01-02-02-17.wav'), PosixPath('/content/drive/My Drive/Colab Notebooks/AITraining/RAVDESS/Actor_17/03-01-03-02-01-01-17.wav'), PosixPath('/content/drive/My Drive/Colab Notebooks/AITraining/RAVDESS/Actor_17/03-01-01-01-02-02-17.wav'), PosixPath('/content/drive/My Drive/Colab Notebooks/AITraining/RAVDESS/Actor_17/03-01-04-02-02-02-17.wav'), PosixPath('/content/drive/My Drive/Colab Notebooks/AITraining/RAVDESS/Actor_17/03-01-04-02-01-02-17.wav'), PosixPath('/content/drive/My Drive/Colab Notebooks/AITraining/RAVDESS/Actor_17/03-01-03-01-01-02-17.wav'), PosixPath('/content/drive/My Drive/Colab Notebooks/AITraining/RAVDESS/Actor_17/03-01-02-01-01-01-17.wav'), PosixPath('/content/drive/My Drive/Colab Notebooks/AITraining/RAVDESS/Actor_17/03-01-05-01-01-02-17.wav'), PosixPath('/content/drive/My Drive/Colab Notebooks/AITraining/RAVDESS/Actor_17/03-01-04-01-02-02-17.wav'), PosixPath('/content/drive/My Drive/Colab Notebooks/AITraining/RAVDESS/Actor_17/03-01-02-02-02-01-17.wav'), PosixPath('/content/drive/My Drive/Colab Notebooks/AITraining/RAVDESS/Actor_17/03-01-07-02-01-02-17.wav'), PosixPath('/content/drive/My Drive/Colab Notebooks/AITraining/RAVDESS/Actor_17/03-01-06-02-02-01-17.wav'), PosixPath('/content/drive/My Drive/Colab Notebooks/AITraining/RAVDESS/Actor_17/03-01-07-01-01-01-17.wav'), PosixPath('/content/drive/My Drive/Colab Notebooks/AITraining/RAVDESS/Actor_17/03-01-07-02-02-01-17.wav'), PosixPath('/content/drive/My Drive/Colab Notebooks/AITraining/RAVDESS/Actor_17/03-01-06-01-01-02-17.wav'), PosixPath('/content/drive/My Drive/Colab Notebooks/AITraining/RAVDESS/Actor_17/03-01-07-01-01-02-17.wav'), PosixPath('/content/drive/My Drive/Colab Notebooks/AITraining/RAVDESS/Actor_17/03-01-07-01-02-02-17.wav'), PosixPath('/content/drive/My Drive/Colab Notebooks/AITraining/RAVDESS/Actor_17/03-01-08-02-02-01-17.wav'), PosixPath('/content/drive/My Drive/Colab Notebooks/AITraining/RAVDESS/Actor_17/03-01-06-01-01-01-17.wav'), PosixPath('/content/drive/My Drive/Colab Notebooks/AITraining/RAVDESS/Actor_17/03-01-05-02-02-02-17.wav'), PosixPath('/content/drive/My Drive/Colab Notebooks/AITraining/RAVDESS/Actor_17/03-01-07-02-01-01-17.wav'), PosixPath('/content/drive/My Drive/Colab Notebooks/AITraining/RAVDESS/Actor_17/03-01-08-01-02-02-17.wav'), PosixPath('/content/drive/My Drive/Colab Notebooks/AITraining/RAVDESS/Actor_17/03-01-06-02-01-02-17.wav'), PosixPath('/content/drive/My Drive/Colab Notebooks/AITraining/RAVDESS/Actor_17/03-01-06-02-01-01-17.wav'), PosixPath('/content/drive/My Drive/Colab Notebooks/AITraining/RAVDESS/Actor_17/03-01-08-01-02-01-17.wav'), PosixPath('/content/drive/My Drive/Colab Notebooks/AITraining/RAVDESS/Actor_17/03-01-08-02-01-01-17.wav'), PosixPath('/content/drive/My Drive/Colab Notebooks/AITraining/RAVDESS/Actor_17/03-01-08-01-01-02-17.wav'), PosixPath('/content/drive/My Drive/Colab Notebooks/AITraining/RAVDESS/Actor_17/03-01-06-02-02-02-17.wav'), PosixPath('/content/drive/My Drive/Colab Notebooks/AITraining/RAVDESS/Actor_17/03-01-06-01-02-02-17.wav'), PosixPath('/content/drive/My Drive/Colab Notebooks/AITraining/RAVDESS/Actor_17/03-01-08-01-01-01-17.wav'), PosixPath('/content/drive/My Drive/Colab Notebooks/AITraining/RAVDESS/Actor_17/03-01-08-02-02-02-17.wav'), PosixPath('/content/drive/My Drive/Colab Notebooks/AITraining/RAVDESS/Actor_17/03-01-06-01-02-01-17.wav'), PosixPath('/content/drive/My Drive/Colab Notebooks/AITraining/RAVDESS/Actor_17/03-01-05-02-02-01-17.wav'), PosixPath('/content/drive/My Drive/Colab Notebooks/AITraining/RAVDESS/Actor_17/03-01-07-01-02-01-17.wav'), PosixPath('/content/drive/My Drive/Colab Notebooks/AITraining/RAVDESS/Actor_17/03-01-08-02-01-02-17.wav'), PosixPath('/content/drive/My Drive/Colab Notebooks/AITraining/RAVDESS/Actor_17/03-01-07-02-02-02-17.wav'), PosixPath('/content/drive/My Drive/Colab Notebooks/AITraining/RAVDESS/Actor_04/03-01-03-02-01-01-04.wav'), PosixPath('/content/drive/My Drive/Colab Notebooks/AITraining/RAVDESS/Actor_04/03-01-01-01-01-01-04.wav'), PosixPath('/content/drive/My Drive/Colab Notebooks/AITraining/RAVDESS/Actor_04/03-01-03-02-02-01-04.wav'), PosixPath('/content/drive/My Drive/Colab Notebooks/AITraining/RAVDESS/Actor_04/03-01-02-01-01-01-04.wav'), PosixPath('/content/drive/My Drive/Colab Notebooks/AITraining/RAVDESS/Actor_04/03-01-04-02-02-01-04.wav'), PosixPath('/content/drive/My Drive/Colab Notebooks/AITraining/RAVDESS/Actor_04/03-01-02-02-02-01-04.wav'), PosixPath('/content/drive/My Drive/Colab Notebooks/AITraining/RAVDESS/Actor_04/03-01-03-02-02-02-04.wav'), PosixPath('/content/drive/My Drive/Colab Notebooks/AITraining/RAVDESS/Actor_04/03-01-04-01-02-01-04.wav'), PosixPath('/content/drive/My Drive/Colab Notebooks/AITraining/RAVDESS/Actor_04/03-01-04-01-02-02-04.wav'), PosixPath('/content/drive/My Drive/Colab Notebooks/AITraining/RAVDESS/Actor_04/03-01-03-01-02-01-04.wav'), PosixPath('/content/drive/My Drive/Colab Notebooks/AITraining/RAVDESS/Actor_04/03-01-03-02-01-02-04.wav'), PosixPath('/content/drive/My Drive/Colab Notebooks/AITraining/RAVDESS/Actor_04/03-01-04-01-01-02-04.wav'), PosixPath('/content/drive/My Drive/Colab Notebooks/AITraining/RAVDESS/Actor_04/03-01-03-01-01-01-04.wav'), PosixPath('/content/drive/My Drive/Colab Notebooks/AITraining/RAVDESS/Actor_04/03-01-03-01-01-02-04.wav'), PosixPath('/content/drive/My Drive/Colab Notebooks/AITraining/RAVDESS/Actor_04/03-01-03-01-02-02-04.wav'), PosixPath('/content/drive/My Drive/Colab Notebooks/AITraining/RAVDESS/Actor_04/03-01-04-01-01-01-04.wav'), PosixPath('/content/drive/My Drive/Colab Notebooks/AITraining/RAVDESS/Actor_04/03-01-04-02-01-01-04.wav'), PosixPath('/content/drive/My Drive/Colab Notebooks/AITraining/RAVDESS/Actor_04/03-01-01-01-02-02-04.wav'), PosixPath('/content/drive/My Drive/Colab Notebooks/AITraining/RAVDESS/Actor_04/03-01-02-02-02-02-04.wav'), PosixPath('/content/drive/My Drive/Colab Notebooks/AITraining/RAVDESS/Actor_04/03-01-02-02-01-01-04.wav'), PosixPath('/content/drive/My Drive/Colab Notebooks/AITraining/RAVDESS/Actor_04/03-01-05-01-01-01-04.wav'), PosixPath('/content/drive/My Drive/Colab Notebooks/AITraining/RAVDESS/Actor_04/03-01-02-01-02-02-04.wav'), PosixPath('/content/drive/My Drive/Colab Notebooks/AITraining/RAVDESS/Actor_04/03-01-02-01-02-01-04.wav'), PosixPath('/content/drive/My Drive/Colab Notebooks/AITraining/RAVDESS/Actor_04/03-01-05-01-01-02-04.wav'), PosixPath('/content/drive/My Drive/Colab Notebooks/AITraining/RAVDESS/Actor_04/03-01-02-01-01-02-04.wav'), PosixPath('/content/drive/My Drive/Colab Notebooks/AITraining/RAVDESS/Actor_04/03-01-04-02-02-02-04.wav'), PosixPath('/content/drive/My Drive/Colab Notebooks/AITraining/RAVDESS/Actor_04/03-01-04-02-01-02-04.wav'), PosixPath('/content/drive/My Drive/Colab Notebooks/AITraining/RAVDESS/Actor_04/03-01-01-01-02-01-04.wav'), PosixPath('/content/drive/My Drive/Colab Notebooks/AITraining/RAVDESS/Actor_04/03-01-01-01-01-02-04.wav'), PosixPath('/content/drive/My Drive/Colab Notebooks/AITraining/RAVDESS/Actor_04/03-01-02-02-01-02-04.wav'), PosixPath('/content/drive/My Drive/Colab Notebooks/AITraining/RAVDESS/Actor_04/03-01-08-02-02-01-04.wav'), PosixPath('/content/drive/My Drive/Colab Notebooks/AITraining/RAVDESS/Actor_04/03-01-06-01-02-02-04.wav'), PosixPath('/content/drive/My Drive/Colab Notebooks/AITraining/RAVDESS/Actor_04/03-01-08-01-01-02-04.wav'), PosixPath('/content/drive/My Drive/Colab Notebooks/AITraining/RAVDESS/Actor_04/03-01-05-01-02-01-04.wav'), PosixPath('/content/drive/My Drive/Colab Notebooks/AITraining/RAVDESS/Actor_04/03-01-08-01-02-01-04.wav'), PosixPath('/content/drive/My Drive/Colab Notebooks/AITraining/RAVDESS/Actor_04/03-01-06-02-01-02-04.wav'), PosixPath('/content/drive/My Drive/Colab Notebooks/AITraining/RAVDESS/Actor_04/03-01-07-02-02-02-04.wav'), PosixPath('/content/drive/My Drive/Colab Notebooks/AITraining/RAVDESS/Actor_04/03-01-07-02-01-01-04.wav'), PosixPath('/content/drive/My Drive/Colab Notebooks/AITraining/RAVDESS/Actor_04/03-01-06-02-02-02-04.wav'), PosixPath('/content/drive/My Drive/Colab Notebooks/AITraining/RAVDESS/Actor_04/03-01-07-01-01-02-04.wav'), PosixPath('/content/drive/My Drive/Colab Notebooks/AITraining/RAVDESS/Actor_04/03-01-05-02-01-02-04.wav'), PosixPath('/content/drive/My Drive/Colab Notebooks/AITraining/RAVDESS/Actor_04/03-01-08-01-01-01-04.wav'), PosixPath('/content/drive/My Drive/Colab Notebooks/AITraining/RAVDESS/Actor_04/03-01-06-01-01-01-04.wav'), PosixPath('/content/drive/My Drive/Colab Notebooks/AITraining/RAVDESS/Actor_04/03-01-07-01-02-02-04.wav'), PosixPath('/content/drive/My Drive/Colab Notebooks/AITraining/RAVDESS/Actor_04/03-01-05-02-01-01-04.wav'), PosixPath('/content/drive/My Drive/Colab Notebooks/AITraining/RAVDESS/Actor_04/03-01-07-01-01-01-04.wav'), PosixPath('/content/drive/My Drive/Colab Notebooks/AITraining/RAVDESS/Actor_04/03-01-08-02-01-01-04.wav'), PosixPath('/content/drive/My Drive/Colab Notebooks/AITraining/RAVDESS/Actor_04/03-01-06-01-02-01-04.wav'), PosixPath('/content/drive/My Drive/Colab Notebooks/AITraining/RAVDESS/Actor_04/03-01-07-02-01-02-04.wav'), PosixPath('/content/drive/My Drive/Colab Notebooks/AITraining/RAVDESS/Actor_04/03-01-06-01-01-02-04.wav'), PosixPath('/content/drive/My Drive/Colab Notebooks/AITraining/RAVDESS/Actor_04/03-01-05-02-02-02-04.wav'), PosixPath('/content/drive/My Drive/Colab Notebooks/AITraining/RAVDESS/Actor_04/03-01-08-02-02-02-04.wav'), PosixPath('/content/drive/My Drive/Colab Notebooks/AITraining/RAVDESS/Actor_04/03-01-08-02-01-02-04.wav'), PosixPath('/content/drive/My Drive/Colab Notebooks/AITraining/RAVDESS/Actor_04/03-01-08-01-02-02-04.wav'), PosixPath('/content/drive/My Drive/Colab Notebooks/AITraining/RAVDESS/Actor_04/03-01-07-02-02-01-04.wav'), PosixPath('/content/drive/My Drive/Colab Notebooks/AITraining/RAVDESS/Actor_04/03-01-07-01-02-01-04.wav'), PosixPath('/content/drive/My Drive/Colab Notebooks/AITraining/RAVDESS/Actor_04/03-01-05-02-02-01-04.wav'), PosixPath('/content/drive/My Drive/Colab Notebooks/AITraining/RAVDESS/Actor_04/03-01-05-01-02-02-04.wav'), PosixPath('/content/drive/My Drive/Colab Notebooks/AITraining/RAVDESS/Actor_04/03-01-06-02-01-01-04.wav'), PosixPath('/content/drive/My Drive/Colab Notebooks/AITraining/RAVDESS/Actor_04/03-01-06-02-02-01-04.wav'), PosixPath('/content/drive/My Drive/Colab Notebooks/AITraining/RAVDESS/Actor_21/03-01-01-01-02-02-21.wav'), PosixPath('/content/drive/My Drive/Colab Notebooks/AITraining/RAVDESS/Actor_21/03-01-02-01-02-01-21.wav'), PosixPath('/content/drive/My Drive/Colab Notebooks/AITraining/RAVDESS/Actor_21/03-01-02-01-01-02-21.wav'), PosixPath('/content/drive/My Drive/Colab Notebooks/AITraining/RAVDESS/Actor_21/03-01-01-01-02-01-21.wav'), PosixPath('/content/drive/My Drive/Colab Notebooks/AITraining/RAVDESS/Actor_21/03-01-01-01-01-01-21.wav'), PosixPath('/content/drive/My Drive/Colab Notebooks/AITraining/RAVDESS/Actor_21/03-01-01-01-01-02-21.wav'), PosixPath('/content/drive/My Drive/Colab Notebooks/AITraining/RAVDESS/Actor_21/03-01-02-01-01-01-21.wav'), PosixPath('/content/drive/My Drive/Colab Notebooks/AITraining/RAVDESS/Actor_21/03-01-08-01-01-01-21.wav'), PosixPath('/content/drive/My Drive/Colab Notebooks/AITraining/RAVDESS/Actor_21/03-01-04-01-02-01-21.wav'), PosixPath('/content/drive/My Drive/Colab Notebooks/AITraining/RAVDESS/Actor_21/03-01-03-01-01-02-21.wav'), PosixPath('/content/drive/My Drive/Colab Notebooks/AITraining/RAVDESS/Actor_21/03-01-02-01-02-02-21.wav'), PosixPath('/content/drive/My Drive/Colab Notebooks/AITraining/RAVDESS/Actor_21/03-01-06-01-02-01-21.wav'), PosixPath('/content/drive/My Drive/Colab Notebooks/AITraining/RAVDESS/Actor_21/03-01-04-01-01-02-21.wav'), PosixPath('/content/drive/My Drive/Colab Notebooks/AITraining/RAVDESS/Actor_21/03-01-03-01-02-01-21.wav'), PosixPath('/content/drive/My Drive/Colab Notebooks/AITraining/RAVDESS/Actor_21/03-01-05-02-02-02-21.wav'), PosixPath('/content/drive/My Drive/Colab Notebooks/AITraining/RAVDESS/Actor_21/03-01-04-02-01-02-21.wav'), PosixPath('/content/drive/My Drive/Colab Notebooks/AITraining/RAVDESS/Actor_21/03-01-03-02-01-02-21.wav'), PosixPath('/content/drive/My Drive/Colab Notebooks/AITraining/RAVDESS/Actor_21/03-01-02-02-02-01-21.wav'), PosixPath('/content/drive/My Drive/Colab Notebooks/AITraining/RAVDESS/Actor_21/03-01-05-02-01-02-21.wav'), PosixPath('/content/drive/My Drive/Colab Notebooks/AITraining/RAVDESS/Actor_21/03-01-05-02-02-01-21.wav'), PosixPath('/content/drive/My Drive/Colab Notebooks/AITraining/RAVDESS/Actor_21/03-01-06-01-01-01-21.wav'), PosixPath('/content/drive/My Drive/Colab Notebooks/AITraining/RAVDESS/Actor_21/03-01-06-01-02-02-21.wav'), PosixPath('/content/drive/My Drive/Colab Notebooks/AITraining/RAVDESS/Actor_21/03-01-07-02-02-01-21.wav'), PosixPath('/content/drive/My Drive/Colab Notebooks/AITraining/RAVDESS/Actor_21/03-01-06-02-02-02-21.wav'), PosixPath('/content/drive/My Drive/Colab Notebooks/AITraining/RAVDESS/Actor_21/03-01-08-02-01-02-21.wav'), PosixPath('/content/drive/My Drive/Colab Notebooks/AITraining/RAVDESS/Actor_21/03-01-07-01-01-01-21.wav'), PosixPath('/content/drive/My Drive/Colab Notebooks/AITraining/RAVDESS/Actor_21/03-01-08-01-02-01-21.wav'), PosixPath('/content/drive/My Drive/Colab Notebooks/AITraining/RAVDESS/Actor_21/03-01-04-01-01-01-21.wav'), PosixPath('/content/drive/My Drive/Colab Notebooks/AITraining/RAVDESS/Actor_21/03-01-05-01-01-02-21.wav'), PosixPath('/content/drive/My Drive/Colab Notebooks/AITraining/RAVDESS/Actor_21/03-01-03-02-02-01-21.wav'), PosixPath('/content/drive/My Drive/Colab Notebooks/AITraining/RAVDESS/Actor_21/03-01-07-01-02-01-21.wav'), PosixPath('/content/drive/My Drive/Colab Notebooks/AITraining/RAVDESS/Actor_21/03-01-07-01-01-02-21.wav'), PosixPath('/content/drive/My Drive/Colab Notebooks/AITraining/RAVDESS/Actor_21/03-01-05-01-02-01-21.wav'), PosixPath('/content/drive/My Drive/Colab Notebooks/AITraining/RAVDESS/Actor_21/03-01-06-01-01-02-21.wav'), PosixPath('/content/drive/My Drive/Colab Notebooks/AITraining/RAVDESS/Actor_21/03-01-06-02-01-01-21.wav'), PosixPath('/content/drive/My Drive/Colab Notebooks/AITraining/RAVDESS/Actor_21/03-01-04-02-02-02-21.wav'), PosixPath('/content/drive/My Drive/Colab Notebooks/AITraining/RAVDESS/Actor_21/03-01-02-02-01-01-21.wav'), PosixPath('/content/drive/My Drive/Colab Notebooks/AITraining/RAVDESS/Actor_21/03-01-08-01-01-02-21.wav'), PosixPath('/content/drive/My Drive/Colab Notebooks/AITraining/RAVDESS/Actor_21/03-01-08-01-02-02-21.wav'), PosixPath('/content/drive/My Drive/Colab Notebooks/AITraining/RAVDESS/Actor_21/03-01-06-02-01-02-21.wav'), PosixPath('/content/drive/My Drive/Colab Notebooks/AITraining/RAVDESS/Actor_21/03-01-04-02-02-01-21.wav'), PosixPath('/content/drive/My Drive/Colab Notebooks/AITraining/RAVDESS/Actor_21/03-01-07-02-01-01-21.wav'), PosixPath('/content/drive/My Drive/Colab Notebooks/AITraining/RAVDESS/Actor_21/03-01-05-02-01-01-21.wav'), PosixPath('/content/drive/My Drive/Colab Notebooks/AITraining/RAVDESS/Actor_21/03-01-07-02-02-02-21.wav'), PosixPath('/content/drive/My Drive/Colab Notebooks/AITraining/RAVDESS/Actor_21/03-01-03-02-01-01-21.wav'), PosixPath('/content/drive/My Drive/Colab Notebooks/AITraining/RAVDESS/Actor_21/03-01-02-02-01-02-21.wav'), PosixPath('/content/drive/My Drive/Colab Notebooks/AITraining/RAVDESS/Actor_21/03-01-05-01-01-01-21.wav'), PosixPath('/content/drive/My Drive/Colab Notebooks/AITraining/RAVDESS/Actor_21/03-01-07-02-01-02-21.wav'), PosixPath('/content/drive/My Drive/Colab Notebooks/AITraining/RAVDESS/Actor_21/03-01-03-01-02-02-21.wav'), PosixPath('/content/drive/My Drive/Colab Notebooks/AITraining/RAVDESS/Actor_21/03-01-03-01-01-01-21.wav'), PosixPath('/content/drive/My Drive/Colab Notebooks/AITraining/RAVDESS/Actor_21/03-01-06-02-02-01-21.wav'), PosixPath('/content/drive/My Drive/Colab Notebooks/AITraining/RAVDESS/Actor_21/03-01-04-01-02-02-21.wav'), PosixPath('/content/drive/My Drive/Colab Notebooks/AITraining/RAVDESS/Actor_21/03-01-05-01-02-02-21.wav'), PosixPath('/content/drive/My Drive/Colab Notebooks/AITraining/RAVDESS/Actor_21/03-01-03-02-02-02-21.wav'), PosixPath('/content/drive/My Drive/Colab Notebooks/AITraining/RAVDESS/Actor_21/03-01-07-01-02-02-21.wav'), PosixPath('/content/drive/My Drive/Colab Notebooks/AITraining/RAVDESS/Actor_21/03-01-08-02-01-01-21.wav'), PosixPath('/content/drive/My Drive/Colab Notebooks/AITraining/RAVDESS/Actor_21/03-01-02-02-02-02-21.wav'), PosixPath('/content/drive/My Drive/Colab Notebooks/AITraining/RAVDESS/Actor_21/03-01-04-02-01-01-21.wav'), PosixPath('/content/drive/My Drive/Colab Notebooks/AITraining/RAVDESS/Actor_21/03-01-08-02-02-02-21.wav'), PosixPath('/content/drive/My Drive/Colab Notebooks/AITraining/RAVDESS/Actor_21/03-01-08-02-02-01-21.wav'), PosixPath('/content/drive/My Drive/Colab Notebooks/AITraining/RAVDESS/Actor_11/03-01-02-01-02-01-11.wav'), PosixPath('/content/drive/My Drive/Colab Notebooks/AITraining/RAVDESS/Actor_11/03-01-01-01-02-01-11.wav'), PosixPath('/content/drive/My Drive/Colab Notebooks/AITraining/RAVDESS/Actor_11/03-01-01-01-01-02-11.wav'), PosixPath('/content/drive/My Drive/Colab Notebooks/AITraining/RAVDESS/Actor_11/03-01-02-01-02-02-11.wav'), PosixPath('/content/drive/My Drive/Colab Notebooks/AITraining/RAVDESS/Actor_11/03-01-02-01-01-01-11.wav'), PosixPath('/content/drive/My Drive/Colab Notebooks/AITraining/RAVDESS/Actor_11/03-01-01-01-02-02-11.wav'), PosixPath('/content/drive/My Drive/Colab Notebooks/AITraining/RAVDESS/Actor_11/03-01-02-02-01-01-11.wav'), PosixPath('/content/drive/My Drive/Colab Notebooks/AITraining/RAVDESS/Actor_11/03-01-01-01-01-01-11.wav'), PosixPath('/content/drive/My Drive/Colab Notebooks/AITraining/RAVDESS/Actor_11/03-01-02-01-01-02-11.wav'), PosixPath('/content/drive/My Drive/Colab Notebooks/AITraining/RAVDESS/Actor_11/03-01-05-02-01-01-11.wav'), PosixPath('/content/drive/My Drive/Colab Notebooks/AITraining/RAVDESS/Actor_11/03-01-05-01-02-01-11.wav'), PosixPath('/content/drive/My Drive/Colab Notebooks/AITraining/RAVDESS/Actor_11/03-01-07-01-02-01-11.wav'), PosixPath('/content/drive/My Drive/Colab Notebooks/AITraining/RAVDESS/Actor_11/03-01-03-01-01-02-11.wav'), PosixPath('/content/drive/My Drive/Colab Notebooks/AITraining/RAVDESS/Actor_11/03-01-04-01-01-01-11.wav'), PosixPath('/content/drive/My Drive/Colab Notebooks/AITraining/RAVDESS/Actor_11/03-01-08-01-01-01-11.wav'), PosixPath('/content/drive/My Drive/Colab Notebooks/AITraining/RAVDESS/Actor_11/03-01-08-01-02-01-11.wav'), PosixPath('/content/drive/My Drive/Colab Notebooks/AITraining/RAVDESS/Actor_11/03-01-08-01-02-02-11.wav'), PosixPath('/content/drive/My Drive/Colab Notebooks/AITraining/RAVDESS/Actor_11/03-01-03-01-01-01-11.wav'), PosixPath('/content/drive/My Drive/Colab Notebooks/AITraining/RAVDESS/Actor_11/03-01-06-01-01-01-11.wav'), PosixPath('/content/drive/My Drive/Colab Notebooks/AITraining/RAVDESS/Actor_11/03-01-05-02-02-01-11.wav'), PosixPath('/content/drive/My Drive/Colab Notebooks/AITraining/RAVDESS/Actor_11/03-01-06-02-01-02-11.wav'), PosixPath('/content/drive/My Drive/Colab Notebooks/AITraining/RAVDESS/Actor_11/03-01-05-01-02-02-11.wav'), PosixPath('/content/drive/My Drive/Colab Notebooks/AITraining/RAVDESS/Actor_11/03-01-04-01-01-02-11.wav'), PosixPath('/content/drive/My Drive/Colab Notebooks/AITraining/RAVDESS/Actor_11/03-01-04-01-02-02-11.wav'), PosixPath('/content/drive/My Drive/Colab Notebooks/AITraining/RAVDESS/Actor_11/03-01-05-02-02-02-11.wav'), PosixPath('/content/drive/My Drive/Colab Notebooks/AITraining/RAVDESS/Actor_11/03-01-04-02-01-02-11.wav'), PosixPath('/content/drive/My Drive/Colab Notebooks/AITraining/RAVDESS/Actor_11/03-01-04-02-02-01-11.wav'), PosixPath('/content/drive/My Drive/Colab Notebooks/AITraining/RAVDESS/Actor_11/03-01-07-02-02-02-11.wav'), PosixPath('/content/drive/My Drive/Colab Notebooks/AITraining/RAVDESS/Actor_11/03-01-05-02-01-02-11.wav'), PosixPath('/content/drive/My Drive/Colab Notebooks/AITraining/RAVDESS/Actor_11/03-01-06-02-02-01-11.wav'), PosixPath('/content/drive/My Drive/Colab Notebooks/AITraining/RAVDESS/Actor_11/03-01-03-02-02-01-11.wav'), PosixPath('/content/drive/My Drive/Colab Notebooks/AITraining/RAVDESS/Actor_11/03-01-07-02-02-01-11.wav'), PosixPath('/content/drive/My Drive/Colab Notebooks/AITraining/RAVDESS/Actor_11/03-01-04-02-01-01-11.wav'), PosixPath('/content/drive/My Drive/Colab Notebooks/AITraining/RAVDESS/Actor_11/03-01-06-02-02-02-11.wav'), PosixPath('/content/drive/My Drive/Colab Notebooks/AITraining/RAVDESS/Actor_11/03-01-08-02-02-01-11.wav'), PosixPath('/content/drive/My Drive/Colab Notebooks/AITraining/RAVDESS/Actor_11/03-01-02-02-02-01-11.wav'), PosixPath('/content/drive/My Drive/Colab Notebooks/AITraining/RAVDESS/Actor_11/03-01-03-01-02-02-11.wav'), PosixPath('/content/drive/My Drive/Colab Notebooks/AITraining/RAVDESS/Actor_11/03-01-04-01-02-01-11.wav'), PosixPath('/content/drive/My Drive/Colab Notebooks/AITraining/RAVDESS/Actor_11/03-01-06-02-01-01-11.wav'), PosixPath('/content/drive/My Drive/Colab Notebooks/AITraining/RAVDESS/Actor_11/03-01-07-01-01-02-11.wav'), PosixPath('/content/drive/My Drive/Colab Notebooks/AITraining/RAVDESS/Actor_11/03-01-06-01-02-01-11.wav'), PosixPath('/content/drive/My Drive/Colab Notebooks/AITraining/RAVDESS/Actor_11/03-01-07-01-02-02-11.wav'), PosixPath('/content/drive/My Drive/Colab Notebooks/AITraining/RAVDESS/Actor_11/03-01-07-01-01-01-11.wav'), PosixPath('/content/drive/My Drive/Colab Notebooks/AITraining/RAVDESS/Actor_11/03-01-08-02-02-02-11.wav'), PosixPath('/content/drive/My Drive/Colab Notebooks/AITraining/RAVDESS/Actor_11/03-01-02-02-01-02-11.wav'), PosixPath('/content/drive/My Drive/Colab Notebooks/AITraining/RAVDESS/Actor_11/03-01-03-01-02-01-11.wav'), PosixPath('/content/drive/My Drive/Colab Notebooks/AITraining/RAVDESS/Actor_11/03-01-02-02-02-02-11.wav'), PosixPath('/content/drive/My Drive/Colab Notebooks/AITraining/RAVDESS/Actor_11/03-01-03-02-02-02-11.wav'), PosixPath('/content/drive/My Drive/Colab Notebooks/AITraining/RAVDESS/Actor_11/03-01-06-01-01-02-11.wav'), PosixPath('/content/drive/My Drive/Colab Notebooks/AITraining/RAVDESS/Actor_11/03-01-08-02-01-02-11.wav'), PosixPath('/content/drive/My Drive/Colab Notebooks/AITraining/RAVDESS/Actor_11/03-01-03-02-01-02-11.wav'), PosixPath('/content/drive/My Drive/Colab Notebooks/AITraining/RAVDESS/Actor_11/03-01-05-01-01-02-11.wav'), PosixPath('/content/drive/My Drive/Colab Notebooks/AITraining/RAVDESS/Actor_11/03-01-03-02-01-01-11.wav'), PosixPath('/content/drive/My Drive/Colab Notebooks/AITraining/RAVDESS/Actor_11/03-01-06-01-02-02-11.wav'), PosixPath('/content/drive/My Drive/Colab Notebooks/AITraining/RAVDESS/Actor_11/03-01-04-02-02-02-11.wav'), PosixPath('/content/drive/My Drive/Colab Notebooks/AITraining/RAVDESS/Actor_11/03-01-07-02-01-02-11.wav'), PosixPath('/content/drive/My Drive/Colab Notebooks/AITraining/RAVDESS/Actor_11/03-01-08-01-01-02-11.wav'), PosixPath('/content/drive/My Drive/Colab Notebooks/AITraining/RAVDESS/Actor_11/03-01-08-02-01-01-11.wav'), PosixPath('/content/drive/My Drive/Colab Notebooks/AITraining/RAVDESS/Actor_11/03-01-07-02-01-01-11.wav'), PosixPath('/content/drive/My Drive/Colab Notebooks/AITraining/RAVDESS/Actor_11/03-01-05-01-01-01-11.wav'), PosixPath('/content/drive/My Drive/Colab Notebooks/AITraining/RAVDESS/Actor_18/03-01-03-01-02-02-18.wav'), PosixPath('/content/drive/My Drive/Colab Notebooks/AITraining/RAVDESS/Actor_18/03-01-02-02-02-01-18.wav'), PosixPath('/content/drive/My Drive/Colab Notebooks/AITraining/RAVDESS/Actor_18/03-01-03-01-01-01-18.wav'), PosixPath('/content/drive/My Drive/Colab Notebooks/AITraining/RAVDESS/Actor_18/03-01-04-02-01-02-18.wav'), PosixPath('/content/drive/My Drive/Colab Notebooks/AITraining/RAVDESS/Actor_18/03-01-02-02-02-02-18.wav'), PosixPath('/content/drive/My Drive/Colab Notebooks/AITraining/RAVDESS/Actor_18/03-01-01-01-02-01-18.wav'), PosixPath('/content/drive/My Drive/Colab Notebooks/AITraining/RAVDESS/Actor_18/03-01-04-02-01-01-18.wav'), PosixPath('/content/drive/My Drive/Colab Notebooks/AITraining/RAVDESS/Actor_18/03-01-03-02-02-02-18.wav'), PosixPath('/content/drive/My Drive/Colab Notebooks/AITraining/RAVDESS/Actor_18/03-01-01-01-01-02-18.wav'), PosixPath('/content/drive/My Drive/Colab Notebooks/AITraining/RAVDESS/Actor_18/03-01-02-01-01-02-18.wav'), PosixPath('/content/drive/My Drive/Colab Notebooks/AITraining/RAVDESS/Actor_18/03-01-04-01-01-01-18.wav'), PosixPath('/content/drive/My Drive/Colab Notebooks/AITraining/RAVDESS/Actor_18/03-01-04-01-02-02-18.wav'), PosixPath('/content/drive/My Drive/Colab Notebooks/AITraining/RAVDESS/Actor_18/03-01-02-02-01-01-18.wav'), PosixPath('/content/drive/My Drive/Colab Notebooks/AITraining/RAVDESS/Actor_18/03-01-03-02-01-02-18.wav'), PosixPath('/content/drive/My Drive/Colab Notebooks/AITraining/RAVDESS/Actor_18/03-01-02-01-01-01-18.wav'), PosixPath('/content/drive/My Drive/Colab Notebooks/AITraining/RAVDESS/Actor_18/03-01-02-01-02-01-18.wav'), PosixPath('/content/drive/My Drive/Colab Notebooks/AITraining/RAVDESS/Actor_18/03-01-03-02-02-01-18.wav'), PosixPath('/content/drive/My Drive/Colab Notebooks/AITraining/RAVDESS/Actor_18/03-01-03-02-01-01-18.wav'), PosixPath('/content/drive/My Drive/Colab Notebooks/AITraining/RAVDESS/Actor_18/03-01-02-02-01-02-18.wav'), PosixPath('/content/drive/My Drive/Colab Notebooks/AITraining/RAVDESS/Actor_18/03-01-01-01-01-01-18.wav'), PosixPath('/content/drive/My Drive/Colab Notebooks/AITraining/RAVDESS/Actor_18/03-01-03-01-02-01-18.wav'), PosixPath('/content/drive/My Drive/Colab Notebooks/AITraining/RAVDESS/Actor_18/03-01-03-01-01-02-18.wav'), PosixPath('/content/drive/My Drive/Colab Notebooks/AITraining/RAVDESS/Actor_18/03-01-01-01-02-02-18.wav'), PosixPath('/content/drive/My Drive/Colab Notebooks/AITraining/RAVDESS/Actor_18/03-01-02-01-02-02-18.wav'), PosixPath('/content/drive/My Drive/Colab Notebooks/AITraining/RAVDESS/Actor_18/03-01-04-01-01-02-18.wav'), PosixPath('/content/drive/My Drive/Colab Notebooks/AITraining/RAVDESS/Actor_18/03-01-04-01-02-01-18.wav'), PosixPath('/content/drive/My Drive/Colab Notebooks/AITraining/RAVDESS/Actor_18/03-01-06-01-01-01-18.wav'), PosixPath('/content/drive/My Drive/Colab Notebooks/AITraining/RAVDESS/Actor_18/03-01-07-02-02-02-18.wav'), PosixPath('/content/drive/My Drive/Colab Notebooks/AITraining/RAVDESS/Actor_18/03-01-08-01-01-01-18.wav'), PosixPath('/content/drive/My Drive/Colab Notebooks/AITraining/RAVDESS/Actor_18/03-01-07-01-02-02-18.wav'), PosixPath('/content/drive/My Drive/Colab Notebooks/AITraining/RAVDESS/Actor_18/03-01-05-02-01-01-18.wav'), PosixPath('/content/drive/My Drive/Colab Notebooks/AITraining/RAVDESS/Actor_18/03-01-08-02-01-01-18.wav'), PosixPath('/content/drive/My Drive/Colab Notebooks/AITraining/RAVDESS/Actor_18/03-01-08-01-02-01-18.wav'), PosixPath('/content/drive/My Drive/Colab Notebooks/AITraining/RAVDESS/Actor_18/03-01-07-01-02-01-18.wav'), PosixPath('/content/drive/My Drive/Colab Notebooks/AITraining/RAVDESS/Actor_18/03-01-06-02-02-01-18.wav'), PosixPath('/content/drive/My Drive/Colab Notebooks/AITraining/RAVDESS/Actor_18/03-01-06-01-01-02-18.wav'), PosixPath('/content/drive/My Drive/Colab Notebooks/AITraining/RAVDESS/Actor_18/03-01-05-01-01-01-18.wav'), PosixPath('/content/drive/My Drive/Colab Notebooks/AITraining/RAVDESS/Actor_18/03-01-05-01-02-01-18.wav'), PosixPath('/content/drive/My Drive/Colab Notebooks/AITraining/RAVDESS/Actor_18/03-01-06-02-02-02-18.wav'), PosixPath('/content/drive/My Drive/Colab Notebooks/AITraining/RAVDESS/Actor_18/03-01-04-02-02-01-18.wav'), PosixPath('/content/drive/My Drive/Colab Notebooks/AITraining/RAVDESS/Actor_18/03-01-08-02-02-01-18.wav'), PosixPath('/content/drive/My Drive/Colab Notebooks/AITraining/RAVDESS/Actor_18/03-01-05-02-01-02-18.wav'), PosixPath('/content/drive/My Drive/Colab Notebooks/AITraining/RAVDESS/Actor_18/03-01-07-01-01-01-18.wav'), PosixPath('/content/drive/My Drive/Colab Notebooks/AITraining/RAVDESS/Actor_18/03-01-08-02-01-02-18.wav'), PosixPath('/content/drive/My Drive/Colab Notebooks/AITraining/RAVDESS/Actor_18/03-01-06-02-01-02-18.wav'), PosixPath('/content/drive/My Drive/Colab Notebooks/AITraining/RAVDESS/Actor_18/03-01-07-02-02-01-18.wav'), PosixPath('/content/drive/My Drive/Colab Notebooks/AITraining/RAVDESS/Actor_18/03-01-08-01-01-02-18.wav'), PosixPath('/content/drive/My Drive/Colab Notebooks/AITraining/RAVDESS/Actor_18/03-01-07-02-01-01-18.wav'), PosixPath('/content/drive/My Drive/Colab Notebooks/AITraining/RAVDESS/Actor_18/03-01-07-01-01-02-18.wav'), PosixPath('/content/drive/My Drive/Colab Notebooks/AITraining/RAVDESS/Actor_18/03-01-06-01-02-02-18.wav'), PosixPath('/content/drive/My Drive/Colab Notebooks/AITraining/RAVDESS/Actor_18/03-01-06-01-02-01-18.wav'), PosixPath('/content/drive/My Drive/Colab Notebooks/AITraining/RAVDESS/Actor_18/03-01-05-02-02-01-18.wav'), PosixPath('/content/drive/My Drive/Colab Notebooks/AITraining/RAVDESS/Actor_18/03-01-05-01-01-02-18.wav'), PosixPath('/content/drive/My Drive/Colab Notebooks/AITraining/RAVDESS/Actor_18/03-01-07-02-01-02-18.wav'), PosixPath('/content/drive/My Drive/Colab Notebooks/AITraining/RAVDESS/Actor_18/03-01-05-02-02-02-18.wav'), PosixPath('/content/drive/My Drive/Colab Notebooks/AITraining/RAVDESS/Actor_18/03-01-08-01-02-02-18.wav'), PosixPath('/content/drive/My Drive/Colab Notebooks/AITraining/RAVDESS/Actor_18/03-01-04-02-02-02-18.wav'), PosixPath('/content/drive/My Drive/Colab Notebooks/AITraining/RAVDESS/Actor_18/03-01-06-02-01-01-18.wav'), PosixPath('/content/drive/My Drive/Colab Notebooks/AITraining/RAVDESS/Actor_18/03-01-05-01-02-02-18.wav'), PosixPath('/content/drive/My Drive/Colab Notebooks/AITraining/RAVDESS/Actor_18/03-01-08-02-02-02-18.wav'), PosixPath('/content/drive/My Drive/Colab Notebooks/AITraining/RAVDESS/Actor_19/03-01-02-02-02-02-19.wav'), PosixPath('/content/drive/My Drive/Colab Notebooks/AITraining/RAVDESS/Actor_19/03-01-02-02-01-01-19.wav'), PosixPath('/content/drive/My Drive/Colab Notebooks/AITraining/RAVDESS/Actor_19/03-01-03-02-01-01-19.wav'), PosixPath('/content/drive/My Drive/Colab Notebooks/AITraining/RAVDESS/Actor_19/03-01-03-01-02-02-19.wav'), PosixPath('/content/drive/My Drive/Colab Notebooks/AITraining/RAVDESS/Actor_19/03-01-02-02-02-01-19.wav'), PosixPath('/content/drive/My Drive/Colab Notebooks/AITraining/RAVDESS/Actor_19/03-01-03-01-02-01-19.wav'), PosixPath('/content/drive/My Drive/Colab Notebooks/AITraining/RAVDESS/Actor_19/03-01-03-01-01-02-19.wav'), PosixPath('/content/drive/My Drive/Colab Notebooks/AITraining/RAVDESS/Actor_19/03-01-03-02-02-01-19.wav'), PosixPath('/content/drive/My Drive/Colab Notebooks/AITraining/RAVDESS/Actor_19/03-01-03-01-01-01-19.wav'), PosixPath('/content/drive/My Drive/Colab Notebooks/AITraining/RAVDESS/Actor_19/03-01-02-02-01-02-19.wav'), PosixPath('/content/drive/My Drive/Colab Notebooks/AITraining/RAVDESS/Actor_19/03-01-04-01-01-01-19.wav'), PosixPath('/content/drive/My Drive/Colab Notebooks/AITraining/RAVDESS/Actor_19/03-01-02-01-02-02-19.wav'), PosixPath('/content/drive/My Drive/Colab Notebooks/AITraining/RAVDESS/Actor_19/03-01-01-01-02-02-19.wav'), PosixPath('/content/drive/My Drive/Colab Notebooks/AITraining/RAVDESS/Actor_19/03-01-01-01-01-02-19.wav'), PosixPath('/content/drive/My Drive/Colab Notebooks/AITraining/RAVDESS/Actor_19/03-01-03-02-02-02-19.wav'), PosixPath('/content/drive/My Drive/Colab Notebooks/AITraining/RAVDESS/Actor_19/03-01-02-01-02-01-19.wav'), PosixPath('/content/drive/My Drive/Colab Notebooks/AITraining/RAVDESS/Actor_19/03-01-02-01-01-02-19.wav'), PosixPath('/content/drive/My Drive/Colab Notebooks/AITraining/RAVDESS/Actor_19/03-01-01-01-02-01-19.wav'), PosixPath('/content/drive/My Drive/Colab Notebooks/AITraining/RAVDESS/Actor_19/03-01-02-01-01-01-19.wav'), PosixPath('/content/drive/My Drive/Colab Notebooks/AITraining/RAVDESS/Actor_19/03-01-01-01-01-01-19.wav'), PosixPath('/content/drive/My Drive/Colab Notebooks/AITraining/RAVDESS/Actor_19/03-01-03-02-01-02-19.wav'), PosixPath('/content/drive/My Drive/Colab Notebooks/AITraining/RAVDESS/Actor_19/03-01-06-01-01-02-19.wav'), PosixPath('/content/drive/My Drive/Colab Notebooks/AITraining/RAVDESS/Actor_19/03-01-07-02-01-02-19.wav'), PosixPath('/content/drive/My Drive/Colab Notebooks/AITraining/RAVDESS/Actor_19/03-01-04-02-01-02-19.wav'), PosixPath('/content/drive/My Drive/Colab Notebooks/AITraining/RAVDESS/Actor_19/03-01-04-01-01-02-19.wav'), PosixPath('/content/drive/My Drive/Colab Notebooks/AITraining/RAVDESS/Actor_19/03-01-05-01-01-02-19.wav'), PosixPath('/content/drive/My Drive/Colab Notebooks/AITraining/RAVDESS/Actor_19/03-01-05-02-02-02-19.wav'), PosixPath('/content/drive/My Drive/Colab Notebooks/AITraining/RAVDESS/Actor_19/03-01-07-02-02-02-19.wav'), PosixPath('/content/drive/My Drive/Colab Notebooks/AITraining/RAVDESS/Actor_19/03-01-06-01-01-01-19.wav'), PosixPath('/content/drive/My Drive/Colab Notebooks/AITraining/RAVDESS/Actor_19/03-01-08-01-02-01-19.wav'), PosixPath('/content/drive/My Drive/Colab Notebooks/AITraining/RAVDESS/Actor_19/03-01-08-01-01-02-19.wav'), PosixPath('/content/drive/My Drive/Colab Notebooks/AITraining/RAVDESS/Actor_19/03-01-08-02-02-01-19.wav'), PosixPath('/content/drive/My Drive/Colab Notebooks/AITraining/RAVDESS/Actor_19/03-01-08-01-02-02-19.wav'), PosixPath('/content/drive/My Drive/Colab Notebooks/AITraining/RAVDESS/Actor_19/03-01-08-02-01-01-19.wav'), PosixPath('/content/drive/My Drive/Colab Notebooks/AITraining/RAVDESS/Actor_19/03-01-04-02-02-01-19.wav'), PosixPath('/content/drive/My Drive/Colab Notebooks/AITraining/RAVDESS/Actor_19/03-01-07-01-01-02-19.wav'), PosixPath('/content/drive/My Drive/Colab Notebooks/AITraining/RAVDESS/Actor_19/03-01-05-02-01-02-19.wav'), PosixPath('/content/drive/My Drive/Colab Notebooks/AITraining/RAVDESS/Actor_19/03-01-04-01-02-02-19.wav'), PosixPath('/content/drive/My Drive/Colab Notebooks/AITraining/RAVDESS/Actor_19/03-01-04-02-02-02-19.wav'), PosixPath('/content/drive/My Drive/Colab Notebooks/AITraining/RAVDESS/Actor_19/03-01-05-01-02-02-19.wav'), PosixPath('/content/drive/My Drive/Colab Notebooks/AITraining/RAVDESS/Actor_19/03-01-06-01-02-01-19.wav'), PosixPath('/content/drive/My Drive/Colab Notebooks/AITraining/RAVDESS/Actor_19/03-01-06-01-02-02-19.wav'), PosixPath('/content/drive/My Drive/Colab Notebooks/AITraining/RAVDESS/Actor_19/03-01-05-02-02-01-19.wav'), PosixPath('/content/drive/My Drive/Colab Notebooks/AITraining/RAVDESS/Actor_19/03-01-08-01-01-01-19.wav'), PosixPath('/content/drive/My Drive/Colab Notebooks/AITraining/RAVDESS/Actor_19/03-01-06-02-01-02-19.wav'), PosixPath('/content/drive/My Drive/Colab Notebooks/AITraining/RAVDESS/Actor_19/03-01-07-01-01-01-19.wav'), PosixPath('/content/drive/My Drive/Colab Notebooks/AITraining/RAVDESS/Actor_19/03-01-05-01-01-01-19.wav'), PosixPath('/content/drive/My Drive/Colab Notebooks/AITraining/RAVDESS/Actor_19/03-01-04-02-01-01-19.wav'), PosixPath('/content/drive/My Drive/Colab Notebooks/AITraining/RAVDESS/Actor_19/03-01-06-02-02-01-19.wav'), PosixPath('/content/drive/My Drive/Colab Notebooks/AITraining/RAVDESS/Actor_19/03-01-04-01-02-01-19.wav'), PosixPath('/content/drive/My Drive/Colab Notebooks/AITraining/RAVDESS/Actor_19/03-01-07-01-02-02-19.wav'), PosixPath('/content/drive/My Drive/Colab Notebooks/AITraining/RAVDESS/Actor_19/03-01-07-01-02-01-19.wav'), PosixPath('/content/drive/My Drive/Colab Notebooks/AITraining/RAVDESS/Actor_19/03-01-05-01-02-01-19.wav'), PosixPath('/content/drive/My Drive/Colab Notebooks/AITraining/RAVDESS/Actor_19/03-01-05-02-01-01-19.wav'), PosixPath('/content/drive/My Drive/Colab Notebooks/AITraining/RAVDESS/Actor_19/03-01-06-02-02-02-19.wav'), PosixPath('/content/drive/My Drive/Colab Notebooks/AITraining/RAVDESS/Actor_19/03-01-06-02-01-01-19.wav'), PosixPath('/content/drive/My Drive/Colab Notebooks/AITraining/RAVDESS/Actor_19/03-01-08-02-01-02-19.wav'), PosixPath('/content/drive/My Drive/Colab Notebooks/AITraining/RAVDESS/Actor_19/03-01-07-02-01-01-19.wav'), PosixPath('/content/drive/My Drive/Colab Notebooks/AITraining/RAVDESS/Actor_19/03-01-07-02-02-01-19.wav'), PosixPath('/content/drive/My Drive/Colab Notebooks/AITraining/RAVDESS/Actor_19/03-01-08-02-02-02-19.wav'), PosixPath('/content/drive/My Drive/Colab Notebooks/AITraining/RAVDESS/Actor_20/03-01-02-02-01-02-20.wav'), PosixPath('/content/drive/My Drive/Colab Notebooks/AITraining/RAVDESS/Actor_20/03-01-02-02-02-02-20.wav'), PosixPath('/content/drive/My Drive/Colab Notebooks/AITraining/RAVDESS/Actor_20/03-01-02-02-01-01-20.wav'), PosixPath('/content/drive/My Drive/Colab Notebooks/AITraining/RAVDESS/Actor_20/03-01-01-01-02-01-20.wav'), PosixPath('/content/drive/My Drive/Colab Notebooks/AITraining/RAVDESS/Actor_20/03-01-01-01-02-02-20.wav'), PosixPath('/content/drive/My Drive/Colab Notebooks/AITraining/RAVDESS/Actor_20/03-01-03-01-01-01-20.wav'), PosixPath('/content/drive/My Drive/Colab Notebooks/AITraining/RAVDESS/Actor_20/03-01-01-01-01-02-20.wav'), PosixPath('/content/drive/My Drive/Colab Notebooks/AITraining/RAVDESS/Actor_20/03-01-02-01-01-02-20.wav'), PosixPath('/content/drive/My Drive/Colab Notebooks/AITraining/RAVDESS/Actor_20/03-01-01-01-01-01-20.wav'), PosixPath('/content/drive/My Drive/Colab Notebooks/AITraining/RAVDESS/Actor_20/03-01-02-01-02-02-20.wav'), PosixPath('/content/drive/My Drive/Colab Notebooks/AITraining/RAVDESS/Actor_20/03-01-02-01-01-01-20.wav'), PosixPath('/content/drive/My Drive/Colab Notebooks/AITraining/RAVDESS/Actor_20/03-01-02-02-02-01-20.wav'), PosixPath('/content/drive/My Drive/Colab Notebooks/AITraining/RAVDESS/Actor_20/03-01-02-01-02-01-20.wav'), PosixPath('/content/drive/My Drive/Colab Notebooks/AITraining/RAVDESS/Actor_20/03-01-05-02-01-01-20.wav'), PosixPath('/content/drive/My Drive/Colab Notebooks/AITraining/RAVDESS/Actor_20/03-01-04-02-01-01-20.wav'), PosixPath('/content/drive/My Drive/Colab Notebooks/AITraining/RAVDESS/Actor_20/03-01-04-01-02-01-20.wav'), PosixPath('/content/drive/My Drive/Colab Notebooks/AITraining/RAVDESS/Actor_20/03-01-07-01-01-02-20.wav'), PosixPath('/content/drive/My Drive/Colab Notebooks/AITraining/RAVDESS/Actor_20/03-01-06-01-02-01-20.wav'), PosixPath('/content/drive/My Drive/Colab Notebooks/AITraining/RAVDESS/Actor_20/03-01-03-02-02-02-20.wav'), PosixPath('/content/drive/My Drive/Colab Notebooks/AITraining/RAVDESS/Actor_20/03-01-06-01-01-02-20.wav'), PosixPath('/content/drive/My Drive/Colab Notebooks/AITraining/RAVDESS/Actor_20/03-01-04-02-01-02-20.wav'), PosixPath('/content/drive/My Drive/Colab Notebooks/AITraining/RAVDESS/Actor_20/03-01-06-01-01-01-20.wav'), PosixPath('/content/drive/My Drive/Colab Notebooks/AITraining/RAVDESS/Actor_20/03-01-03-01-02-02-20.wav'), PosixPath('/content/drive/My Drive/Colab Notebooks/AITraining/RAVDESS/Actor_20/03-01-05-01-01-01-20.wav'), PosixPath('/content/drive/My Drive/Colab Notebooks/AITraining/RAVDESS/Actor_20/03-01-04-02-02-02-20.wav'), PosixPath('/content/drive/My Drive/Colab Notebooks/AITraining/RAVDESS/Actor_20/03-01-07-02-02-02-20.wav'), PosixPath('/content/drive/My Drive/Colab Notebooks/AITraining/RAVDESS/Actor_20/03-01-07-02-02-01-20.wav'), PosixPath('/content/drive/My Drive/Colab Notebooks/AITraining/RAVDESS/Actor_20/03-01-08-02-01-01-20.wav'), PosixPath('/content/drive/My Drive/Colab Notebooks/AITraining/RAVDESS/Actor_20/03-01-05-01-01-02-20.wav'), PosixPath('/content/drive/My Drive/Colab Notebooks/AITraining/RAVDESS/Actor_20/03-01-05-02-01-02-20.wav'), PosixPath('/content/drive/My Drive/Colab Notebooks/AITraining/RAVDESS/Actor_20/03-01-08-01-02-02-20.wav'), PosixPath('/content/drive/My Drive/Colab Notebooks/AITraining/RAVDESS/Actor_20/03-01-07-01-02-02-20.wav'), PosixPath('/content/drive/My Drive/Colab Notebooks/AITraining/RAVDESS/Actor_20/03-01-04-02-02-01-20.wav'), PosixPath('/content/drive/My Drive/Colab Notebooks/AITraining/RAVDESS/Actor_20/03-01-06-02-01-01-20.wav'), PosixPath('/content/drive/My Drive/Colab Notebooks/AITraining/RAVDESS/Actor_20/03-01-06-02-02-01-20.wav'), PosixPath('/content/drive/My Drive/Colab Notebooks/AITraining/RAVDESS/Actor_20/03-01-04-01-02-02-20.wav'), PosixPath('/content/drive/My Drive/Colab Notebooks/AITraining/RAVDESS/Actor_20/03-01-06-02-01-02-20.wav'), PosixPath('/content/drive/My Drive/Colab Notebooks/AITraining/RAVDESS/Actor_20/03-01-08-01-01-02-20.wav'), PosixPath('/content/drive/My Drive/Colab Notebooks/AITraining/RAVDESS/Actor_20/03-01-08-02-01-02-20.wav'), PosixPath('/content/drive/My Drive/Colab Notebooks/AITraining/RAVDESS/Actor_20/03-01-07-02-01-02-20.wav'), PosixPath('/content/drive/My Drive/Colab Notebooks/AITraining/RAVDESS/Actor_20/03-01-08-01-01-01-20.wav'), PosixPath('/content/drive/My Drive/Colab Notebooks/AITraining/RAVDESS/Actor_20/03-01-07-01-01-01-20.wav'), PosixPath('/content/drive/My Drive/Colab Notebooks/AITraining/RAVDESS/Actor_20/03-01-07-01-02-01-20.wav'), PosixPath('/content/drive/My Drive/Colab Notebooks/AITraining/RAVDESS/Actor_20/03-01-08-02-02-01-20.wav'), PosixPath('/content/drive/My Drive/Colab Notebooks/AITraining/RAVDESS/Actor_20/03-01-05-01-02-02-20.wav'), PosixPath('/content/drive/My Drive/Colab Notebooks/AITraining/RAVDESS/Actor_20/03-01-04-01-01-01-20.wav'), PosixPath('/content/drive/My Drive/Colab Notebooks/AITraining/RAVDESS/Actor_20/03-01-08-01-02-01-20.wav'), PosixPath('/content/drive/My Drive/Colab Notebooks/AITraining/RAVDESS/Actor_20/03-01-04-01-01-02-20.wav'), PosixPath('/content/drive/My Drive/Colab Notebooks/AITraining/RAVDESS/Actor_20/03-01-05-01-02-01-20.wav'), PosixPath('/content/drive/My Drive/Colab Notebooks/AITraining/RAVDESS/Actor_20/03-01-05-02-02-01-20.wav'), PosixPath('/content/drive/My Drive/Colab Notebooks/AITraining/RAVDESS/Actor_20/03-01-07-02-01-01-20.wav'), PosixPath('/content/drive/My Drive/Colab Notebooks/AITraining/RAVDESS/Actor_20/03-01-03-01-02-01-20.wav'), PosixPath('/content/drive/My Drive/Colab Notebooks/AITraining/RAVDESS/Actor_20/03-01-05-02-02-02-20.wav'), PosixPath('/content/drive/My Drive/Colab Notebooks/AITraining/RAVDESS/Actor_20/03-01-06-01-02-02-20.wav'), PosixPath('/content/drive/My Drive/Colab Notebooks/AITraining/RAVDESS/Actor_20/03-01-03-02-01-02-20.wav'), PosixPath('/content/drive/My Drive/Colab Notebooks/AITraining/RAVDESS/Actor_20/03-01-03-01-01-02-20.wav'), PosixPath('/content/drive/My Drive/Colab Notebooks/AITraining/RAVDESS/Actor_20/03-01-08-02-02-02-20.wav'), PosixPath('/content/drive/My Drive/Colab Notebooks/AITraining/RAVDESS/Actor_20/03-01-03-02-01-01-20.wav'), PosixPath('/content/drive/My Drive/Colab Notebooks/AITraining/RAVDESS/Actor_20/03-01-06-02-02-02-20.wav'), PosixPath('/content/drive/My Drive/Colab Notebooks/AITraining/RAVDESS/Actor_20/03-01-03-02-02-01-20.wav'), PosixPath('/content/drive/My Drive/Colab Notebooks/AITraining/RAVDESS/Actor_03/03-01-05-01-01-02-03.wav'), PosixPath('/content/drive/My Drive/Colab Notebooks/AITraining/RAVDESS/Actor_03/03-01-02-01-01-01-03.wav'), PosixPath('/content/drive/My Drive/Colab Notebooks/AITraining/RAVDESS/Actor_03/03-01-03-02-02-01-03.wav'), PosixPath('/content/drive/My Drive/Colab Notebooks/AITraining/RAVDESS/Actor_03/03-01-04-02-02-02-03.wav'), PosixPath('/content/drive/My Drive/Colab Notebooks/AITraining/RAVDESS/Actor_03/03-01-01-01-01-02-03.wav'), PosixPath('/content/drive/My Drive/Colab Notebooks/AITraining/RAVDESS/Actor_03/03-01-05-02-01-01-03.wav'), PosixPath('/content/drive/My Drive/Colab Notebooks/AITraining/RAVDESS/Actor_03/03-01-02-02-01-02-03.wav'), PosixPath('/content/drive/My Drive/Colab Notebooks/AITraining/RAVDESS/Actor_03/03-01-02-02-01-01-03.wav'), PosixPath('/content/drive/My Drive/Colab Notebooks/AITraining/RAVDESS/Actor_03/03-01-03-02-02-02-03.wav'), PosixPath('/content/drive/My Drive/Colab Notebooks/AITraining/RAVDESS/Actor_03/03-01-05-02-02-02-03.wav'), PosixPath('/content/drive/My Drive/Colab Notebooks/AITraining/RAVDESS/Actor_03/03-01-04-02-01-02-03.wav'), PosixPath('/content/drive/My Drive/Colab Notebooks/AITraining/RAVDESS/Actor_03/03-01-04-01-02-02-03.wav'), PosixPath('/content/drive/My Drive/Colab Notebooks/AITraining/RAVDESS/Actor_03/03-01-03-01-02-01-03.wav'), PosixPath('/content/drive/My Drive/Colab Notebooks/AITraining/RAVDESS/Actor_03/03-01-03-01-01-02-03.wav'), PosixPath('/content/drive/My Drive/Colab Notebooks/AITraining/RAVDESS/Actor_03/03-01-01-01-02-02-03.wav'), PosixPath('/content/drive/My Drive/Colab Notebooks/AITraining/RAVDESS/Actor_03/03-01-02-02-02-02-03.wav'), PosixPath('/content/drive/My Drive/Colab Notebooks/AITraining/RAVDESS/Actor_03/03-01-03-02-01-02-03.wav'), PosixPath('/content/drive/My Drive/Colab Notebooks/AITraining/RAVDESS/Actor_03/03-01-04-01-01-02-03.wav'), PosixPath('/content/drive/My Drive/Colab Notebooks/AITraining/RAVDESS/Actor_03/03-01-02-01-02-02-03.wav'), PosixPath('/content/drive/My Drive/Colab Notebooks/AITraining/RAVDESS/Actor_03/03-01-03-01-02-02-03.wav'), PosixPath('/content/drive/My Drive/Colab Notebooks/AITraining/RAVDESS/Actor_03/03-01-04-02-02-01-03.wav'), PosixPath('/content/drive/My Drive/Colab Notebooks/AITraining/RAVDESS/Actor_03/03-01-05-02-02-01-03.wav'), PosixPath('/content/drive/My Drive/Colab Notebooks/AITraining/RAVDESS/Actor_03/03-01-02-01-02-01-03.wav'), PosixPath('/content/drive/My Drive/Colab Notebooks/AITraining/RAVDESS/Actor_03/03-01-05-01-02-02-03.wav'), PosixPath('/content/drive/My Drive/Colab Notebooks/AITraining/RAVDESS/Actor_03/03-01-02-01-01-02-03.wav'), PosixPath('/content/drive/My Drive/Colab Notebooks/AITraining/RAVDESS/Actor_03/03-01-03-01-01-01-03.wav'), PosixPath('/content/drive/My Drive/Colab Notebooks/AITraining/RAVDESS/Actor_03/03-01-04-02-01-01-03.wav'), PosixPath('/content/drive/My Drive/Colab Notebooks/AITraining/RAVDESS/Actor_03/03-01-05-01-01-01-03.wav'), PosixPath('/content/drive/My Drive/Colab Notebooks/AITraining/RAVDESS/Actor_03/03-01-03-02-01-01-03.wav'), PosixPath('/content/drive/My Drive/Colab Notebooks/AITraining/RAVDESS/Actor_03/03-01-04-01-02-01-03.wav'), PosixPath('/content/drive/My Drive/Colab Notebooks/AITraining/RAVDESS/Actor_03/03-01-01-01-02-01-03.wav'), PosixPath('/content/drive/My Drive/Colab Notebooks/AITraining/RAVDESS/Actor_03/03-01-04-01-01-01-03.wav'), PosixPath('/content/drive/My Drive/Colab Notebooks/AITraining/RAVDESS/Actor_03/03-01-01-01-01-01-03.wav'), PosixPath('/content/drive/My Drive/Colab Notebooks/AITraining/RAVDESS/Actor_03/03-01-05-02-01-02-03.wav'), PosixPath('/content/drive/My Drive/Colab Notebooks/AITraining/RAVDESS/Actor_03/03-01-05-01-02-01-03.wav'), PosixPath('/content/drive/My Drive/Colab Notebooks/AITraining/RAVDESS/Actor_03/03-01-02-02-02-01-03.wav'), PosixPath('/content/drive/My Drive/Colab Notebooks/AITraining/RAVDESS/Actor_03/03-01-07-02-01-02-03.wav'), PosixPath('/content/drive/My Drive/Colab Notebooks/AITraining/RAVDESS/Actor_03/03-01-08-01-02-01-03.wav'), PosixPath('/content/drive/My Drive/Colab Notebooks/AITraining/RAVDESS/Actor_03/03-01-08-01-01-02-03.wav'), PosixPath('/content/drive/My Drive/Colab Notebooks/AITraining/RAVDESS/Actor_03/03-01-06-02-01-02-03.wav'), PosixPath('/content/drive/My Drive/Colab Notebooks/AITraining/RAVDESS/Actor_03/03-01-06-01-01-02-03.wav'), PosixPath('/content/drive/My Drive/Colab Notebooks/AITraining/RAVDESS/Actor_03/03-01-07-01-02-01-03.wav'), PosixPath('/content/drive/My Drive/Colab Notebooks/AITraining/RAVDESS/Actor_03/03-01-07-01-01-01-03.wav'), PosixPath('/content/drive/My Drive/Colab Notebooks/AITraining/RAVDESS/Actor_03/03-01-08-02-01-01-03.wav'), PosixPath('/content/drive/My Drive/Colab Notebooks/AITraining/RAVDESS/Actor_03/03-01-06-01-02-02-03.wav'), PosixPath('/content/drive/My Drive/Colab Notebooks/AITraining/RAVDESS/Actor_03/03-01-08-01-02-02-03.wav'), PosixPath('/content/drive/My Drive/Colab Notebooks/AITraining/RAVDESS/Actor_03/03-01-06-02-02-01-03.wav'), PosixPath('/content/drive/My Drive/Colab Notebooks/AITraining/RAVDESS/Actor_03/03-01-06-01-02-01-03.wav'), PosixPath('/content/drive/My Drive/Colab Notebooks/AITraining/RAVDESS/Actor_03/03-01-06-02-01-01-03.wav'), PosixPath('/content/drive/My Drive/Colab Notebooks/AITraining/RAVDESS/Actor_03/03-01-08-01-01-01-03.wav'), PosixPath('/content/drive/My Drive/Colab Notebooks/AITraining/RAVDESS/Actor_03/03-01-07-02-01-01-03.wav'), PosixPath('/content/drive/My Drive/Colab Notebooks/AITraining/RAVDESS/Actor_03/03-01-08-02-02-02-03.wav'), PosixPath('/content/drive/My Drive/Colab Notebooks/AITraining/RAVDESS/Actor_03/03-01-07-01-01-02-03.wav'), PosixPath('/content/drive/My Drive/Colab Notebooks/AITraining/RAVDESS/Actor_03/03-01-08-02-02-01-03.wav'), PosixPath('/content/drive/My Drive/Colab Notebooks/AITraining/RAVDESS/Actor_03/03-01-06-02-02-02-03.wav'), PosixPath('/content/drive/My Drive/Colab Notebooks/AITraining/RAVDESS/Actor_03/03-01-08-02-01-02-03.wav'), PosixPath('/content/drive/My Drive/Colab Notebooks/AITraining/RAVDESS/Actor_03/03-01-07-01-02-02-03.wav'), PosixPath('/content/drive/My Drive/Colab Notebooks/AITraining/RAVDESS/Actor_03/03-01-06-01-01-01-03.wav'), PosixPath('/content/drive/My Drive/Colab Notebooks/AITraining/RAVDESS/Actor_03/03-01-07-02-02-02-03.wav'), PosixPath('/content/drive/My Drive/Colab Notebooks/AITraining/RAVDESS/Actor_03/03-01-07-02-02-01-03.wav'), PosixPath('/content/drive/My Drive/Colab Notebooks/AITraining/RAVDESS/Actor_02/03-01-02-01-01-01-02.wav'), PosixPath('/content/drive/My Drive/Colab Notebooks/AITraining/RAVDESS/Actor_02/03-01-02-01-02-01-02.wav'), PosixPath('/content/drive/My Drive/Colab Notebooks/AITraining/RAVDESS/Actor_02/03-01-01-01-01-01-02.wav'), PosixPath('/content/drive/My Drive/Colab Notebooks/AITraining/RAVDESS/Actor_02/03-01-02-02-02-01-02.wav'), PosixPath('/content/drive/My Drive/Colab Notebooks/AITraining/RAVDESS/Actor_02/03-01-02-01-02-02-02.wav'), PosixPath('/content/drive/My Drive/Colab Notebooks/AITraining/RAVDESS/Actor_02/03-01-01-01-01-02-02.wav'), PosixPath('/content/drive/My Drive/Colab Notebooks/AITraining/RAVDESS/Actor_02/03-01-02-02-01-02-02.wav'), PosixPath('/content/drive/My Drive/Colab Notebooks/AITraining/RAVDESS/Actor_02/03-01-02-01-01-02-02.wav'), PosixPath('/content/drive/My Drive/Colab Notebooks/AITraining/RAVDESS/Actor_02/03-01-02-02-01-01-02.wav'), PosixPath('/content/drive/My Drive/Colab Notebooks/AITraining/RAVDESS/Actor_02/03-01-01-01-02-02-02.wav'), PosixPath('/content/drive/My Drive/Colab Notebooks/AITraining/RAVDESS/Actor_02/03-01-01-01-02-01-02.wav'), PosixPath('/content/drive/My Drive/Colab Notebooks/AITraining/RAVDESS/Actor_02/03-01-06-01-02-01-02.wav'), PosixPath('/content/drive/My Drive/Colab Notebooks/AITraining/RAVDESS/Actor_02/03-01-05-01-02-01-02.wav'), PosixPath('/content/drive/My Drive/Colab Notebooks/AITraining/RAVDESS/Actor_02/03-01-04-02-02-01-02.wav'), PosixPath('/content/drive/My Drive/Colab Notebooks/AITraining/RAVDESS/Actor_02/03-01-06-01-01-02-02.wav'), PosixPath('/content/drive/My Drive/Colab Notebooks/AITraining/RAVDESS/Actor_02/03-01-03-01-02-01-02.wav'), PosixPath('/content/drive/My Drive/Colab Notebooks/AITraining/RAVDESS/Actor_02/03-01-03-01-01-01-02.wav'), PosixPath('/content/drive/My Drive/Colab Notebooks/AITraining/RAVDESS/Actor_02/03-01-05-02-01-02-02.wav'), PosixPath('/content/drive/My Drive/Colab Notebooks/AITraining/RAVDESS/Actor_02/03-01-04-02-01-01-02.wav'), PosixPath('/content/drive/My Drive/Colab Notebooks/AITraining/RAVDESS/Actor_02/03-01-04-01-01-01-02.wav'), PosixPath('/content/drive/My Drive/Colab Notebooks/AITraining/RAVDESS/Actor_02/03-01-03-01-02-02-02.wav'), PosixPath('/content/drive/My Drive/Colab Notebooks/AITraining/RAVDESS/Actor_02/03-01-05-01-01-02-02.wav'), PosixPath('/content/drive/My Drive/Colab Notebooks/AITraining/RAVDESS/Actor_02/03-01-03-02-02-01-02.wav'), PosixPath('/content/drive/My Drive/Colab Notebooks/AITraining/RAVDESS/Actor_02/03-01-03-01-01-02-02.wav'), PosixPath('/content/drive/My Drive/Colab Notebooks/AITraining/RAVDESS/Actor_02/03-01-03-02-01-02-02.wav'), PosixPath('/content/drive/My Drive/Colab Notebooks/AITraining/RAVDESS/Actor_02/03-01-05-02-02-02-02.wav'), PosixPath('/content/drive/My Drive/Colab Notebooks/AITraining/RAVDESS/Actor_02/03-01-03-02-01-01-02.wav'), PosixPath('/content/drive/My Drive/Colab Notebooks/AITraining/RAVDESS/Actor_02/03-01-05-01-02-02-02.wav'), PosixPath('/content/drive/My Drive/Colab Notebooks/AITraining/RAVDESS/Actor_02/03-01-06-01-02-02-02.wav'), PosixPath('/content/drive/My Drive/Colab Notebooks/AITraining/RAVDESS/Actor_02/03-01-06-01-01-01-02.wav'), PosixPath('/content/drive/My Drive/Colab Notebooks/AITraining/RAVDESS/Actor_02/03-01-04-02-01-02-02.wav'), PosixPath('/content/drive/My Drive/Colab Notebooks/AITraining/RAVDESS/Actor_02/03-01-05-02-02-01-02.wav'), PosixPath('/content/drive/My Drive/Colab Notebooks/AITraining/RAVDESS/Actor_02/03-01-04-01-01-02-02.wav'), PosixPath('/content/drive/My Drive/Colab Notebooks/AITraining/RAVDESS/Actor_02/03-01-05-01-01-01-02.wav'), PosixPath('/content/drive/My Drive/Colab Notebooks/AITraining/RAVDESS/Actor_02/03-01-04-01-02-02-02.wav'), PosixPath('/content/drive/My Drive/Colab Notebooks/AITraining/RAVDESS/Actor_02/03-01-05-02-01-01-02.wav'), PosixPath('/content/drive/My Drive/Colab Notebooks/AITraining/RAVDESS/Actor_02/03-01-04-01-02-01-02.wav'), PosixPath('/content/drive/My Drive/Colab Notebooks/AITraining/RAVDESS/Actor_02/03-01-03-02-02-02-02.wav'), PosixPath('/content/drive/My Drive/Colab Notebooks/AITraining/RAVDESS/Actor_02/03-01-02-02-02-02-02.wav'), PosixPath('/content/drive/My Drive/Colab Notebooks/AITraining/RAVDESS/Actor_02/03-01-04-02-02-02-02.wav'), PosixPath('/content/drive/My Drive/Colab Notebooks/AITraining/RAVDESS/Actor_02/03-01-06-02-01-01-02.wav'), PosixPath('/content/drive/My Drive/Colab Notebooks/AITraining/RAVDESS/Actor_02/03-01-06-02-02-01-02.wav'), PosixPath('/content/drive/My Drive/Colab Notebooks/AITraining/RAVDESS/Actor_02/03-01-07-01-01-02-02.wav'), PosixPath('/content/drive/My Drive/Colab Notebooks/AITraining/RAVDESS/Actor_02/03-01-06-02-01-02-02.wav'), PosixPath('/content/drive/My Drive/Colab Notebooks/AITraining/RAVDESS/Actor_02/03-01-07-01-01-01-02.wav'), PosixPath('/content/drive/My Drive/Colab Notebooks/AITraining/RAVDESS/Actor_02/03-01-06-02-02-02-02.wav'), PosixPath('/content/drive/My Drive/Colab Notebooks/AITraining/RAVDESS/Actor_02/03-01-08-02-02-01-02.wav'), PosixPath('/content/drive/My Drive/Colab Notebooks/AITraining/RAVDESS/Actor_02/03-01-07-02-01-01-02.wav'), PosixPath('/content/drive/My Drive/Colab Notebooks/AITraining/RAVDESS/Actor_02/03-01-07-02-02-02-02.wav'), PosixPath('/content/drive/My Drive/Colab Notebooks/AITraining/RAVDESS/Actor_02/03-01-08-02-01-02-02.wav'), PosixPath('/content/drive/My Drive/Colab Notebooks/AITraining/RAVDESS/Actor_02/03-01-08-01-02-01-02.wav'), PosixPath('/content/drive/My Drive/Colab Notebooks/AITraining/RAVDESS/Actor_02/03-01-07-02-01-02-02.wav'), PosixPath('/content/drive/My Drive/Colab Notebooks/AITraining/RAVDESS/Actor_02/03-01-07-01-02-01-02.wav'), PosixPath('/content/drive/My Drive/Colab Notebooks/AITraining/RAVDESS/Actor_02/03-01-08-02-01-01-02.wav'), PosixPath('/content/drive/My Drive/Colab Notebooks/AITraining/RAVDESS/Actor_02/03-01-08-01-01-02-02.wav'), PosixPath('/content/drive/My Drive/Colab Notebooks/AITraining/RAVDESS/Actor_02/03-01-08-01-02-02-02.wav'), PosixPath('/content/drive/My Drive/Colab Notebooks/AITraining/RAVDESS/Actor_02/03-01-08-02-02-02-02.wav'), PosixPath('/content/drive/My Drive/Colab Notebooks/AITraining/RAVDESS/Actor_02/03-01-07-01-02-02-02.wav'), PosixPath('/content/drive/My Drive/Colab Notebooks/AITraining/RAVDESS/Actor_02/03-01-07-02-02-01-02.wav'), PosixPath('/content/drive/My Drive/Colab Notebooks/AITraining/RAVDESS/Actor_02/03-01-08-01-01-01-02.wav'), PosixPath('/content/drive/My Drive/Colab Notebooks/AITraining/RAVDESS/Actor_22/03-01-06-01-02-01-22.wav'), PosixPath('/content/drive/My Drive/Colab Notebooks/AITraining/RAVDESS/Actor_22/03-01-05-01-02-01-22.wav'), PosixPath('/content/drive/My Drive/Colab Notebooks/AITraining/RAVDESS/Actor_22/03-01-04-01-01-01-22.wav'), PosixPath('/content/drive/My Drive/Colab Notebooks/AITraining/RAVDESS/Actor_22/03-01-01-01-01-01-22.wav'), PosixPath('/content/drive/My Drive/Colab Notebooks/AITraining/RAVDESS/Actor_22/03-01-02-01-01-01-22.wav'), PosixPath('/content/drive/My Drive/Colab Notebooks/AITraining/RAVDESS/Actor_22/03-01-06-02-01-01-22.wav'), PosixPath('/content/drive/My Drive/Colab Notebooks/AITraining/RAVDESS/Actor_22/03-01-04-02-02-02-22.wav'), PosixPath('/content/drive/My Drive/Colab Notebooks/AITraining/RAVDESS/Actor_22/03-01-07-01-02-01-22.wav'), PosixPath('/content/drive/My Drive/Colab Notebooks/AITraining/RAVDESS/Actor_22/03-01-01-01-01-02-22.wav'), PosixPath('/content/drive/My Drive/Colab Notebooks/AITraining/RAVDESS/Actor_22/03-01-01-01-02-02-22.wav'), PosixPath('/content/drive/My Drive/Colab Notebooks/AITraining/RAVDESS/Actor_22/03-01-02-02-02-02-22.wav'), PosixPath('/content/drive/My Drive/Colab Notebooks/AITraining/RAVDESS/Actor_22/03-01-05-02-02-01-22.wav'), PosixPath('/content/drive/My Drive/Colab Notebooks/AITraining/RAVDESS/Actor_22/03-01-04-01-02-01-22.wav'), PosixPath('/content/drive/My Drive/Colab Notebooks/AITraining/RAVDESS/Actor_22/03-01-04-01-02-02-22.wav'), PosixPath('/content/drive/My Drive/Colab Notebooks/AITraining/RAVDESS/Actor_22/03-01-04-01-01-02-22.wav'), PosixPath('/content/drive/My Drive/Colab Notebooks/AITraining/RAVDESS/Actor_22/03-01-07-01-01-02-22.wav'), PosixPath('/content/drive/My Drive/Colab Notebooks/AITraining/RAVDESS/Actor_22/03-01-03-02-02-02-22.wav'), PosixPath('/content/drive/My Drive/Colab Notebooks/AITraining/RAVDESS/Actor_22/03-01-03-02-02-01-22.wav'), PosixPath('/content/drive/My Drive/Colab Notebooks/AITraining/RAVDESS/Actor_22/03-01-04-02-01-02-22.wav'), PosixPath('/content/drive/My Drive/Colab Notebooks/AITraining/RAVDESS/Actor_22/03-01-03-01-02-02-22.wav'), PosixPath('/content/drive/My Drive/Colab Notebooks/AITraining/RAVDESS/Actor_22/03-01-03-02-01-02-22.wav'), PosixPath('/content/drive/My Drive/Colab Notebooks/AITraining/RAVDESS/Actor_22/03-01-02-01-01-02-22.wav'), PosixPath('/content/drive/My Drive/Colab Notebooks/AITraining/RAVDESS/Actor_22/03-01-03-01-01-02-22.wav'), PosixPath('/content/drive/My Drive/Colab Notebooks/AITraining/RAVDESS/Actor_22/03-01-02-02-01-02-22.wav'), PosixPath('/content/drive/My Drive/Colab Notebooks/AITraining/RAVDESS/Actor_22/03-01-02-02-02-01-22.wav'), PosixPath('/content/drive/My Drive/Colab Notebooks/AITraining/RAVDESS/Actor_22/03-01-03-01-02-01-22.wav'), PosixPath('/content/drive/My Drive/Colab Notebooks/AITraining/RAVDESS/Actor_22/03-01-07-02-01-02-22.wav'), PosixPath('/content/drive/My Drive/Colab Notebooks/AITraining/RAVDESS/Actor_22/03-01-04-02-02-01-22.wav'), PosixPath('/content/drive/My Drive/Colab Notebooks/AITraining/RAVDESS/Actor_22/03-01-06-01-01-01-22.wav'), PosixPath('/content/drive/My Drive/Colab Notebooks/AITraining/RAVDESS/Actor_22/03-01-07-02-02-01-22.wav'), PosixPath('/content/drive/My Drive/Colab Notebooks/AITraining/RAVDESS/Actor_22/03-01-06-02-02-01-22.wav'), PosixPath('/content/drive/My Drive/Colab Notebooks/AITraining/RAVDESS/Actor_22/03-01-05-01-01-01-22.wav'), PosixPath('/content/drive/My Drive/Colab Notebooks/AITraining/RAVDESS/Actor_22/03-01-05-02-02-02-22.wav'), PosixPath('/content/drive/My Drive/Colab Notebooks/AITraining/RAVDESS/Actor_22/03-01-06-02-01-02-22.wav'), PosixPath('/content/drive/My Drive/Colab Notebooks/AITraining/RAVDESS/Actor_22/03-01-06-02-02-02-22.wav'), PosixPath('/content/drive/My Drive/Colab Notebooks/AITraining/RAVDESS/Actor_22/03-01-02-02-01-01-22.wav'), PosixPath('/content/drive/My Drive/Colab Notebooks/AITraining/RAVDESS/Actor_22/03-01-02-01-02-02-22.wav'), PosixPath('/content/drive/My Drive/Colab Notebooks/AITraining/RAVDESS/Actor_22/03-01-01-01-02-01-22.wav'), PosixPath('/content/drive/My Drive/Colab Notebooks/AITraining/RAVDESS/Actor_22/03-01-04-02-01-01-22.wav'), PosixPath('/content/drive/My Drive/Colab Notebooks/AITraining/RAVDESS/Actor_22/03-01-07-01-01-01-22.wav'), PosixPath('/content/drive/My Drive/Colab Notebooks/AITraining/RAVDESS/Actor_22/03-01-02-01-02-01-22.wav'), PosixPath('/content/drive/My Drive/Colab Notebooks/AITraining/RAVDESS/Actor_22/03-01-05-01-01-02-22.wav'), PosixPath('/content/drive/My Drive/Colab Notebooks/AITraining/RAVDESS/Actor_22/03-01-05-02-01-02-22.wav'), PosixPath('/content/drive/My Drive/Colab Notebooks/AITraining/RAVDESS/Actor_22/03-01-03-02-01-01-22.wav'), PosixPath('/content/drive/My Drive/Colab Notebooks/AITraining/RAVDESS/Actor_22/03-01-07-02-01-01-22.wav'), PosixPath('/content/drive/My Drive/Colab Notebooks/AITraining/RAVDESS/Actor_22/03-01-03-01-01-01-22.wav'), PosixPath('/content/drive/My Drive/Colab Notebooks/AITraining/RAVDESS/Actor_22/03-01-06-01-02-02-22.wav'), PosixPath('/content/drive/My Drive/Colab Notebooks/AITraining/RAVDESS/Actor_22/03-01-05-01-02-02-22.wav'), PosixPath('/content/drive/My Drive/Colab Notebooks/AITraining/RAVDESS/Actor_22/03-01-07-01-02-02-22.wav'), PosixPath('/content/drive/My Drive/Colab Notebooks/AITraining/RAVDESS/Actor_22/03-01-06-01-01-02-22.wav'), PosixPath('/content/drive/My Drive/Colab Notebooks/AITraining/RAVDESS/Actor_22/03-01-05-02-01-01-22.wav'), PosixPath('/content/drive/My Drive/Colab Notebooks/AITraining/RAVDESS/Actor_22/03-01-08-01-01-01-22.wav'), PosixPath('/content/drive/My Drive/Colab Notebooks/AITraining/RAVDESS/Actor_22/03-01-07-02-02-02-22.wav'), PosixPath('/content/drive/My Drive/Colab Notebooks/AITraining/RAVDESS/Actor_22/03-01-08-02-01-02-22.wav'), PosixPath('/content/drive/My Drive/Colab Notebooks/AITraining/RAVDESS/Actor_22/03-01-08-02-01-01-22.wav'), PosixPath('/content/drive/My Drive/Colab Notebooks/AITraining/RAVDESS/Actor_22/03-01-08-02-02-02-22.wav'), PosixPath('/content/drive/My Drive/Colab Notebooks/AITraining/RAVDESS/Actor_22/03-01-08-01-02-02-22.wav'), PosixPath('/content/drive/My Drive/Colab Notebooks/AITraining/RAVDESS/Actor_22/03-01-08-01-02-01-22.wav'), PosixPath('/content/drive/My Drive/Colab Notebooks/AITraining/RAVDESS/Actor_22/03-01-08-01-01-02-22.wav'), PosixPath('/content/drive/My Drive/Colab Notebooks/AITraining/RAVDESS/Actor_22/03-01-08-02-02-01-22.wav'), PosixPath('/content/drive/My Drive/Colab Notebooks/AITraining/RAVDESS/Actor_09/03-01-05-01-02-01-09.wav'), PosixPath('/content/drive/My Drive/Colab Notebooks/AITraining/RAVDESS/Actor_09/03-01-06-01-02-01-09.wav'), PosixPath('/content/drive/My Drive/Colab Notebooks/AITraining/RAVDESS/Actor_09/03-01-02-01-02-02-09.wav'), PosixPath('/content/drive/My Drive/Colab Notebooks/AITraining/RAVDESS/Actor_09/03-01-02-02-01-01-09.wav'), PosixPath('/content/drive/My Drive/Colab Notebooks/AITraining/RAVDESS/Actor_09/03-01-02-01-01-01-09.wav'), PosixPath('/content/drive/My Drive/Colab Notebooks/AITraining/RAVDESS/Actor_09/03-01-02-02-01-02-09.wav'), PosixPath('/content/drive/My Drive/Colab Notebooks/AITraining/RAVDESS/Actor_09/03-01-06-01-01-02-09.wav'), PosixPath('/content/drive/My Drive/Colab Notebooks/AITraining/RAVDESS/Actor_09/03-01-05-01-01-02-09.wav'), PosixPath('/content/drive/My Drive/Colab Notebooks/AITraining/RAVDESS/Actor_09/03-01-04-01-02-01-09.wav'), PosixPath('/content/drive/My Drive/Colab Notebooks/AITraining/RAVDESS/Actor_09/03-01-01-01-02-02-09.wav'), PosixPath('/content/drive/My Drive/Colab Notebooks/AITraining/RAVDESS/Actor_09/03-01-01-01-02-01-09.wav'), PosixPath('/content/drive/My Drive/Colab Notebooks/AITraining/RAVDESS/Actor_09/03-01-01-01-01-01-09.wav'), PosixPath('/content/drive/My Drive/Colab Notebooks/AITraining/RAVDESS/Actor_09/03-01-01-01-01-02-09.wav'), PosixPath('/content/drive/My Drive/Colab Notebooks/AITraining/RAVDESS/Actor_09/03-01-06-01-01-01-09.wav'), PosixPath('/content/drive/My Drive/Colab Notebooks/AITraining/RAVDESS/Actor_09/03-01-02-01-02-01-09.wav'), PosixPath('/content/drive/My Drive/Colab Notebooks/AITraining/RAVDESS/Actor_09/03-01-03-01-01-01-09.wav'), PosixPath('/content/drive/My Drive/Colab Notebooks/AITraining/RAVDESS/Actor_09/03-01-03-01-02-02-09.wav'), PosixPath('/content/drive/My Drive/Colab Notebooks/AITraining/RAVDESS/Actor_09/03-01-03-01-02-01-09.wav'), PosixPath('/content/drive/My Drive/Colab Notebooks/AITraining/RAVDESS/Actor_09/03-01-06-02-02-01-09.wav'), PosixPath('/content/drive/My Drive/Colab Notebooks/AITraining/RAVDESS/Actor_09/03-01-05-02-02-01-09.wav'), PosixPath('/content/drive/My Drive/Colab Notebooks/AITraining/RAVDESS/Actor_09/03-01-04-02-01-02-09.wav'), PosixPath('/content/drive/My Drive/Colab Notebooks/AITraining/RAVDESS/Actor_09/03-01-05-02-01-01-09.wav'), PosixPath('/content/drive/My Drive/Colab Notebooks/AITraining/RAVDESS/Actor_09/03-01-05-02-02-02-09.wav'), PosixPath('/content/drive/My Drive/Colab Notebooks/AITraining/RAVDESS/Actor_09/03-01-02-02-02-02-09.wav'), PosixPath('/content/drive/My Drive/Colab Notebooks/AITraining/RAVDESS/Actor_09/03-01-04-01-01-01-09.wav'), PosixPath('/content/drive/My Drive/Colab Notebooks/AITraining/RAVDESS/Actor_09/03-01-03-02-01-02-09.wav'), PosixPath('/content/drive/My Drive/Colab Notebooks/AITraining/RAVDESS/Actor_09/03-01-04-01-01-02-09.wav'), PosixPath('/content/drive/My Drive/Colab Notebooks/AITraining/RAVDESS/Actor_09/03-01-03-02-01-01-09.wav'), PosixPath('/content/drive/My Drive/Colab Notebooks/AITraining/RAVDESS/Actor_09/03-01-04-02-01-01-09.wav'), PosixPath('/content/drive/My Drive/Colab Notebooks/AITraining/RAVDESS/Actor_09/03-01-06-01-02-02-09.wav'), PosixPath('/content/drive/My Drive/Colab Notebooks/AITraining/RAVDESS/Actor_09/03-01-05-01-02-02-09.wav'), PosixPath('/content/drive/My Drive/Colab Notebooks/AITraining/RAVDESS/Actor_09/03-01-04-02-02-02-09.wav'), PosixPath('/content/drive/My Drive/Colab Notebooks/AITraining/RAVDESS/Actor_09/03-01-04-01-02-02-09.wav'), PosixPath('/content/drive/My Drive/Colab Notebooks/AITraining/RAVDESS/Actor_09/03-01-02-02-02-01-09.wav'), PosixPath('/content/drive/My Drive/Colab Notebooks/AITraining/RAVDESS/Actor_09/03-01-06-02-01-02-09.wav'), PosixPath('/content/drive/My Drive/Colab Notebooks/AITraining/RAVDESS/Actor_09/03-01-06-02-01-01-09.wav'), PosixPath('/content/drive/My Drive/Colab Notebooks/AITraining/RAVDESS/Actor_09/03-01-05-01-01-01-09.wav'), PosixPath('/content/drive/My Drive/Colab Notebooks/AITraining/RAVDESS/Actor_09/03-01-04-02-02-01-09.wav'), PosixPath('/content/drive/My Drive/Colab Notebooks/AITraining/RAVDESS/Actor_09/03-01-05-02-01-02-09.wav'), PosixPath('/content/drive/My Drive/Colab Notebooks/AITraining/RAVDESS/Actor_09/03-01-03-02-02-02-09.wav'), PosixPath('/content/drive/My Drive/Colab Notebooks/AITraining/RAVDESS/Actor_09/03-01-02-01-01-02-09.wav'), PosixPath('/content/drive/My Drive/Colab Notebooks/AITraining/RAVDESS/Actor_09/03-01-03-01-01-02-09.wav'), PosixPath('/content/drive/My Drive/Colab Notebooks/AITraining/RAVDESS/Actor_09/03-01-03-02-02-01-09.wav'), PosixPath('/content/drive/My Drive/Colab Notebooks/AITraining/RAVDESS/Actor_09/03-01-06-02-02-02-09.wav'), PosixPath('/content/drive/My Drive/Colab Notebooks/AITraining/RAVDESS/Actor_09/03-01-07-02-01-01-09.wav'), PosixPath('/content/drive/My Drive/Colab Notebooks/AITraining/RAVDESS/Actor_09/03-01-08-01-01-02-09.wav'), PosixPath('/content/drive/My Drive/Colab Notebooks/AITraining/RAVDESS/Actor_09/03-01-07-01-02-01-09.wav'), PosixPath('/content/drive/My Drive/Colab Notebooks/AITraining/RAVDESS/Actor_09/03-01-07-02-02-01-09.wav'), PosixPath('/content/drive/My Drive/Colab Notebooks/AITraining/RAVDESS/Actor_09/03-01-07-02-02-02-09.wav'), PosixPath('/content/drive/My Drive/Colab Notebooks/AITraining/RAVDESS/Actor_09/03-01-08-02-01-01-09.wav'), PosixPath('/content/drive/My Drive/Colab Notebooks/AITraining/RAVDESS/Actor_09/03-01-08-02-02-01-09.wav'), PosixPath('/content/drive/My Drive/Colab Notebooks/AITraining/RAVDESS/Actor_09/03-01-07-01-01-02-09.wav'), PosixPath('/content/drive/My Drive/Colab Notebooks/AITraining/RAVDESS/Actor_09/03-01-08-01-01-01-09.wav'), PosixPath('/content/drive/My Drive/Colab Notebooks/AITraining/RAVDESS/Actor_09/03-01-07-02-01-02-09.wav'), PosixPath('/content/drive/My Drive/Colab Notebooks/AITraining/RAVDESS/Actor_09/03-01-08-02-01-02-09.wav'), PosixPath('/content/drive/My Drive/Colab Notebooks/AITraining/RAVDESS/Actor_09/03-01-07-01-01-01-09.wav'), PosixPath('/content/drive/My Drive/Colab Notebooks/AITraining/RAVDESS/Actor_09/03-01-07-01-02-02-09.wav'), PosixPath('/content/drive/My Drive/Colab Notebooks/AITraining/RAVDESS/Actor_09/03-01-08-01-02-01-09.wav'), PosixPath('/content/drive/My Drive/Colab Notebooks/AITraining/RAVDESS/Actor_09/03-01-08-01-02-02-09.wav'), PosixPath('/content/drive/My Drive/Colab Notebooks/AITraining/RAVDESS/Actor_09/03-01-08-02-02-02-09.wav'), PosixPath('/content/drive/My Drive/Colab Notebooks/AITraining/RAVDESS/Actor_12/03-01-01-01-01-01-12.wav'), PosixPath('/content/drive/My Drive/Colab Notebooks/AITraining/RAVDESS/Actor_12/03-01-01-01-01-02-12.wav'), PosixPath('/content/drive/My Drive/Colab Notebooks/AITraining/RAVDESS/Actor_12/03-01-07-01-01-02-12.wav'), PosixPath('/content/drive/My Drive/Colab Notebooks/AITraining/RAVDESS/Actor_12/03-01-07-01-01-01-12.wav'), PosixPath('/content/drive/My Drive/Colab Notebooks/AITraining/RAVDESS/Actor_12/03-01-03-01-02-02-12.wav'), PosixPath('/content/drive/My Drive/Colab Notebooks/AITraining/RAVDESS/Actor_12/03-01-06-01-02-02-12.wav'), PosixPath('/content/drive/My Drive/Colab Notebooks/AITraining/RAVDESS/Actor_12/03-01-03-02-01-01-12.wav'), PosixPath('/content/drive/My Drive/Colab Notebooks/AITraining/RAVDESS/Actor_12/03-01-06-02-01-02-12.wav'), PosixPath('/content/drive/My Drive/Colab Notebooks/AITraining/RAVDESS/Actor_12/03-01-06-01-01-01-12.wav'), PosixPath('/content/drive/My Drive/Colab Notebooks/AITraining/RAVDESS/Actor_12/03-01-04-01-01-01-12.wav'), PosixPath('/content/drive/My Drive/Colab Notebooks/AITraining/RAVDESS/Actor_12/03-01-06-01-02-01-12.wav'), PosixPath('/content/drive/My Drive/Colab Notebooks/AITraining/RAVDESS/Actor_12/03-01-06-02-02-01-12.wav'), PosixPath('/content/drive/My Drive/Colab Notebooks/AITraining/RAVDESS/Actor_12/03-01-03-01-01-02-12.wav'), PosixPath('/content/drive/My Drive/Colab Notebooks/AITraining/RAVDESS/Actor_12/03-01-05-01-01-02-12.wav'), PosixPath('/content/drive/My Drive/Colab Notebooks/AITraining/RAVDESS/Actor_12/03-01-05-01-01-01-12.wav'), PosixPath('/content/drive/My Drive/Colab Notebooks/AITraining/RAVDESS/Actor_12/03-01-04-01-02-02-12.wav'), PosixPath('/content/drive/My Drive/Colab Notebooks/AITraining/RAVDESS/Actor_12/03-01-06-02-02-02-12.wav'), PosixPath('/content/drive/My Drive/Colab Notebooks/AITraining/RAVDESS/Actor_12/03-01-07-02-02-01-12.wav'), PosixPath('/content/drive/My Drive/Colab Notebooks/AITraining/RAVDESS/Actor_12/03-01-02-01-02-02-12.wav'), PosixPath('/content/drive/My Drive/Colab Notebooks/AITraining/RAVDESS/Actor_12/03-01-07-02-02-02-12.wav'), PosixPath('/content/drive/My Drive/Colab Notebooks/AITraining/RAVDESS/Actor_12/03-01-03-02-02-02-12.wav'), PosixPath('/content/drive/My Drive/Colab Notebooks/AITraining/RAVDESS/Actor_12/03-01-07-02-01-01-12.wav'), PosixPath('/content/drive/My Drive/Colab Notebooks/AITraining/RAVDESS/Actor_12/03-01-06-01-01-02-12.wav'), PosixPath('/content/drive/My Drive/Colab Notebooks/AITraining/RAVDESS/Actor_12/03-01-01-01-02-01-12.wav'), PosixPath('/content/drive/My Drive/Colab Notebooks/AITraining/RAVDESS/Actor_12/03-01-02-01-01-01-12.wav'), PosixPath('/content/drive/My Drive/Colab Notebooks/AITraining/RAVDESS/Actor_12/03-01-02-02-01-01-12.wav'), PosixPath('/content/drive/My Drive/Colab Notebooks/AITraining/RAVDESS/Actor_12/03-01-02-02-02-02-12.wav'), PosixPath('/content/drive/My Drive/Colab Notebooks/AITraining/RAVDESS/Actor_12/03-01-05-02-02-01-12.wav'), PosixPath('/content/drive/My Drive/Colab Notebooks/AITraining/RAVDESS/Actor_12/03-01-07-02-01-02-12.wav'), PosixPath('/content/drive/My Drive/Colab Notebooks/AITraining/RAVDESS/Actor_12/03-01-04-02-02-02-12.wav'), PosixPath('/content/drive/My Drive/Colab Notebooks/AITraining/RAVDESS/Actor_12/03-01-02-01-01-02-12.wav'), PosixPath('/content/drive/My Drive/Colab Notebooks/AITraining/RAVDESS/Actor_12/03-01-05-02-01-01-12.wav'), PosixPath('/content/drive/My Drive/Colab Notebooks/AITraining/RAVDESS/Actor_12/03-01-02-02-01-02-12.wav'), PosixPath('/content/drive/My Drive/Colab Notebooks/AITraining/RAVDESS/Actor_12/03-01-04-01-02-01-12.wav'), PosixPath('/content/drive/My Drive/Colab Notebooks/AITraining/RAVDESS/Actor_12/03-01-04-02-01-02-12.wav'), PosixPath('/content/drive/My Drive/Colab Notebooks/AITraining/RAVDESS/Actor_12/03-01-08-01-01-02-12.wav'), PosixPath('/content/drive/My Drive/Colab Notebooks/AITraining/RAVDESS/Actor_12/03-01-05-01-02-01-12.wav'), PosixPath('/content/drive/My Drive/Colab Notebooks/AITraining/RAVDESS/Actor_12/03-01-07-01-02-01-12.wav'), PosixPath('/content/drive/My Drive/Colab Notebooks/AITraining/RAVDESS/Actor_12/03-01-05-02-01-02-12.wav'), PosixPath('/content/drive/My Drive/Colab Notebooks/AITraining/RAVDESS/Actor_12/03-01-03-02-01-02-12.wav'), PosixPath('/content/drive/My Drive/Colab Notebooks/AITraining/RAVDESS/Actor_12/03-01-02-01-02-01-12.wav'), PosixPath('/content/drive/My Drive/Colab Notebooks/AITraining/RAVDESS/Actor_12/03-01-05-01-02-02-12.wav'), PosixPath('/content/drive/My Drive/Colab Notebooks/AITraining/RAVDESS/Actor_12/03-01-02-02-02-01-12.wav'), PosixPath('/content/drive/My Drive/Colab Notebooks/AITraining/RAVDESS/Actor_12/03-01-04-02-01-01-12.wav'), PosixPath('/content/drive/My Drive/Colab Notebooks/AITraining/RAVDESS/Actor_12/03-01-08-01-01-01-12.wav'), PosixPath('/content/drive/My Drive/Colab Notebooks/AITraining/RAVDESS/Actor_12/03-01-03-01-02-01-12.wav'), PosixPath('/content/drive/My Drive/Colab Notebooks/AITraining/RAVDESS/Actor_12/03-01-03-02-02-01-12.wav'), PosixPath('/content/drive/My Drive/Colab Notebooks/AITraining/RAVDESS/Actor_12/03-01-05-02-02-02-12.wav'), PosixPath('/content/drive/My Drive/Colab Notebooks/AITraining/RAVDESS/Actor_12/03-01-01-01-02-02-12.wav'), PosixPath('/content/drive/My Drive/Colab Notebooks/AITraining/RAVDESS/Actor_12/03-01-03-01-01-01-12.wav'), PosixPath('/content/drive/My Drive/Colab Notebooks/AITraining/RAVDESS/Actor_12/03-01-04-02-02-01-12.wav'), PosixPath('/content/drive/My Drive/Colab Notebooks/AITraining/RAVDESS/Actor_12/03-01-07-01-02-02-12.wav'), PosixPath('/content/drive/My Drive/Colab Notebooks/AITraining/RAVDESS/Actor_12/03-01-06-02-01-01-12.wav'), PosixPath('/content/drive/My Drive/Colab Notebooks/AITraining/RAVDESS/Actor_12/03-01-04-01-01-02-12.wav'), PosixPath('/content/drive/My Drive/Colab Notebooks/AITraining/RAVDESS/Actor_12/03-01-08-02-02-01-12.wav'), PosixPath('/content/drive/My Drive/Colab Notebooks/AITraining/RAVDESS/Actor_12/03-01-08-01-02-01-12.wav'), PosixPath('/content/drive/My Drive/Colab Notebooks/AITraining/RAVDESS/Actor_12/03-01-08-01-02-02-12.wav'), PosixPath('/content/drive/My Drive/Colab Notebooks/AITraining/RAVDESS/Actor_12/03-01-08-02-02-02-12.wav'), PosixPath('/content/drive/My Drive/Colab Notebooks/AITraining/RAVDESS/Actor_12/03-01-08-02-01-01-12.wav'), PosixPath('/content/drive/My Drive/Colab Notebooks/AITraining/RAVDESS/Actor_12/03-01-08-02-01-02-12.wav'), PosixPath('/content/drive/My Drive/Colab Notebooks/AITraining/RAVDESS/Actor_05/03-01-02-02-02-01-05.wav'), PosixPath('/content/drive/My Drive/Colab Notebooks/AITraining/RAVDESS/Actor_05/03-01-02-02-01-01-05.wav'), PosixPath('/content/drive/My Drive/Colab Notebooks/AITraining/RAVDESS/Actor_05/03-01-03-01-01-01-05.wav'), PosixPath('/content/drive/My Drive/Colab Notebooks/AITraining/RAVDESS/Actor_05/03-01-04-01-02-02-05.wav'), PosixPath('/content/drive/My Drive/Colab Notebooks/AITraining/RAVDESS/Actor_05/03-01-03-02-02-02-05.wav'), PosixPath('/content/drive/My Drive/Colab Notebooks/AITraining/RAVDESS/Actor_05/03-01-01-01-01-02-05.wav'), PosixPath('/content/drive/My Drive/Colab Notebooks/AITraining/RAVDESS/Actor_05/03-01-03-01-01-02-05.wav'), PosixPath('/content/drive/My Drive/Colab Notebooks/AITraining/RAVDESS/Actor_05/03-01-01-01-02-01-05.wav'), PosixPath('/content/drive/My Drive/Colab Notebooks/AITraining/RAVDESS/Actor_05/03-01-03-02-01-02-05.wav'), PosixPath('/content/drive/My Drive/Colab Notebooks/AITraining/RAVDESS/Actor_05/03-01-02-02-02-02-05.wav'), PosixPath('/content/drive/My Drive/Colab Notebooks/AITraining/RAVDESS/Actor_05/03-01-03-02-02-01-05.wav'), PosixPath('/content/drive/My Drive/Colab Notebooks/AITraining/RAVDESS/Actor_05/03-01-02-01-02-01-05.wav'), PosixPath('/content/drive/My Drive/Colab Notebooks/AITraining/RAVDESS/Actor_05/03-01-03-01-02-01-05.wav'), PosixPath('/content/drive/My Drive/Colab Notebooks/AITraining/RAVDESS/Actor_05/03-01-03-02-01-01-05.wav'), PosixPath('/content/drive/My Drive/Colab Notebooks/AITraining/RAVDESS/Actor_05/03-01-02-01-02-02-05.wav'), PosixPath('/content/drive/My Drive/Colab Notebooks/AITraining/RAVDESS/Actor_05/03-01-04-01-02-01-05.wav'), PosixPath('/content/drive/My Drive/Colab Notebooks/AITraining/RAVDESS/Actor_05/03-01-02-01-01-01-05.wav'), PosixPath('/content/drive/My Drive/Colab Notebooks/AITraining/RAVDESS/Actor_05/03-01-02-02-01-02-05.wav'), PosixPath('/content/drive/My Drive/Colab Notebooks/AITraining/RAVDESS/Actor_05/03-01-03-01-02-02-05.wav'), PosixPath('/content/drive/My Drive/Colab Notebooks/AITraining/RAVDESS/Actor_05/03-01-04-01-01-01-05.wav'), PosixPath('/content/drive/My Drive/Colab Notebooks/AITraining/RAVDESS/Actor_05/03-01-04-02-01-01-05.wav'), PosixPath('/content/drive/My Drive/Colab Notebooks/AITraining/RAVDESS/Actor_05/03-01-02-01-01-02-05.wav'), PosixPath('/content/drive/My Drive/Colab Notebooks/AITraining/RAVDESS/Actor_05/03-01-04-01-01-02-05.wav'), PosixPath('/content/drive/My Drive/Colab Notebooks/AITraining/RAVDESS/Actor_05/03-01-01-01-02-02-05.wav'), PosixPath('/content/drive/My Drive/Colab Notebooks/AITraining/RAVDESS/Actor_05/03-01-01-01-01-01-05.wav'), PosixPath('/content/drive/My Drive/Colab Notebooks/AITraining/RAVDESS/Actor_05/03-01-07-01-01-02-05.wav'), PosixPath('/content/drive/My Drive/Colab Notebooks/AITraining/RAVDESS/Actor_05/03-01-06-02-01-02-05.wav'), PosixPath('/content/drive/My Drive/Colab Notebooks/AITraining/RAVDESS/Actor_05/03-01-04-02-02-01-05.wav'), PosixPath('/content/drive/My Drive/Colab Notebooks/AITraining/RAVDESS/Actor_05/03-01-07-02-02-01-05.wav'), PosixPath('/content/drive/My Drive/Colab Notebooks/AITraining/RAVDESS/Actor_05/03-01-06-01-02-02-05.wav'), PosixPath('/content/drive/My Drive/Colab Notebooks/AITraining/RAVDESS/Actor_05/03-01-07-02-01-02-05.wav'), PosixPath('/content/drive/My Drive/Colab Notebooks/AITraining/RAVDESS/Actor_05/03-01-05-02-02-02-05.wav'), PosixPath('/content/drive/My Drive/Colab Notebooks/AITraining/RAVDESS/Actor_05/03-01-08-02-01-02-05.wav'), PosixPath('/content/drive/My Drive/Colab Notebooks/AITraining/RAVDESS/Actor_05/03-01-05-02-02-01-05.wav'), PosixPath('/content/drive/My Drive/Colab Notebooks/AITraining/RAVDESS/Actor_05/03-01-07-01-02-01-05.wav'), PosixPath('/content/drive/My Drive/Colab Notebooks/AITraining/RAVDESS/Actor_05/03-01-04-02-02-02-05.wav'), PosixPath('/content/drive/My Drive/Colab Notebooks/AITraining/RAVDESS/Actor_05/03-01-04-02-01-02-05.wav'), PosixPath('/content/drive/My Drive/Colab Notebooks/AITraining/RAVDESS/Actor_05/03-01-07-02-01-01-05.wav'), PosixPath('/content/drive/My Drive/Colab Notebooks/AITraining/RAVDESS/Actor_05/03-01-06-01-01-02-05.wav'), PosixPath('/content/drive/My Drive/Colab Notebooks/AITraining/RAVDESS/Actor_05/03-01-07-01-01-01-05.wav'), PosixPath('/content/drive/My Drive/Colab Notebooks/AITraining/RAVDESS/Actor_05/03-01-05-01-02-02-05.wav'), PosixPath('/content/drive/My Drive/Colab Notebooks/AITraining/RAVDESS/Actor_05/03-01-05-01-02-01-05.wav'), PosixPath('/content/drive/My Drive/Colab Notebooks/AITraining/RAVDESS/Actor_05/03-01-05-02-01-02-05.wav'), PosixPath('/content/drive/My Drive/Colab Notebooks/AITraining/RAVDESS/Actor_05/03-01-07-01-02-02-05.wav'), PosixPath('/content/drive/My Drive/Colab Notebooks/AITraining/RAVDESS/Actor_05/03-01-05-01-01-01-05.wav'), PosixPath('/content/drive/My Drive/Colab Notebooks/AITraining/RAVDESS/Actor_05/03-01-08-01-02-02-05.wav'), PosixPath('/content/drive/My Drive/Colab Notebooks/AITraining/RAVDESS/Actor_05/03-01-08-02-02-02-05.wav'), PosixPath('/content/drive/My Drive/Colab Notebooks/AITraining/RAVDESS/Actor_05/03-01-05-02-01-01-05.wav'), PosixPath('/content/drive/My Drive/Colab Notebooks/AITraining/RAVDESS/Actor_05/03-01-07-02-02-02-05.wav'), PosixPath('/content/drive/My Drive/Colab Notebooks/AITraining/RAVDESS/Actor_05/03-01-06-01-02-01-05.wav'), PosixPath('/content/drive/My Drive/Colab Notebooks/AITraining/RAVDESS/Actor_05/03-01-08-01-01-02-05.wav'), PosixPath('/content/drive/My Drive/Colab Notebooks/AITraining/RAVDESS/Actor_05/03-01-06-02-01-01-05.wav'), PosixPath('/content/drive/My Drive/Colab Notebooks/AITraining/RAVDESS/Actor_05/03-01-06-02-02-02-05.wav'), PosixPath('/content/drive/My Drive/Colab Notebooks/AITraining/RAVDESS/Actor_05/03-01-06-02-02-01-05.wav'), PosixPath('/content/drive/My Drive/Colab Notebooks/AITraining/RAVDESS/Actor_05/03-01-08-01-02-01-05.wav'), PosixPath('/content/drive/My Drive/Colab Notebooks/AITraining/RAVDESS/Actor_05/03-01-05-01-01-02-05.wav'), PosixPath('/content/drive/My Drive/Colab Notebooks/AITraining/RAVDESS/Actor_05/03-01-08-02-01-01-05.wav'), PosixPath('/content/drive/My Drive/Colab Notebooks/AITraining/RAVDESS/Actor_05/03-01-08-01-01-01-05.wav'), PosixPath('/content/drive/My Drive/Colab Notebooks/AITraining/RAVDESS/Actor_05/03-01-06-01-01-01-05.wav'), PosixPath('/content/drive/My Drive/Colab Notebooks/AITraining/RAVDESS/Actor_05/03-01-08-02-02-01-05.wav'), PosixPath('/content/drive/My Drive/Colab Notebooks/AITraining/RAVDESS/Actor_13/03-01-04-02-02-01-13.wav'), PosixPath('/content/drive/My Drive/Colab Notebooks/AITraining/RAVDESS/Actor_13/03-01-02-02-02-02-13.wav'), PosixPath('/content/drive/My Drive/Colab Notebooks/AITraining/RAVDESS/Actor_13/03-01-06-01-01-01-13.wav'), PosixPath('/content/drive/My Drive/Colab Notebooks/AITraining/RAVDESS/Actor_13/03-01-02-02-01-01-13.wav'), PosixPath('/content/drive/My Drive/Colab Notebooks/AITraining/RAVDESS/Actor_13/03-01-05-02-02-02-13.wav'), PosixPath('/content/drive/My Drive/Colab Notebooks/AITraining/RAVDESS/Actor_13/03-01-06-02-01-01-13.wav'), PosixPath('/content/drive/My Drive/Colab Notebooks/AITraining/RAVDESS/Actor_13/03-01-05-02-02-01-13.wav'), PosixPath('/content/drive/My Drive/Colab Notebooks/AITraining/RAVDESS/Actor_13/03-01-02-01-01-01-13.wav'), PosixPath('/content/drive/My Drive/Colab Notebooks/AITraining/RAVDESS/Actor_13/03-01-04-01-02-01-13.wav'), PosixPath('/content/drive/My Drive/Colab Notebooks/AITraining/RAVDESS/Actor_13/03-01-05-02-01-02-13.wav'), PosixPath('/content/drive/My Drive/Colab Notebooks/AITraining/RAVDESS/Actor_13/03-01-03-02-01-01-13.wav'), PosixPath('/content/drive/My Drive/Colab Notebooks/AITraining/RAVDESS/Actor_13/03-01-07-02-02-02-13.wav'), PosixPath('/content/drive/My Drive/Colab Notebooks/AITraining/RAVDESS/Actor_13/03-01-06-02-01-02-13.wav'), PosixPath('/content/drive/My Drive/Colab Notebooks/AITraining/RAVDESS/Actor_13/03-01-02-02-02-01-13.wav'), PosixPath('/content/drive/My Drive/Colab Notebooks/AITraining/RAVDESS/Actor_13/03-01-04-02-01-01-13.wav'), PosixPath('/content/drive/My Drive/Colab Notebooks/AITraining/RAVDESS/Actor_13/03-01-03-02-02-01-13.wav'), PosixPath('/content/drive/My Drive/Colab Notebooks/AITraining/RAVDESS/Actor_13/03-01-03-02-01-02-13.wav'), PosixPath('/content/drive/My Drive/Colab Notebooks/AITraining/RAVDESS/Actor_13/03-01-05-01-01-01-13.wav'), PosixPath('/content/drive/My Drive/Colab Notebooks/AITraining/RAVDESS/Actor_13/03-01-05-01-02-01-13.wav'), PosixPath('/content/drive/My Drive/Colab Notebooks/AITraining/RAVDESS/Actor_13/03-01-04-02-01-02-13.wav'), PosixPath('/content/drive/My Drive/Colab Notebooks/AITraining/RAVDESS/Actor_13/03-01-02-02-01-02-13.wav'), PosixPath('/content/drive/My Drive/Colab Notebooks/AITraining/RAVDESS/Actor_13/03-01-07-01-02-01-13.wav'), PosixPath('/content/drive/My Drive/Colab Notebooks/AITraining/RAVDESS/Actor_13/03-01-04-01-02-02-13.wav'), PosixPath('/content/drive/My Drive/Colab Notebooks/AITraining/RAVDESS/Actor_13/03-01-04-01-01-01-13.wav'), PosixPath('/content/drive/My Drive/Colab Notebooks/AITraining/RAVDESS/Actor_13/03-01-05-02-01-01-13.wav'), PosixPath('/content/drive/My Drive/Colab Notebooks/AITraining/RAVDESS/Actor_13/03-01-06-01-02-02-13.wav'), PosixPath('/content/drive/My Drive/Colab Notebooks/AITraining/RAVDESS/Actor_13/03-01-01-01-02-01-13.wav'), PosixPath('/content/drive/My Drive/Colab Notebooks/AITraining/RAVDESS/Actor_13/03-01-01-01-01-01-13.wav'), PosixPath('/content/drive/My Drive/Colab Notebooks/AITraining/RAVDESS/Actor_13/03-01-03-01-01-01-13.wav'), PosixPath('/content/drive/My Drive/Colab Notebooks/AITraining/RAVDESS/Actor_13/03-01-06-01-01-02-13.wav'), PosixPath('/content/drive/My Drive/Colab Notebooks/AITraining/RAVDESS/Actor_13/03-01-01-01-01-02-13.wav'), PosixPath('/content/drive/My Drive/Colab Notebooks/AITraining/RAVDESS/Actor_13/03-01-06-02-02-02-13.wav'), PosixPath('/content/drive/My Drive/Colab Notebooks/AITraining/RAVDESS/Actor_13/03-01-07-02-01-01-13.wav'), PosixPath('/content/drive/My Drive/Colab Notebooks/AITraining/RAVDESS/Actor_13/03-01-05-01-02-02-13.wav'), PosixPath('/content/drive/My Drive/Colab Notebooks/AITraining/RAVDESS/Actor_13/03-01-06-01-02-01-13.wav'), PosixPath('/content/drive/My Drive/Colab Notebooks/AITraining/RAVDESS/Actor_13/03-01-01-01-02-02-13.wav'), PosixPath('/content/drive/My Drive/Colab Notebooks/AITraining/RAVDESS/Actor_13/03-01-06-02-02-01-13.wav'), PosixPath('/content/drive/My Drive/Colab Notebooks/AITraining/RAVDESS/Actor_13/03-01-04-02-02-02-13.wav'), PosixPath('/content/drive/My Drive/Colab Notebooks/AITraining/RAVDESS/Actor_13/03-01-02-01-02-02-13.wav'), PosixPath('/content/drive/My Drive/Colab Notebooks/AITraining/RAVDESS/Actor_13/03-01-03-01-01-02-13.wav'), PosixPath('/content/drive/My Drive/Colab Notebooks/AITraining/RAVDESS/Actor_13/03-01-07-02-01-02-13.wav'), PosixPath('/content/drive/My Drive/Colab Notebooks/AITraining/RAVDESS/Actor_13/03-01-02-01-01-02-13.wav'), PosixPath('/content/drive/My Drive/Colab Notebooks/AITraining/RAVDESS/Actor_13/03-01-07-01-01-02-13.wav'), PosixPath('/content/drive/My Drive/Colab Notebooks/AITraining/RAVDESS/Actor_13/03-01-08-01-01-01-13.wav'), PosixPath('/content/drive/My Drive/Colab Notebooks/AITraining/RAVDESS/Actor_13/03-01-07-01-01-01-13.wav'), PosixPath('/content/drive/My Drive/Colab Notebooks/AITraining/RAVDESS/Actor_13/03-01-04-01-01-02-13.wav'), PosixPath('/content/drive/My Drive/Colab Notebooks/AITraining/RAVDESS/Actor_13/03-01-03-02-02-02-13.wav'), PosixPath('/content/drive/My Drive/Colab Notebooks/AITraining/RAVDESS/Actor_13/03-01-07-02-02-01-13.wav'), PosixPath('/content/drive/My Drive/Colab Notebooks/AITraining/RAVDESS/Actor_13/03-01-07-01-02-02-13.wav'), PosixPath('/content/drive/My Drive/Colab Notebooks/AITraining/RAVDESS/Actor_13/03-01-03-01-02-01-13.wav'), PosixPath('/content/drive/My Drive/Colab Notebooks/AITraining/RAVDESS/Actor_13/03-01-05-01-01-02-13.wav'), PosixPath('/content/drive/My Drive/Colab Notebooks/AITraining/RAVDESS/Actor_13/03-01-03-01-02-02-13.wav'), PosixPath('/content/drive/My Drive/Colab Notebooks/AITraining/RAVDESS/Actor_13/03-01-02-01-02-01-13.wav'), PosixPath('/content/drive/My Drive/Colab Notebooks/AITraining/RAVDESS/Actor_13/03-01-08-01-01-02-13.wav'), PosixPath('/content/drive/My Drive/Colab Notebooks/AITraining/RAVDESS/Actor_13/03-01-08-02-01-01-13.wav'), PosixPath('/content/drive/My Drive/Colab Notebooks/AITraining/RAVDESS/Actor_13/03-01-08-02-01-02-13.wav'), PosixPath('/content/drive/My Drive/Colab Notebooks/AITraining/RAVDESS/Actor_13/03-01-08-01-02-01-13.wav'), PosixPath('/content/drive/My Drive/Colab Notebooks/AITraining/RAVDESS/Actor_13/03-01-08-02-02-01-13.wav'), PosixPath('/content/drive/My Drive/Colab Notebooks/AITraining/RAVDESS/Actor_13/03-01-08-01-02-02-13.wav'), PosixPath('/content/drive/My Drive/Colab Notebooks/AITraining/RAVDESS/Actor_13/03-01-08-02-02-02-13.wav'), PosixPath('/content/drive/My Drive/Colab Notebooks/AITraining/RAVDESS/Actor_24/03-01-06-02-02-01-24.wav'), PosixPath('/content/drive/My Drive/Colab Notebooks/AITraining/RAVDESS/Actor_24/03-01-03-02-01-01-24.wav'), PosixPath('/content/drive/My Drive/Colab Notebooks/AITraining/RAVDESS/Actor_24/03-01-03-01-01-02-24.wav'), PosixPath('/content/drive/My Drive/Colab Notebooks/AITraining/RAVDESS/Actor_24/03-01-03-01-01-01-24.wav'), PosixPath('/content/drive/My Drive/Colab Notebooks/AITraining/RAVDESS/Actor_24/03-01-02-02-01-01-24.wav'), PosixPath('/content/drive/My Drive/Colab Notebooks/AITraining/RAVDESS/Actor_24/03-01-04-02-01-02-24.wav'), PosixPath('/content/drive/My Drive/Colab Notebooks/AITraining/RAVDESS/Actor_24/03-01-02-02-02-01-24.wav'), PosixPath('/content/drive/My Drive/Colab Notebooks/AITraining/RAVDESS/Actor_24/03-01-06-01-02-01-24.wav'), PosixPath('/content/drive/My Drive/Colab Notebooks/AITraining/RAVDESS/Actor_24/03-01-04-02-02-01-24.wav'), PosixPath('/content/drive/My Drive/Colab Notebooks/AITraining/RAVDESS/Actor_24/03-01-06-01-01-01-24.wav'), PosixPath('/content/drive/My Drive/Colab Notebooks/AITraining/RAVDESS/Actor_24/03-01-07-01-01-01-24.wav'), PosixPath('/content/drive/My Drive/Colab Notebooks/AITraining/RAVDESS/Actor_24/03-01-06-02-01-01-24.wav'), PosixPath('/content/drive/My Drive/Colab Notebooks/AITraining/RAVDESS/Actor_24/03-01-01-01-01-01-24.wav'), PosixPath('/content/drive/My Drive/Colab Notebooks/AITraining/RAVDESS/Actor_24/03-01-06-01-01-02-24.wav'), PosixPath('/content/drive/My Drive/Colab Notebooks/AITraining/RAVDESS/Actor_24/03-01-02-01-02-02-24.wav'), PosixPath('/content/drive/My Drive/Colab Notebooks/AITraining/RAVDESS/Actor_24/03-01-05-02-02-01-24.wav'), PosixPath('/content/drive/My Drive/Colab Notebooks/AITraining/RAVDESS/Actor_24/03-01-04-01-01-01-24.wav'), PosixPath('/content/drive/My Drive/Colab Notebooks/AITraining/RAVDESS/Actor_24/03-01-04-01-01-02-24.wav'), PosixPath('/content/drive/My Drive/Colab Notebooks/AITraining/RAVDESS/Actor_24/03-01-02-02-02-02-24.wav'), PosixPath('/content/drive/My Drive/Colab Notebooks/AITraining/RAVDESS/Actor_24/03-01-02-02-01-02-24.wav'), PosixPath('/content/drive/My Drive/Colab Notebooks/AITraining/RAVDESS/Actor_24/03-01-03-02-02-01-24.wav'), PosixPath('/content/drive/My Drive/Colab Notebooks/AITraining/RAVDESS/Actor_24/03-01-05-01-02-02-24.wav'), PosixPath('/content/drive/My Drive/Colab Notebooks/AITraining/RAVDESS/Actor_24/03-01-05-01-01-02-24.wav'), PosixPath('/content/drive/My Drive/Colab Notebooks/AITraining/RAVDESS/Actor_24/03-01-01-01-01-02-24.wav'), PosixPath('/content/drive/My Drive/Colab Notebooks/AITraining/RAVDESS/Actor_24/03-01-06-02-01-02-24.wav'), PosixPath('/content/drive/My Drive/Colab Notebooks/AITraining/RAVDESS/Actor_24/03-01-02-01-02-01-24.wav'), PosixPath('/content/drive/My Drive/Colab Notebooks/AITraining/RAVDESS/Actor_24/03-01-03-01-02-02-24.wav'), PosixPath('/content/drive/My Drive/Colab Notebooks/AITraining/RAVDESS/Actor_24/03-01-04-02-01-01-24.wav'), PosixPath('/content/drive/My Drive/Colab Notebooks/AITraining/RAVDESS/Actor_24/03-01-05-01-02-01-24.wav'), PosixPath('/content/drive/My Drive/Colab Notebooks/AITraining/RAVDESS/Actor_24/03-01-06-02-02-02-24.wav'), PosixPath('/content/drive/My Drive/Colab Notebooks/AITraining/RAVDESS/Actor_24/03-01-02-01-01-01-24.wav'), PosixPath('/content/drive/My Drive/Colab Notebooks/AITraining/RAVDESS/Actor_24/03-01-07-01-01-02-24.wav'), PosixPath('/content/drive/My Drive/Colab Notebooks/AITraining/RAVDESS/Actor_24/03-01-04-02-02-02-24.wav'), PosixPath('/content/drive/My Drive/Colab Notebooks/AITraining/RAVDESS/Actor_24/03-01-05-02-01-02-24.wav'), PosixPath('/content/drive/My Drive/Colab Notebooks/AITraining/RAVDESS/Actor_24/03-01-05-01-01-01-24.wav'), PosixPath('/content/drive/My Drive/Colab Notebooks/AITraining/RAVDESS/Actor_24/03-01-01-01-02-02-24.wav'), PosixPath('/content/drive/My Drive/Colab Notebooks/AITraining/RAVDESS/Actor_24/03-01-06-01-02-02-24.wav'), PosixPath('/content/drive/My Drive/Colab Notebooks/AITraining/RAVDESS/Actor_24/03-01-05-02-01-01-24.wav'), PosixPath('/content/drive/My Drive/Colab Notebooks/AITraining/RAVDESS/Actor_24/03-01-03-02-02-02-24.wav'), PosixPath('/content/drive/My Drive/Colab Notebooks/AITraining/RAVDESS/Actor_24/03-01-05-02-02-02-24.wav'), PosixPath('/content/drive/My Drive/Colab Notebooks/AITraining/RAVDESS/Actor_24/03-01-03-02-01-02-24.wav'), PosixPath('/content/drive/My Drive/Colab Notebooks/AITraining/RAVDESS/Actor_24/03-01-04-01-02-01-24.wav'), PosixPath('/content/drive/My Drive/Colab Notebooks/AITraining/RAVDESS/Actor_24/03-01-02-01-01-02-24.wav'), PosixPath('/content/drive/My Drive/Colab Notebooks/AITraining/RAVDESS/Actor_24/03-01-04-01-02-02-24.wav'), PosixPath('/content/drive/My Drive/Colab Notebooks/AITraining/RAVDESS/Actor_24/03-01-03-01-02-01-24.wav'), PosixPath('/content/drive/My Drive/Colab Notebooks/AITraining/RAVDESS/Actor_24/03-01-01-01-02-01-24.wav'), PosixPath('/content/drive/My Drive/Colab Notebooks/AITraining/RAVDESS/Actor_24/03-01-07-02-01-01-24.wav'), PosixPath('/content/drive/My Drive/Colab Notebooks/AITraining/RAVDESS/Actor_24/03-01-08-01-01-01-24.wav'), PosixPath('/content/drive/My Drive/Colab Notebooks/AITraining/RAVDESS/Actor_24/03-01-08-02-02-02-24.wav'), PosixPath('/content/drive/My Drive/Colab Notebooks/AITraining/RAVDESS/Actor_24/03-01-07-02-01-02-24.wav'), PosixPath('/content/drive/My Drive/Colab Notebooks/AITraining/RAVDESS/Actor_24/03-01-07-02-02-01-24.wav'), PosixPath('/content/drive/My Drive/Colab Notebooks/AITraining/RAVDESS/Actor_24/03-01-08-01-02-02-24.wav'), PosixPath('/content/drive/My Drive/Colab Notebooks/AITraining/RAVDESS/Actor_24/03-01-08-01-02-01-24.wav'), PosixPath('/content/drive/My Drive/Colab Notebooks/AITraining/RAVDESS/Actor_24/03-01-08-02-01-02-24.wav'), PosixPath('/content/drive/My Drive/Colab Notebooks/AITraining/RAVDESS/Actor_24/03-01-07-01-02-02-24.wav'), PosixPath('/content/drive/My Drive/Colab Notebooks/AITraining/RAVDESS/Actor_24/03-01-08-02-01-01-24.wav'), PosixPath('/content/drive/My Drive/Colab Notebooks/AITraining/RAVDESS/Actor_24/03-01-08-02-02-01-24.wav'), PosixPath('/content/drive/My Drive/Colab Notebooks/AITraining/RAVDESS/Actor_24/03-01-08-01-01-02-24.wav'), PosixPath('/content/drive/My Drive/Colab Notebooks/AITraining/RAVDESS/Actor_24/03-01-07-01-02-01-24.wav'), PosixPath('/content/drive/My Drive/Colab Notebooks/AITraining/RAVDESS/Actor_24/03-01-07-02-02-02-24.wav'), PosixPath('/content/drive/My Drive/Colab Notebooks/AITraining/RAVDESS/Actor_23/03-01-04-01-01-01-23.wav'), PosixPath('/content/drive/My Drive/Colab Notebooks/AITraining/RAVDESS/Actor_23/03-01-03-01-01-02-23.wav'), PosixPath('/content/drive/My Drive/Colab Notebooks/AITraining/RAVDESS/Actor_23/03-01-01-01-02-01-23.wav'), PosixPath('/content/drive/My Drive/Colab Notebooks/AITraining/RAVDESS/Actor_23/03-01-02-02-01-02-23.wav'), PosixPath('/content/drive/My Drive/Colab Notebooks/AITraining/RAVDESS/Actor_23/03-01-01-01-02-02-23.wav'), PosixPath('/content/drive/My Drive/Colab Notebooks/AITraining/RAVDESS/Actor_23/03-01-06-01-02-02-23.wav'), PosixPath('/content/drive/My Drive/Colab Notebooks/AITraining/RAVDESS/Actor_23/03-01-04-02-01-01-23.wav'), PosixPath('/content/drive/My Drive/Colab Notebooks/AITraining/RAVDESS/Actor_23/03-01-07-01-02-01-23.wav'), PosixPath('/content/drive/My Drive/Colab Notebooks/AITraining/RAVDESS/Actor_23/03-01-06-02-01-02-23.wav'), PosixPath('/content/drive/My Drive/Colab Notebooks/AITraining/RAVDESS/Actor_23/03-01-05-01-01-01-23.wav'), PosixPath('/content/drive/My Drive/Colab Notebooks/AITraining/RAVDESS/Actor_23/03-01-06-02-01-01-23.wav'), PosixPath('/content/drive/My Drive/Colab Notebooks/AITraining/RAVDESS/Actor_23/03-01-05-02-02-02-23.wav'), PosixPath('/content/drive/My Drive/Colab Notebooks/AITraining/RAVDESS/Actor_23/03-01-02-02-02-02-23.wav'), PosixPath('/content/drive/My Drive/Colab Notebooks/AITraining/RAVDESS/Actor_23/03-01-05-01-01-02-23.wav'), PosixPath('/content/drive/My Drive/Colab Notebooks/AITraining/RAVDESS/Actor_23/03-01-05-01-02-01-23.wav'), PosixPath('/content/drive/My Drive/Colab Notebooks/AITraining/RAVDESS/Actor_23/03-01-07-01-01-02-23.wav'), PosixPath('/content/drive/My Drive/Colab Notebooks/AITraining/RAVDESS/Actor_23/03-01-04-01-01-02-23.wav'), PosixPath('/content/drive/My Drive/Colab Notebooks/AITraining/RAVDESS/Actor_23/03-01-07-02-01-02-23.wav'), PosixPath('/content/drive/My Drive/Colab Notebooks/AITraining/RAVDESS/Actor_23/03-01-02-01-01-02-23.wav'), PosixPath('/content/drive/My Drive/Colab Notebooks/AITraining/RAVDESS/Actor_23/03-01-06-02-02-02-23.wav'), PosixPath('/content/drive/My Drive/Colab Notebooks/AITraining/RAVDESS/Actor_23/03-01-03-02-02-02-23.wav'), PosixPath('/content/drive/My Drive/Colab Notebooks/AITraining/RAVDESS/Actor_23/03-01-06-01-02-01-23.wav'), PosixPath('/content/drive/My Drive/Colab Notebooks/AITraining/RAVDESS/Actor_23/03-01-05-02-01-02-23.wav'), PosixPath('/content/drive/My Drive/Colab Notebooks/AITraining/RAVDESS/Actor_23/03-01-03-02-02-01-23.wav'), PosixPath('/content/drive/My Drive/Colab Notebooks/AITraining/RAVDESS/Actor_23/03-01-07-01-02-02-23.wav'), PosixPath('/content/drive/My Drive/Colab Notebooks/AITraining/RAVDESS/Actor_23/03-01-05-02-01-01-23.wav'), PosixPath('/content/drive/My Drive/Colab Notebooks/AITraining/RAVDESS/Actor_23/03-01-07-01-01-01-23.wav'), PosixPath('/content/drive/My Drive/Colab Notebooks/AITraining/RAVDESS/Actor_23/03-01-03-01-02-01-23.wav'), PosixPath('/content/drive/My Drive/Colab Notebooks/AITraining/RAVDESS/Actor_23/03-01-03-01-02-02-23.wav'), PosixPath('/content/drive/My Drive/Colab Notebooks/AITraining/RAVDESS/Actor_23/03-01-02-02-01-01-23.wav'), PosixPath('/content/drive/My Drive/Colab Notebooks/AITraining/RAVDESS/Actor_23/03-01-06-02-02-01-23.wav'), PosixPath('/content/drive/My Drive/Colab Notebooks/AITraining/RAVDESS/Actor_23/03-01-06-01-01-02-23.wav'), PosixPath('/content/drive/My Drive/Colab Notebooks/AITraining/RAVDESS/Actor_23/03-01-06-01-01-01-23.wav'), PosixPath('/content/drive/My Drive/Colab Notebooks/AITraining/RAVDESS/Actor_23/03-01-01-01-01-01-23.wav'), PosixPath('/content/drive/My Drive/Colab Notebooks/AITraining/RAVDESS/Actor_23/03-01-02-01-02-01-23.wav'), PosixPath('/content/drive/My Drive/Colab Notebooks/AITraining/RAVDESS/Actor_23/03-01-04-02-01-02-23.wav'), PosixPath('/content/drive/My Drive/Colab Notebooks/AITraining/RAVDESS/Actor_23/03-01-02-01-02-02-23.wav'), PosixPath('/content/drive/My Drive/Colab Notebooks/AITraining/RAVDESS/Actor_23/03-01-05-02-02-01-23.wav'), PosixPath('/content/drive/My Drive/Colab Notebooks/AITraining/RAVDESS/Actor_23/03-01-02-01-01-01-23.wav'), PosixPath('/content/drive/My Drive/Colab Notebooks/AITraining/RAVDESS/Actor_23/03-01-07-02-02-01-23.wav'), PosixPath('/content/drive/My Drive/Colab Notebooks/AITraining/RAVDESS/Actor_23/03-01-03-02-01-01-23.wav'), PosixPath('/content/drive/My Drive/Colab Notebooks/AITraining/RAVDESS/Actor_23/03-01-07-02-01-01-23.wav'), PosixPath('/content/drive/My Drive/Colab Notebooks/AITraining/RAVDESS/Actor_23/03-01-04-02-02-02-23.wav'), PosixPath('/content/drive/My Drive/Colab Notebooks/AITraining/RAVDESS/Actor_23/03-01-05-01-02-02-23.wav'), PosixPath('/content/drive/My Drive/Colab Notebooks/AITraining/RAVDESS/Actor_23/03-01-03-02-01-02-23.wav'), PosixPath('/content/drive/My Drive/Colab Notebooks/AITraining/RAVDESS/Actor_23/03-01-04-01-02-01-23.wav'), PosixPath('/content/drive/My Drive/Colab Notebooks/AITraining/RAVDESS/Actor_23/03-01-01-01-01-02-23.wav'), PosixPath('/content/drive/My Drive/Colab Notebooks/AITraining/RAVDESS/Actor_23/03-01-04-02-02-01-23.wav'), PosixPath('/content/drive/My Drive/Colab Notebooks/AITraining/RAVDESS/Actor_23/03-01-03-01-01-01-23.wav'), PosixPath('/content/drive/My Drive/Colab Notebooks/AITraining/RAVDESS/Actor_23/03-01-04-01-02-02-23.wav'), PosixPath('/content/drive/My Drive/Colab Notebooks/AITraining/RAVDESS/Actor_23/03-01-02-02-02-01-23.wav'), PosixPath('/content/drive/My Drive/Colab Notebooks/AITraining/RAVDESS/Actor_23/03-01-08-01-02-02-23.wav'), PosixPath('/content/drive/My Drive/Colab Notebooks/AITraining/RAVDESS/Actor_23/03-01-08-02-02-02-23.wav'), PosixPath('/content/drive/My Drive/Colab Notebooks/AITraining/RAVDESS/Actor_23/03-01-08-02-01-01-23.wav'), PosixPath('/content/drive/My Drive/Colab Notebooks/AITraining/RAVDESS/Actor_23/03-01-08-01-02-01-23.wav'), PosixPath('/content/drive/My Drive/Colab Notebooks/AITraining/RAVDESS/Actor_23/03-01-07-02-02-02-23.wav'), PosixPath('/content/drive/My Drive/Colab Notebooks/AITraining/RAVDESS/Actor_23/03-01-08-01-01-02-23.wav'), PosixPath('/content/drive/My Drive/Colab Notebooks/AITraining/RAVDESS/Actor_23/03-01-08-01-01-01-23.wav'), PosixPath('/content/drive/My Drive/Colab Notebooks/AITraining/RAVDESS/Actor_23/03-01-08-02-01-02-23.wav'), PosixPath('/content/drive/My Drive/Colab Notebooks/AITraining/RAVDESS/Actor_23/03-01-08-02-02-01-23.wav'), PosixPath('/content/drive/My Drive/Colab Notebooks/AITraining/RAVDESS/Actor_15/03-01-01-01-02-01-15.wav'), PosixPath('/content/drive/My Drive/Colab Notebooks/AITraining/RAVDESS/Actor_15/03-01-05-02-01-02-15.wav'), PosixPath('/content/drive/My Drive/Colab Notebooks/AITraining/RAVDESS/Actor_15/03-01-04-02-02-01-15.wav'), PosixPath('/content/drive/My Drive/Colab Notebooks/AITraining/RAVDESS/Actor_15/03-01-03-02-02-01-15.wav'), PosixPath('/content/drive/My Drive/Colab Notebooks/AITraining/RAVDESS/Actor_15/03-01-06-02-02-02-15.wav'), PosixPath('/content/drive/My Drive/Colab Notebooks/AITraining/RAVDESS/Actor_15/03-01-04-02-01-02-15.wav'), PosixPath('/content/drive/My Drive/Colab Notebooks/AITraining/RAVDESS/Actor_15/03-01-07-01-01-01-15.wav'), PosixPath('/content/drive/My Drive/Colab Notebooks/AITraining/RAVDESS/Actor_15/03-01-04-02-01-01-15.wav'), PosixPath('/content/drive/My Drive/Colab Notebooks/AITraining/RAVDESS/Actor_15/03-01-01-01-02-02-15.wav'), PosixPath('/content/drive/My Drive/Colab Notebooks/AITraining/RAVDESS/Actor_15/03-01-05-02-02-02-15.wav'), PosixPath('/content/drive/My Drive/Colab Notebooks/AITraining/RAVDESS/Actor_15/03-01-06-02-01-02-15.wav'), PosixPath('/content/drive/My Drive/Colab Notebooks/AITraining/RAVDESS/Actor_15/03-01-05-01-01-01-15.wav'), PosixPath('/content/drive/My Drive/Colab Notebooks/AITraining/RAVDESS/Actor_15/03-01-04-01-01-02-15.wav'), PosixPath('/content/drive/My Drive/Colab Notebooks/AITraining/RAVDESS/Actor_15/03-01-05-01-01-02-15.wav'), PosixPath('/content/drive/My Drive/Colab Notebooks/AITraining/RAVDESS/Actor_15/03-01-06-01-02-01-15.wav'), PosixPath('/content/drive/My Drive/Colab Notebooks/AITraining/RAVDESS/Actor_15/03-01-06-01-01-02-15.wav'), PosixPath('/content/drive/My Drive/Colab Notebooks/AITraining/RAVDESS/Actor_15/03-01-03-02-02-02-15.wav'), PosixPath('/content/drive/My Drive/Colab Notebooks/AITraining/RAVDESS/Actor_15/03-01-03-01-02-01-15.wav'), PosixPath('/content/drive/My Drive/Colab Notebooks/AITraining/RAVDESS/Actor_15/03-01-05-01-02-01-15.wav'), PosixPath('/content/drive/My Drive/Colab Notebooks/AITraining/RAVDESS/Actor_15/03-01-02-02-02-01-15.wav'), PosixPath('/content/drive/My Drive/Colab Notebooks/AITraining/RAVDESS/Actor_15/03-01-03-01-01-01-15.wav'), PosixPath('/content/drive/My Drive/Colab Notebooks/AITraining/RAVDESS/Actor_15/03-01-02-02-01-02-15.wav'), PosixPath('/content/drive/My Drive/Colab Notebooks/AITraining/RAVDESS/Actor_15/03-01-04-01-01-01-15.wav'), PosixPath('/content/drive/My Drive/Colab Notebooks/AITraining/RAVDESS/Actor_15/03-01-04-01-02-02-15.wav'), PosixPath('/content/drive/My Drive/Colab Notebooks/AITraining/RAVDESS/Actor_15/03-01-01-01-01-02-15.wav'), PosixPath('/content/drive/My Drive/Colab Notebooks/AITraining/RAVDESS/Actor_15/03-01-02-02-01-01-15.wav'), PosixPath('/content/drive/My Drive/Colab Notebooks/AITraining/RAVDESS/Actor_15/03-01-02-01-02-02-15.wav'), PosixPath('/content/drive/My Drive/Colab Notebooks/AITraining/RAVDESS/Actor_15/03-01-02-01-02-01-15.wav'), PosixPath('/content/drive/My Drive/Colab Notebooks/AITraining/RAVDESS/Actor_15/03-01-06-01-01-01-15.wav'), PosixPath('/content/drive/My Drive/Colab Notebooks/AITraining/RAVDESS/Actor_15/03-01-06-02-02-01-15.wav'), PosixPath('/content/drive/My Drive/Colab Notebooks/AITraining/RAVDESS/Actor_15/03-01-02-01-01-02-15.wav'), PosixPath('/content/drive/My Drive/Colab Notebooks/AITraining/RAVDESS/Actor_15/03-01-04-01-02-01-15.wav'), PosixPath('/content/drive/My Drive/Colab Notebooks/AITraining/RAVDESS/Actor_15/03-01-03-01-02-02-15.wav'), PosixPath('/content/drive/My Drive/Colab Notebooks/AITraining/RAVDESS/Actor_15/03-01-05-02-02-01-15.wav'), PosixPath('/content/drive/My Drive/Colab Notebooks/AITraining/RAVDESS/Actor_15/03-01-04-02-02-02-15.wav'), PosixPath('/content/drive/My Drive/Colab Notebooks/AITraining/RAVDESS/Actor_15/03-01-03-02-01-02-15.wav'), PosixPath('/content/drive/My Drive/Colab Notebooks/AITraining/RAVDESS/Actor_15/03-01-07-01-01-02-15.wav'), PosixPath('/content/drive/My Drive/Colab Notebooks/AITraining/RAVDESS/Actor_15/03-01-02-01-01-01-15.wav'), PosixPath('/content/drive/My Drive/Colab Notebooks/AITraining/RAVDESS/Actor_15/03-01-05-02-01-01-15.wav'), PosixPath('/content/drive/My Drive/Colab Notebooks/AITraining/RAVDESS/Actor_15/03-01-01-01-01-01-15.wav'), PosixPath('/content/drive/My Drive/Colab Notebooks/AITraining/RAVDESS/Actor_15/03-01-03-02-01-01-15.wav'), PosixPath('/content/drive/My Drive/Colab Notebooks/AITraining/RAVDESS/Actor_15/03-01-06-02-01-01-15.wav'), PosixPath('/content/drive/My Drive/Colab Notebooks/AITraining/RAVDESS/Actor_15/03-01-05-01-02-02-15.wav'), PosixPath('/content/drive/My Drive/Colab Notebooks/AITraining/RAVDESS/Actor_15/03-01-06-01-02-02-15.wav'), PosixPath('/content/drive/My Drive/Colab Notebooks/AITraining/RAVDESS/Actor_15/03-01-02-02-02-02-15.wav'), PosixPath('/content/drive/My Drive/Colab Notebooks/AITraining/RAVDESS/Actor_15/03-01-03-01-01-02-15.wav'), PosixPath('/content/drive/My Drive/Colab Notebooks/AITraining/RAVDESS/Actor_15/03-01-08-02-02-01-15.wav'), PosixPath('/content/drive/My Drive/Colab Notebooks/AITraining/RAVDESS/Actor_15/03-01-08-01-01-02-15.wav'), PosixPath('/content/drive/My Drive/Colab Notebooks/AITraining/RAVDESS/Actor_15/03-01-07-01-02-02-15.wav'), PosixPath('/content/drive/My Drive/Colab Notebooks/AITraining/RAVDESS/Actor_15/03-01-08-01-02-01-15.wav'), PosixPath('/content/drive/My Drive/Colab Notebooks/AITraining/RAVDESS/Actor_15/03-01-07-02-02-02-15.wav'), PosixPath('/content/drive/My Drive/Colab Notebooks/AITraining/RAVDESS/Actor_15/03-01-07-02-02-01-15.wav'), PosixPath('/content/drive/My Drive/Colab Notebooks/AITraining/RAVDESS/Actor_15/03-01-08-02-02-02-15.wav'), PosixPath('/content/drive/My Drive/Colab Notebooks/AITraining/RAVDESS/Actor_15/03-01-07-02-01-02-15.wav'), PosixPath('/content/drive/My Drive/Colab Notebooks/AITraining/RAVDESS/Actor_15/03-01-08-01-01-01-15.wav'), PosixPath('/content/drive/My Drive/Colab Notebooks/AITraining/RAVDESS/Actor_15/03-01-08-02-01-02-15.wav'), PosixPath('/content/drive/My Drive/Colab Notebooks/AITraining/RAVDESS/Actor_15/03-01-08-02-01-01-15.wav'), PosixPath('/content/drive/My Drive/Colab Notebooks/AITraining/RAVDESS/Actor_15/03-01-08-01-02-02-15.wav'), PosixPath('/content/drive/My Drive/Colab Notebooks/AITraining/RAVDESS/Actor_15/03-01-07-02-01-01-15.wav'), PosixPath('/content/drive/My Drive/Colab Notebooks/AITraining/RAVDESS/Actor_15/03-01-07-01-02-01-15.wav'), PosixPath('/content/drive/My Drive/Colab Notebooks/AITraining/RAVDESS/Actor_14/03-01-05-02-02-01-14.wav'), PosixPath('/content/drive/My Drive/Colab Notebooks/AITraining/RAVDESS/Actor_14/03-01-02-01-02-01-14.wav'), PosixPath('/content/drive/My Drive/Colab Notebooks/AITraining/RAVDESS/Actor_14/03-01-07-01-02-02-14.wav'), PosixPath('/content/drive/My Drive/Colab Notebooks/AITraining/RAVDESS/Actor_14/03-01-02-02-02-02-14.wav'), PosixPath('/content/drive/My Drive/Colab Notebooks/AITraining/RAVDESS/Actor_14/03-01-02-01-01-01-14.wav'), PosixPath('/content/drive/My Drive/Colab Notebooks/AITraining/RAVDESS/Actor_14/03-01-03-02-01-02-14.wav'), PosixPath('/content/drive/My Drive/Colab Notebooks/AITraining/RAVDESS/Actor_14/03-01-07-01-01-01-14.wav'), PosixPath('/content/drive/My Drive/Colab Notebooks/AITraining/RAVDESS/Actor_14/03-01-02-01-02-02-14.wav'), PosixPath('/content/drive/My Drive/Colab Notebooks/AITraining/RAVDESS/Actor_14/03-01-05-01-02-02-14.wav'), PosixPath('/content/drive/My Drive/Colab Notebooks/AITraining/RAVDESS/Actor_14/03-01-03-01-01-01-14.wav'), PosixPath('/content/drive/My Drive/Colab Notebooks/AITraining/RAVDESS/Actor_14/03-01-05-01-01-01-14.wav'), PosixPath('/content/drive/My Drive/Colab Notebooks/AITraining/RAVDESS/Actor_14/03-01-04-01-02-01-14.wav'), PosixPath('/content/drive/My Drive/Colab Notebooks/AITraining/RAVDESS/Actor_14/03-01-03-01-02-01-14.wav'), PosixPath('/content/drive/My Drive/Colab Notebooks/AITraining/RAVDESS/Actor_14/03-01-02-02-01-01-14.wav'), PosixPath('/content/drive/My Drive/Colab Notebooks/AITraining/RAVDESS/Actor_14/03-01-06-01-02-02-14.wav'), PosixPath('/content/drive/My Drive/Colab Notebooks/AITraining/RAVDESS/Actor_14/03-01-03-02-02-01-14.wav'), PosixPath('/content/drive/My Drive/Colab Notebooks/AITraining/RAVDESS/Actor_14/03-01-06-01-01-02-14.wav'), PosixPath('/content/drive/My Drive/Colab Notebooks/AITraining/RAVDESS/Actor_14/03-01-04-02-01-01-14.wav'), PosixPath('/content/drive/My Drive/Colab Notebooks/AITraining/RAVDESS/Actor_14/03-01-01-01-02-01-14.wav'), PosixPath('/content/drive/My Drive/Colab Notebooks/AITraining/RAVDESS/Actor_14/03-01-07-02-01-01-14.wav'), PosixPath('/content/drive/My Drive/Colab Notebooks/AITraining/RAVDESS/Actor_14/03-01-06-02-01-02-14.wav'), PosixPath('/content/drive/My Drive/Colab Notebooks/AITraining/RAVDESS/Actor_14/03-01-07-01-01-02-14.wav'), PosixPath('/content/drive/My Drive/Colab Notebooks/AITraining/RAVDESS/Actor_14/03-01-02-02-02-01-14.wav'), PosixPath('/content/drive/My Drive/Colab Notebooks/AITraining/RAVDESS/Actor_14/03-01-06-02-02-02-14.wav'), PosixPath('/content/drive/My Drive/Colab Notebooks/AITraining/RAVDESS/Actor_14/03-01-06-01-02-01-14.wav'), PosixPath('/content/drive/My Drive/Colab Notebooks/AITraining/RAVDESS/Actor_14/03-01-07-02-01-02-14.wav'), PosixPath('/content/drive/My Drive/Colab Notebooks/AITraining/RAVDESS/Actor_14/03-01-06-02-01-01-14.wav'), PosixPath('/content/drive/My Drive/Colab Notebooks/AITraining/RAVDESS/Actor_14/03-01-03-01-01-02-14.wav'), PosixPath('/content/drive/My Drive/Colab Notebooks/AITraining/RAVDESS/Actor_14/03-01-05-01-01-02-14.wav'), PosixPath('/content/drive/My Drive/Colab Notebooks/AITraining/RAVDESS/Actor_14/03-01-03-02-01-01-14.wav'), PosixPath('/content/drive/My Drive/Colab Notebooks/AITraining/RAVDESS/Actor_14/03-01-03-02-02-02-14.wav'), PosixPath('/content/drive/My Drive/Colab Notebooks/AITraining/RAVDESS/Actor_14/03-01-04-02-02-02-14.wav'), PosixPath('/content/drive/My Drive/Colab Notebooks/AITraining/RAVDESS/Actor_14/03-01-04-01-02-02-14.wav'), PosixPath('/content/drive/My Drive/Colab Notebooks/AITraining/RAVDESS/Actor_14/03-01-05-02-02-02-14.wav'), PosixPath('/content/drive/My Drive/Colab Notebooks/AITraining/RAVDESS/Actor_14/03-01-02-02-01-02-14.wav'), PosixPath('/content/drive/My Drive/Colab Notebooks/AITraining/RAVDESS/Actor_14/03-01-02-01-01-02-14.wav'), PosixPath('/content/drive/My Drive/Colab Notebooks/AITraining/RAVDESS/Actor_14/03-01-01-01-01-02-14.wav'), PosixPath('/content/drive/My Drive/Colab Notebooks/AITraining/RAVDESS/Actor_14/03-01-05-02-01-01-14.wav'), PosixPath('/content/drive/My Drive/Colab Notebooks/AITraining/RAVDESS/Actor_14/03-01-06-01-01-01-14.wav'), PosixPath('/content/drive/My Drive/Colab Notebooks/AITraining/RAVDESS/Actor_14/03-01-04-01-01-01-14.wav'), PosixPath('/content/drive/My Drive/Colab Notebooks/AITraining/RAVDESS/Actor_14/03-01-05-01-02-01-14.wav'), PosixPath('/content/drive/My Drive/Colab Notebooks/AITraining/RAVDESS/Actor_14/03-01-07-02-02-01-14.wav'), PosixPath('/content/drive/My Drive/Colab Notebooks/AITraining/RAVDESS/Actor_14/03-01-04-01-01-02-14.wav'), PosixPath('/content/drive/My Drive/Colab Notebooks/AITraining/RAVDESS/Actor_14/03-01-01-01-01-01-14.wav'), PosixPath('/content/drive/My Drive/Colab Notebooks/AITraining/RAVDESS/Actor_14/03-01-07-01-02-01-14.wav'), PosixPath('/content/drive/My Drive/Colab Notebooks/AITraining/RAVDESS/Actor_14/03-01-03-01-02-02-14.wav'), PosixPath('/content/drive/My Drive/Colab Notebooks/AITraining/RAVDESS/Actor_14/03-01-06-02-02-01-14.wav'), PosixPath('/content/drive/My Drive/Colab Notebooks/AITraining/RAVDESS/Actor_14/03-01-05-02-01-02-14.wav'), PosixPath('/content/drive/My Drive/Colab Notebooks/AITraining/RAVDESS/Actor_14/03-01-04-02-01-02-14.wav'), PosixPath('/content/drive/My Drive/Colab Notebooks/AITraining/RAVDESS/Actor_14/03-01-01-01-02-02-14.wav'), PosixPath('/content/drive/My Drive/Colab Notebooks/AITraining/RAVDESS/Actor_14/03-01-04-02-02-01-14.wav'), PosixPath('/content/drive/My Drive/Colab Notebooks/AITraining/RAVDESS/Actor_14/03-01-07-02-02-02-14.wav'), PosixPath('/content/drive/My Drive/Colab Notebooks/AITraining/RAVDESS/Actor_14/03-01-08-01-01-02-14.wav'), PosixPath('/content/drive/My Drive/Colab Notebooks/AITraining/RAVDESS/Actor_14/03-01-08-02-01-01-14.wav'), PosixPath('/content/drive/My Drive/Colab Notebooks/AITraining/RAVDESS/Actor_14/03-01-08-02-01-02-14.wav'), PosixPath('/content/drive/My Drive/Colab Notebooks/AITraining/RAVDESS/Actor_14/03-01-08-01-02-02-14.wav'), PosixPath('/content/drive/My Drive/Colab Notebooks/AITraining/RAVDESS/Actor_14/03-01-08-02-02-01-14.wav'), PosixPath('/content/drive/My Drive/Colab Notebooks/AITraining/RAVDESS/Actor_14/03-01-08-02-02-02-14.wav'), PosixPath('/content/drive/My Drive/Colab Notebooks/AITraining/RAVDESS/Actor_14/03-01-08-01-02-01-14.wav'), PosixPath('/content/drive/My Drive/Colab Notebooks/AITraining/RAVDESS/Actor_14/03-01-08-01-01-01-14.wav'), PosixPath('/content/drive/My Drive/Colab Notebooks/AITraining/RAVDESS/Actor_08/03-01-04-01-01-02-08.wav'), PosixPath('/content/drive/My Drive/Colab Notebooks/AITraining/RAVDESS/Actor_08/03-01-05-02-01-02-08.wav'), PosixPath('/content/drive/My Drive/Colab Notebooks/AITraining/RAVDESS/Actor_08/03-01-05-02-02-01-08.wav'), PosixPath('/content/drive/My Drive/Colab Notebooks/AITraining/RAVDESS/Actor_08/03-01-06-02-02-02-08.wav'), PosixPath('/content/drive/My Drive/Colab Notebooks/AITraining/RAVDESS/Actor_08/03-01-02-02-01-02-08.wav'), PosixPath('/content/drive/My Drive/Colab Notebooks/AITraining/RAVDESS/Actor_08/03-01-04-01-02-02-08.wav'), PosixPath('/content/drive/My Drive/Colab Notebooks/AITraining/RAVDESS/Actor_08/03-01-05-01-01-02-08.wav'), PosixPath('/content/drive/My Drive/Colab Notebooks/AITraining/RAVDESS/Actor_08/03-01-01-01-02-01-08.wav'), PosixPath('/content/drive/My Drive/Colab Notebooks/AITraining/RAVDESS/Actor_08/03-01-02-01-02-01-08.wav'), PosixPath('/content/drive/My Drive/Colab Notebooks/AITraining/RAVDESS/Actor_08/03-01-07-01-02-02-08.wav'), PosixPath('/content/drive/My Drive/Colab Notebooks/AITraining/RAVDESS/Actor_08/03-01-06-01-01-02-08.wav'), PosixPath('/content/drive/My Drive/Colab Notebooks/AITraining/RAVDESS/Actor_08/03-01-03-01-01-01-08.wav'), PosixPath('/content/drive/My Drive/Colab Notebooks/AITraining/RAVDESS/Actor_08/03-01-07-01-02-01-08.wav'), PosixPath('/content/drive/My Drive/Colab Notebooks/AITraining/RAVDESS/Actor_08/03-01-01-01-01-02-08.wav'), PosixPath('/content/drive/My Drive/Colab Notebooks/AITraining/RAVDESS/Actor_08/03-01-05-02-02-02-08.wav'), PosixPath('/content/drive/My Drive/Colab Notebooks/AITraining/RAVDESS/Actor_08/03-01-07-01-01-01-08.wav'), PosixPath('/content/drive/My Drive/Colab Notebooks/AITraining/RAVDESS/Actor_08/03-01-04-01-02-01-08.wav'), PosixPath('/content/drive/My Drive/Colab Notebooks/AITraining/RAVDESS/Actor_08/03-01-03-01-02-02-08.wav'), PosixPath('/content/drive/My Drive/Colab Notebooks/AITraining/RAVDESS/Actor_08/03-01-05-01-01-01-08.wav'), PosixPath('/content/drive/My Drive/Colab Notebooks/AITraining/RAVDESS/Actor_08/03-01-03-01-02-01-08.wav'), PosixPath('/content/drive/My Drive/Colab Notebooks/AITraining/RAVDESS/Actor_08/03-01-05-01-02-02-08.wav'), PosixPath('/content/drive/My Drive/Colab Notebooks/AITraining/RAVDESS/Actor_08/03-01-03-02-02-01-08.wav'), PosixPath('/content/drive/My Drive/Colab Notebooks/AITraining/RAVDESS/Actor_08/03-01-03-02-01-02-08.wav'), PosixPath('/content/drive/My Drive/Colab Notebooks/AITraining/RAVDESS/Actor_08/03-01-02-01-01-02-08.wav'), PosixPath('/content/drive/My Drive/Colab Notebooks/AITraining/RAVDESS/Actor_08/03-01-04-02-01-02-08.wav'), PosixPath('/content/drive/My Drive/Colab Notebooks/AITraining/RAVDESS/Actor_08/03-01-04-02-02-02-08.wav'), PosixPath('/content/drive/My Drive/Colab Notebooks/AITraining/RAVDESS/Actor_08/03-01-06-01-01-01-08.wav'), PosixPath('/content/drive/My Drive/Colab Notebooks/AITraining/RAVDESS/Actor_08/03-01-06-01-02-02-08.wav'), PosixPath('/content/drive/My Drive/Colab Notebooks/AITraining/RAVDESS/Actor_08/03-01-04-02-02-01-08.wav'), PosixPath('/content/drive/My Drive/Colab Notebooks/AITraining/RAVDESS/Actor_08/03-01-02-02-02-02-08.wav'), PosixPath('/content/drive/My Drive/Colab Notebooks/AITraining/RAVDESS/Actor_08/03-01-05-01-02-01-08.wav'), PosixPath('/content/drive/My Drive/Colab Notebooks/AITraining/RAVDESS/Actor_08/03-01-04-02-01-01-08.wav'), PosixPath('/content/drive/My Drive/Colab Notebooks/AITraining/RAVDESS/Actor_08/03-01-06-01-02-01-08.wav'), PosixPath('/content/drive/My Drive/Colab Notebooks/AITraining/RAVDESS/Actor_08/03-01-02-01-01-01-08.wav'), PosixPath('/content/drive/My Drive/Colab Notebooks/AITraining/RAVDESS/Actor_08/03-01-02-02-01-01-08.wav'), PosixPath('/content/drive/My Drive/Colab Notebooks/AITraining/RAVDESS/Actor_08/03-01-02-01-02-02-08.wav'), PosixPath('/content/drive/My Drive/Colab Notebooks/AITraining/RAVDESS/Actor_08/03-01-06-02-01-02-08.wav'), PosixPath('/content/drive/My Drive/Colab Notebooks/AITraining/RAVDESS/Actor_08/03-01-07-01-01-02-08.wav'), PosixPath('/content/drive/My Drive/Colab Notebooks/AITraining/RAVDESS/Actor_08/03-01-04-01-01-01-08.wav'), PosixPath('/content/drive/My Drive/Colab Notebooks/AITraining/RAVDESS/Actor_08/03-01-01-01-02-02-08.wav'), PosixPath('/content/drive/My Drive/Colab Notebooks/AITraining/RAVDESS/Actor_08/03-01-02-02-02-01-08.wav'), PosixPath('/content/drive/My Drive/Colab Notebooks/AITraining/RAVDESS/Actor_08/03-01-03-01-01-02-08.wav'), PosixPath('/content/drive/My Drive/Colab Notebooks/AITraining/RAVDESS/Actor_08/03-01-03-02-01-01-08.wav'), PosixPath('/content/drive/My Drive/Colab Notebooks/AITraining/RAVDESS/Actor_08/03-01-03-02-02-02-08.wav'), PosixPath('/content/drive/My Drive/Colab Notebooks/AITraining/RAVDESS/Actor_08/03-01-06-02-02-01-08.wav'), PosixPath('/content/drive/My Drive/Colab Notebooks/AITraining/RAVDESS/Actor_08/03-01-06-02-01-01-08.wav'), PosixPath('/content/drive/My Drive/Colab Notebooks/AITraining/RAVDESS/Actor_08/03-01-01-01-01-01-08.wav'), PosixPath('/content/drive/My Drive/Colab Notebooks/AITraining/RAVDESS/Actor_08/03-01-05-02-01-01-08.wav'), PosixPath('/content/drive/My Drive/Colab Notebooks/AITraining/RAVDESS/Actor_08/03-01-08-02-01-01-08.wav'), PosixPath('/content/drive/My Drive/Colab Notebooks/AITraining/RAVDESS/Actor_08/03-01-08-02-02-01-08.wav'), PosixPath('/content/drive/My Drive/Colab Notebooks/AITraining/RAVDESS/Actor_08/03-01-07-02-02-01-08.wav'), PosixPath('/content/drive/My Drive/Colab Notebooks/AITraining/RAVDESS/Actor_08/03-01-08-01-02-01-08.wav'), PosixPath('/content/drive/My Drive/Colab Notebooks/AITraining/RAVDESS/Actor_08/03-01-08-02-02-02-08.wav'), PosixPath('/content/drive/My Drive/Colab Notebooks/AITraining/RAVDESS/Actor_08/03-01-07-02-02-02-08.wav'), PosixPath('/content/drive/My Drive/Colab Notebooks/AITraining/RAVDESS/Actor_08/03-01-08-02-01-02-08.wav'), PosixPath('/content/drive/My Drive/Colab Notebooks/AITraining/RAVDESS/Actor_08/03-01-08-01-01-01-08.wav'), PosixPath('/content/drive/My Drive/Colab Notebooks/AITraining/RAVDESS/Actor_08/03-01-08-01-02-02-08.wav'), PosixPath('/content/drive/My Drive/Colab Notebooks/AITraining/RAVDESS/Actor_08/03-01-08-01-01-02-08.wav'), PosixPath('/content/drive/My Drive/Colab Notebooks/AITraining/RAVDESS/Actor_08/03-01-07-02-01-01-08.wav'), PosixPath('/content/drive/My Drive/Colab Notebooks/AITraining/RAVDESS/Actor_08/03-01-07-02-01-02-08.wav'), PosixPath('/content/drive/My Drive/Colab Notebooks/AITraining/RAVDESS/Actor_06/03-01-02-01-01-02-06.wav'), PosixPath('/content/drive/My Drive/Colab Notebooks/AITraining/RAVDESS/Actor_06/03-01-01-01-02-02-06.wav'), PosixPath('/content/drive/My Drive/Colab Notebooks/AITraining/RAVDESS/Actor_06/03-01-02-02-02-02-06.wav'), PosixPath('/content/drive/My Drive/Colab Notebooks/AITraining/RAVDESS/Actor_06/03-01-03-01-02-01-06.wav'), PosixPath('/content/drive/My Drive/Colab Notebooks/AITraining/RAVDESS/Actor_06/03-01-02-01-01-01-06.wav'), PosixPath('/content/drive/My Drive/Colab Notebooks/AITraining/RAVDESS/Actor_06/03-01-03-02-01-01-06.wav'), PosixPath('/content/drive/My Drive/Colab Notebooks/AITraining/RAVDESS/Actor_06/03-01-03-01-01-02-06.wav'), PosixPath('/content/drive/My Drive/Colab Notebooks/AITraining/RAVDESS/Actor_06/03-01-03-01-01-01-06.wav'), PosixPath('/content/drive/My Drive/Colab Notebooks/AITraining/RAVDESS/Actor_06/03-01-01-01-01-02-06.wav'), PosixPath('/content/drive/My Drive/Colab Notebooks/AITraining/RAVDESS/Actor_06/03-01-01-01-02-01-06.wav'), PosixPath('/content/drive/My Drive/Colab Notebooks/AITraining/RAVDESS/Actor_06/03-01-03-01-02-02-06.wav'), PosixPath('/content/drive/My Drive/Colab Notebooks/AITraining/RAVDESS/Actor_06/03-01-02-01-02-02-06.wav'), PosixPath('/content/drive/My Drive/Colab Notebooks/AITraining/RAVDESS/Actor_06/03-01-02-02-02-01-06.wav'), PosixPath('/content/drive/My Drive/Colab Notebooks/AITraining/RAVDESS/Actor_06/03-01-02-02-01-01-06.wav'), PosixPath('/content/drive/My Drive/Colab Notebooks/AITraining/RAVDESS/Actor_06/03-01-02-01-02-01-06.wav'), PosixPath('/content/drive/My Drive/Colab Notebooks/AITraining/RAVDESS/Actor_06/03-01-01-01-01-01-06.wav'), PosixPath('/content/drive/My Drive/Colab Notebooks/AITraining/RAVDESS/Actor_06/03-01-02-02-01-02-06.wav'), PosixPath('/content/drive/My Drive/Colab Notebooks/AITraining/RAVDESS/Actor_06/03-01-08-02-01-02-06.wav'), PosixPath('/content/drive/My Drive/Colab Notebooks/AITraining/RAVDESS/Actor_06/03-01-05-02-01-02-06.wav'), PosixPath('/content/drive/My Drive/Colab Notebooks/AITraining/RAVDESS/Actor_06/03-01-05-01-02-01-06.wav'), PosixPath('/content/drive/My Drive/Colab Notebooks/AITraining/RAVDESS/Actor_06/03-01-06-01-02-02-06.wav'), PosixPath('/content/drive/My Drive/Colab Notebooks/AITraining/RAVDESS/Actor_06/03-01-07-01-02-02-06.wav'), PosixPath('/content/drive/My Drive/Colab Notebooks/AITraining/RAVDESS/Actor_06/03-01-04-01-01-02-06.wav'), PosixPath('/content/drive/My Drive/Colab Notebooks/AITraining/RAVDESS/Actor_06/03-01-07-01-01-02-06.wav'), PosixPath('/content/drive/My Drive/Colab Notebooks/AITraining/RAVDESS/Actor_06/03-01-05-01-01-01-06.wav'), PosixPath('/content/drive/My Drive/Colab Notebooks/AITraining/RAVDESS/Actor_06/03-01-08-02-02-01-06.wav'), PosixPath('/content/drive/My Drive/Colab Notebooks/AITraining/RAVDESS/Actor_06/03-01-07-02-01-01-06.wav'), PosixPath('/content/drive/My Drive/Colab Notebooks/AITraining/RAVDESS/Actor_06/03-01-07-02-02-01-06.wav'), PosixPath('/content/drive/My Drive/Colab Notebooks/AITraining/RAVDESS/Actor_06/03-01-05-02-02-01-06.wav'), PosixPath('/content/drive/My Drive/Colab Notebooks/AITraining/RAVDESS/Actor_06/03-01-04-01-01-01-06.wav'), PosixPath('/content/drive/My Drive/Colab Notebooks/AITraining/RAVDESS/Actor_06/03-01-08-01-02-02-06.wav'), PosixPath('/content/drive/My Drive/Colab Notebooks/AITraining/RAVDESS/Actor_06/03-01-07-01-01-01-06.wav'), PosixPath('/content/drive/My Drive/Colab Notebooks/AITraining/RAVDESS/Actor_06/03-01-06-02-02-01-06.wav'), PosixPath('/content/drive/My Drive/Colab Notebooks/AITraining/RAVDESS/Actor_06/03-01-05-02-02-02-06.wav'), PosixPath('/content/drive/My Drive/Colab Notebooks/AITraining/RAVDESS/Actor_06/03-01-04-01-02-01-06.wav'), PosixPath('/content/drive/My Drive/Colab Notebooks/AITraining/RAVDESS/Actor_06/03-01-06-01-02-01-06.wav'), PosixPath('/content/drive/My Drive/Colab Notebooks/AITraining/RAVDESS/Actor_06/03-01-05-01-02-02-06.wav'), PosixPath('/content/drive/My Drive/Colab Notebooks/AITraining/RAVDESS/Actor_06/03-01-07-02-01-02-06.wav'), PosixPath('/content/drive/My Drive/Colab Notebooks/AITraining/RAVDESS/Actor_06/03-01-08-01-01-02-06.wav'), PosixPath('/content/drive/My Drive/Colab Notebooks/AITraining/RAVDESS/Actor_06/03-01-04-02-02-02-06.wav'), PosixPath('/content/drive/My Drive/Colab Notebooks/AITraining/RAVDESS/Actor_06/03-01-04-02-02-01-06.wav'), PosixPath('/content/drive/My Drive/Colab Notebooks/AITraining/RAVDESS/Actor_06/03-01-03-02-02-01-06.wav'), PosixPath('/content/drive/My Drive/Colab Notebooks/AITraining/RAVDESS/Actor_06/03-01-06-01-01-02-06.wav'), PosixPath('/content/drive/My Drive/Colab Notebooks/AITraining/RAVDESS/Actor_06/03-01-07-01-02-01-06.wav'), PosixPath('/content/drive/My Drive/Colab Notebooks/AITraining/RAVDESS/Actor_06/03-01-06-02-01-01-06.wav'), PosixPath('/content/drive/My Drive/Colab Notebooks/AITraining/RAVDESS/Actor_06/03-01-07-02-02-02-06.wav'), PosixPath('/content/drive/My Drive/Colab Notebooks/AITraining/RAVDESS/Actor_06/03-01-08-02-01-01-06.wav'), PosixPath('/content/drive/My Drive/Colab Notebooks/AITraining/RAVDESS/Actor_06/03-01-08-01-02-01-06.wav'), PosixPath('/content/drive/My Drive/Colab Notebooks/AITraining/RAVDESS/Actor_06/03-01-04-01-02-02-06.wav'), PosixPath('/content/drive/My Drive/Colab Notebooks/AITraining/RAVDESS/Actor_06/03-01-06-02-01-02-06.wav'), PosixPath('/content/drive/My Drive/Colab Notebooks/AITraining/RAVDESS/Actor_06/03-01-08-01-01-01-06.wav'), PosixPath('/content/drive/My Drive/Colab Notebooks/AITraining/RAVDESS/Actor_06/03-01-03-02-01-02-06.wav'), PosixPath('/content/drive/My Drive/Colab Notebooks/AITraining/RAVDESS/Actor_06/03-01-08-02-02-02-06.wav'), PosixPath('/content/drive/My Drive/Colab Notebooks/AITraining/RAVDESS/Actor_06/03-01-05-01-01-02-06.wav'), PosixPath('/content/drive/My Drive/Colab Notebooks/AITraining/RAVDESS/Actor_06/03-01-06-01-01-01-06.wav'), PosixPath('/content/drive/My Drive/Colab Notebooks/AITraining/RAVDESS/Actor_06/03-01-06-02-02-02-06.wav'), PosixPath('/content/drive/My Drive/Colab Notebooks/AITraining/RAVDESS/Actor_06/03-01-03-02-02-02-06.wav'), PosixPath('/content/drive/My Drive/Colab Notebooks/AITraining/RAVDESS/Actor_06/03-01-04-02-01-01-06.wav'), PosixPath('/content/drive/My Drive/Colab Notebooks/AITraining/RAVDESS/Actor_06/03-01-04-02-01-02-06.wav'), PosixPath('/content/drive/My Drive/Colab Notebooks/AITraining/RAVDESS/Actor_06/03-01-05-02-01-01-06.wav'), PosixPath('/content/drive/My Drive/Colab Notebooks/AITraining/RAVDESS/Actor_01/03-01-01-01-01-01-01.wav'), PosixPath('/content/drive/My Drive/Colab Notebooks/AITraining/RAVDESS/Actor_01/03-01-02-01-02-01-01.wav'), PosixPath('/content/drive/My Drive/Colab Notebooks/AITraining/RAVDESS/Actor_01/03-01-02-01-01-02-01.wav'), PosixPath('/content/drive/My Drive/Colab Notebooks/AITraining/RAVDESS/Actor_01/03-01-01-01-02-01-01.wav'), PosixPath('/content/drive/My Drive/Colab Notebooks/AITraining/RAVDESS/Actor_01/03-01-02-01-01-01-01.wav'), PosixPath('/content/drive/My Drive/Colab Notebooks/AITraining/RAVDESS/Actor_01/03-01-01-01-02-02-01.wav'), PosixPath('/content/drive/My Drive/Colab Notebooks/AITraining/RAVDESS/Actor_01/03-01-01-01-01-02-01.wav'), PosixPath('/content/drive/My Drive/Colab Notebooks/AITraining/RAVDESS/Actor_01/03-01-02-02-01-01-01.wav'), PosixPath('/content/drive/My Drive/Colab Notebooks/AITraining/RAVDESS/Actor_01/03-01-03-01-01-01-01.wav'), PosixPath('/content/drive/My Drive/Colab Notebooks/AITraining/RAVDESS/Actor_01/03-01-02-02-02-01-01.wav'), PosixPath('/content/drive/My Drive/Colab Notebooks/AITraining/RAVDESS/Actor_01/03-01-02-01-02-02-01.wav'), PosixPath('/content/drive/My Drive/Colab Notebooks/AITraining/RAVDESS/Actor_01/03-01-02-02-02-02-01.wav'), PosixPath('/content/drive/My Drive/Colab Notebooks/AITraining/RAVDESS/Actor_01/03-01-02-02-01-02-01.wav'), PosixPath('/content/drive/My Drive/Colab Notebooks/AITraining/RAVDESS/Actor_01/03-01-03-01-01-02-01.wav'), PosixPath('/content/drive/My Drive/Colab Notebooks/AITraining/RAVDESS/Actor_01/03-01-03-01-02-01-01.wav'), PosixPath('/content/drive/My Drive/Colab Notebooks/AITraining/RAVDESS/Actor_01/03-01-03-01-02-02-01.wav'), PosixPath('/content/drive/My Drive/Colab Notebooks/AITraining/RAVDESS/Actor_01/03-01-03-02-01-01-01.wav'), PosixPath('/content/drive/My Drive/Colab Notebooks/AITraining/RAVDESS/Actor_01/03-01-03-02-01-02-01.wav'), PosixPath('/content/drive/My Drive/Colab Notebooks/AITraining/RAVDESS/Actor_01/03-01-04-02-01-01-01.wav'), PosixPath('/content/drive/My Drive/Colab Notebooks/AITraining/RAVDESS/Actor_01/03-01-04-01-02-02-01.wav'), PosixPath('/content/drive/My Drive/Colab Notebooks/AITraining/RAVDESS/Actor_01/03-01-03-02-02-01-01.wav'), PosixPath('/content/drive/My Drive/Colab Notebooks/AITraining/RAVDESS/Actor_01/03-01-04-01-01-01-01.wav'), PosixPath('/content/drive/My Drive/Colab Notebooks/AITraining/RAVDESS/Actor_01/03-01-04-01-01-02-01.wav'), PosixPath('/content/drive/My Drive/Colab Notebooks/AITraining/RAVDESS/Actor_01/03-01-04-01-02-01-01.wav'), PosixPath('/content/drive/My Drive/Colab Notebooks/AITraining/RAVDESS/Actor_01/03-01-03-02-02-02-01.wav'), PosixPath('/content/drive/My Drive/Colab Notebooks/AITraining/RAVDESS/Actor_01/03-01-04-02-01-02-01.wav'), PosixPath('/content/drive/My Drive/Colab Notebooks/AITraining/RAVDESS/Actor_01/03-01-05-01-01-01-01.wav'), PosixPath('/content/drive/My Drive/Colab Notebooks/AITraining/RAVDESS/Actor_01/03-01-04-02-02-02-01.wav'), PosixPath('/content/drive/My Drive/Colab Notebooks/AITraining/RAVDESS/Actor_01/03-01-04-02-02-01-01.wav'), PosixPath('/content/drive/My Drive/Colab Notebooks/AITraining/RAVDESS/Actor_01/03-01-05-02-01-01-01.wav'), PosixPath('/content/drive/My Drive/Colab Notebooks/AITraining/RAVDESS/Actor_01/03-01-07-02-01-01-01.wav'), PosixPath('/content/drive/My Drive/Colab Notebooks/AITraining/RAVDESS/Actor_01/03-01-08-02-01-02-01.wav'), PosixPath('/content/drive/My Drive/Colab Notebooks/AITraining/RAVDESS/Actor_01/03-01-05-02-02-02-01.wav'), PosixPath('/content/drive/My Drive/Colab Notebooks/AITraining/RAVDESS/Actor_01/03-01-07-02-02-01-01.wav'), PosixPath('/content/drive/My Drive/Colab Notebooks/AITraining/RAVDESS/Actor_01/03-01-06-01-01-02-01.wav'), PosixPath('/content/drive/My Drive/Colab Notebooks/AITraining/RAVDESS/Actor_01/03-01-07-02-01-02-01.wav'), PosixPath('/content/drive/My Drive/Colab Notebooks/AITraining/RAVDESS/Actor_01/03-01-05-02-01-02-01.wav'), PosixPath('/content/drive/My Drive/Colab Notebooks/AITraining/RAVDESS/Actor_01/03-01-05-02-02-01-01.wav'), PosixPath('/content/drive/My Drive/Colab Notebooks/AITraining/RAVDESS/Actor_01/03-01-07-01-01-02-01.wav'), PosixPath('/content/drive/My Drive/Colab Notebooks/AITraining/RAVDESS/Actor_01/03-01-08-01-02-01-01.wav'), PosixPath('/content/drive/My Drive/Colab Notebooks/AITraining/RAVDESS/Actor_01/03-01-05-01-01-02-01.wav'), PosixPath('/content/drive/My Drive/Colab Notebooks/AITraining/RAVDESS/Actor_01/03-01-06-01-02-02-01.wav'), PosixPath('/content/drive/My Drive/Colab Notebooks/AITraining/RAVDESS/Actor_01/03-01-06-02-01-02-01.wav'), PosixPath('/content/drive/My Drive/Colab Notebooks/AITraining/RAVDESS/Actor_01/03-01-06-01-02-01-01.wav'), PosixPath('/content/drive/My Drive/Colab Notebooks/AITraining/RAVDESS/Actor_01/03-01-07-01-02-01-01.wav'), PosixPath('/content/drive/My Drive/Colab Notebooks/AITraining/RAVDESS/Actor_01/03-01-08-02-02-02-01.wav'), PosixPath('/content/drive/My Drive/Colab Notebooks/AITraining/RAVDESS/Actor_01/03-01-06-02-02-01-01.wav'), PosixPath('/content/drive/My Drive/Colab Notebooks/AITraining/RAVDESS/Actor_01/03-01-07-02-02-02-01.wav'), PosixPath('/content/drive/My Drive/Colab Notebooks/AITraining/RAVDESS/Actor_01/03-01-07-01-02-02-01.wav'), PosixPath('/content/drive/My Drive/Colab Notebooks/AITraining/RAVDESS/Actor_01/03-01-07-01-01-01-01.wav'), PosixPath('/content/drive/My Drive/Colab Notebooks/AITraining/RAVDESS/Actor_01/03-01-06-01-01-01-01.wav'), PosixPath('/content/drive/My Drive/Colab Notebooks/AITraining/RAVDESS/Actor_01/03-01-06-02-01-01-01.wav'), PosixPath('/content/drive/My Drive/Colab Notebooks/AITraining/RAVDESS/Actor_01/03-01-08-02-02-01-01.wav'), PosixPath('/content/drive/My Drive/Colab Notebooks/AITraining/RAVDESS/Actor_01/03-01-05-01-02-02-01.wav'), PosixPath('/content/drive/My Drive/Colab Notebooks/AITraining/RAVDESS/Actor_01/03-01-08-01-01-02-01.wav'), PosixPath('/content/drive/My Drive/Colab Notebooks/AITraining/RAVDESS/Actor_01/03-01-08-01-01-01-01.wav'), PosixPath('/content/drive/My Drive/Colab Notebooks/AITraining/RAVDESS/Actor_01/03-01-08-02-01-01-01.wav'), PosixPath('/content/drive/My Drive/Colab Notebooks/AITraining/RAVDESS/Actor_01/03-01-08-01-02-02-01.wav'), PosixPath('/content/drive/My Drive/Colab Notebooks/AITraining/RAVDESS/Actor_01/03-01-05-01-02-01-01.wav'), PosixPath('/content/drive/My Drive/Colab Notebooks/AITraining/RAVDESS/Actor_01/03-01-06-02-02-02-01.wav'), PosixPath('/content/drive/My Drive/Colab Notebooks/AITraining/RAVDESS/Actor_07/03-01-02-01-02-02-07.wav'), PosixPath('/content/drive/My Drive/Colab Notebooks/AITraining/RAVDESS/Actor_07/03-01-01-01-02-01-07.wav'), PosixPath('/content/drive/My Drive/Colab Notebooks/AITraining/RAVDESS/Actor_07/03-01-02-01-01-01-07.wav'), PosixPath('/content/drive/My Drive/Colab Notebooks/AITraining/RAVDESS/Actor_07/03-01-02-01-02-01-07.wav'), PosixPath('/content/drive/My Drive/Colab Notebooks/AITraining/RAVDESS/Actor_07/03-01-01-01-02-02-07.wav'), PosixPath('/content/drive/My Drive/Colab Notebooks/AITraining/RAVDESS/Actor_07/03-01-01-01-01-01-07.wav'), PosixPath('/content/drive/My Drive/Colab Notebooks/AITraining/RAVDESS/Actor_07/03-01-01-01-01-02-07.wav'), PosixPath('/content/drive/My Drive/Colab Notebooks/AITraining/RAVDESS/Actor_07/03-01-02-01-01-02-07.wav'), PosixPath('/content/drive/My Drive/Colab Notebooks/AITraining/RAVDESS/Actor_07/03-01-06-02-01-01-07.wav'), PosixPath('/content/drive/My Drive/Colab Notebooks/AITraining/RAVDESS/Actor_07/03-01-08-01-01-01-07.wav'), PosixPath('/content/drive/My Drive/Colab Notebooks/AITraining/RAVDESS/Actor_07/03-01-06-02-01-02-07.wav'), PosixPath('/content/drive/My Drive/Colab Notebooks/AITraining/RAVDESS/Actor_07/03-01-05-02-02-01-07.wav'), PosixPath('/content/drive/My Drive/Colab Notebooks/AITraining/RAVDESS/Actor_07/03-01-06-01-01-01-07.wav'), PosixPath('/content/drive/My Drive/Colab Notebooks/AITraining/RAVDESS/Actor_07/03-01-07-02-01-02-07.wav'), PosixPath('/content/drive/My Drive/Colab Notebooks/AITraining/RAVDESS/Actor_07/03-01-06-02-02-02-07(1).wav'), PosixPath('/content/drive/My Drive/Colab Notebooks/AITraining/RAVDESS/Actor_07/03-01-03-01-01-02-07.wav'), PosixPath('/content/drive/My Drive/Colab Notebooks/AITraining/RAVDESS/Actor_07/03-01-06-01-01-02-07.wav'), PosixPath('/content/drive/My Drive/Colab Notebooks/AITraining/RAVDESS/Actor_07/03-01-02-02-01-01-07.wav'), PosixPath('/content/drive/My Drive/Colab Notebooks/AITraining/RAVDESS/Actor_07/03-01-02-02-02-02-07.wav'), PosixPath('/content/drive/My Drive/Colab Notebooks/AITraining/RAVDESS/Actor_07/03-01-03-01-02-02-07.wav'), PosixPath('/content/drive/My Drive/Colab Notebooks/AITraining/RAVDESS/Actor_07/03-01-02-02-02-01-07.wav'), PosixPath('/content/drive/My Drive/Colab Notebooks/AITraining/RAVDESS/Actor_07/03-01-05-02-02-02-07.wav'), PosixPath('/content/drive/My Drive/Colab Notebooks/AITraining/RAVDESS/Actor_07/03-01-07-02-01-01-07.wav'), PosixPath('/content/drive/My Drive/Colab Notebooks/AITraining/RAVDESS/Actor_07/03-01-07-01-02-01-07.wav'), PosixPath('/content/drive/My Drive/Colab Notebooks/AITraining/RAVDESS/Actor_07/03-01-07-01-01-01-07.wav'), PosixPath('/content/drive/My Drive/Colab Notebooks/AITraining/RAVDESS/Actor_07/03-01-07-01-02-02-07.wav'), PosixPath('/content/drive/My Drive/Colab Notebooks/AITraining/RAVDESS/Actor_07/03-01-04-01-02-01-07.wav'), PosixPath('/content/drive/My Drive/Colab Notebooks/AITraining/RAVDESS/Actor_07/03-01-03-02-02-01-07.wav'), PosixPath('/content/drive/My Drive/Colab Notebooks/AITraining/RAVDESS/Actor_07/03-01-05-02-01-02-07.wav'), PosixPath('/content/drive/My Drive/Colab Notebooks/AITraining/RAVDESS/Actor_07/03-01-04-02-02-01-07.wav'), PosixPath('/content/drive/My Drive/Colab Notebooks/AITraining/RAVDESS/Actor_07/03-01-06-01-02-02-07.wav'), PosixPath('/content/drive/My Drive/Colab Notebooks/AITraining/RAVDESS/Actor_07/03-01-07-02-02-01-07.wav'), PosixPath('/content/drive/My Drive/Colab Notebooks/AITraining/RAVDESS/Actor_07/03-01-05-02-01-01-07.wav'), PosixPath('/content/drive/My Drive/Colab Notebooks/AITraining/RAVDESS/Actor_07/03-01-06-01-02-01-07.wav'), PosixPath('/content/drive/My Drive/Colab Notebooks/AITraining/RAVDESS/Actor_07/03-01-03-01-01-01-07.wav'), PosixPath('/content/drive/My Drive/Colab Notebooks/AITraining/RAVDESS/Actor_07/03-01-04-01-01-02-07.wav'), PosixPath('/content/drive/My Drive/Colab Notebooks/AITraining/RAVDESS/Actor_07/03-01-06-02-02-01-07.wav'), PosixPath('/content/drive/My Drive/Colab Notebooks/AITraining/RAVDESS/Actor_07/03-01-08-02-01-02-07.wav'), PosixPath('/content/drive/My Drive/Colab Notebooks/AITraining/RAVDESS/Actor_07/03-01-04-02-01-02-07.wav'), PosixPath('/content/drive/My Drive/Colab Notebooks/AITraining/RAVDESS/Actor_07/03-01-05-01-01-01-07.wav'), PosixPath('/content/drive/My Drive/Colab Notebooks/AITraining/RAVDESS/Actor_07/03-01-04-01-01-01-07.wav'), PosixPath('/content/drive/My Drive/Colab Notebooks/AITraining/RAVDESS/Actor_07/03-01-03-01-02-01-07.wav'), PosixPath('/content/drive/My Drive/Colab Notebooks/AITraining/RAVDESS/Actor_07/03-01-07-02-02-02-07.wav'), PosixPath('/content/drive/My Drive/Colab Notebooks/AITraining/RAVDESS/Actor_07/03-01-03-02-02-02-07.wav'), PosixPath('/content/drive/My Drive/Colab Notebooks/AITraining/RAVDESS/Actor_07/03-01-03-02-01-02-07.wav'), PosixPath('/content/drive/My Drive/Colab Notebooks/AITraining/RAVDESS/Actor_07/03-01-04-02-01-01-07.wav'), PosixPath('/content/drive/My Drive/Colab Notebooks/AITraining/RAVDESS/Actor_07/03-01-08-01-02-02-07.wav'), PosixPath('/content/drive/My Drive/Colab Notebooks/AITraining/RAVDESS/Actor_07/03-01-02-02-01-02-07.wav'), PosixPath('/content/drive/My Drive/Colab Notebooks/AITraining/RAVDESS/Actor_07/03-01-05-01-01-02-07.wav'), PosixPath('/content/drive/My Drive/Colab Notebooks/AITraining/RAVDESS/Actor_07/03-01-04-02-02-02-07.wav'), PosixPath('/content/drive/My Drive/Colab Notebooks/AITraining/RAVDESS/Actor_07/03-01-03-02-01-01-07.wav'), PosixPath('/content/drive/My Drive/Colab Notebooks/AITraining/RAVDESS/Actor_07/03-01-04-01-02-02-07.wav'), PosixPath('/content/drive/My Drive/Colab Notebooks/AITraining/RAVDESS/Actor_07/03-01-05-01-02-02-07.wav'), PosixPath('/content/drive/My Drive/Colab Notebooks/AITraining/RAVDESS/Actor_07/03-01-08-01-01-02-07.wav'), PosixPath('/content/drive/My Drive/Colab Notebooks/AITraining/RAVDESS/Actor_07/03-01-08-01-02-01-07.wav'), PosixPath('/content/drive/My Drive/Colab Notebooks/AITraining/RAVDESS/Actor_07/03-01-07-01-01-02-07.wav'), PosixPath('/content/drive/My Drive/Colab Notebooks/AITraining/RAVDESS/Actor_07/03-01-05-01-02-01-07.wav'), PosixPath('/content/drive/My Drive/Colab Notebooks/AITraining/RAVDESS/Actor_07/03-01-08-02-01-01-07.wav'), PosixPath('/content/drive/My Drive/Colab Notebooks/AITraining/RAVDESS/Actor_07/03-01-06-02-02-02-07.wav'), PosixPath('/content/drive/My Drive/Colab Notebooks/AITraining/RAVDESS/Actor_07/03-01-08-02-02-02-07.wav'), PosixPath('/content/drive/My Drive/Colab Notebooks/AITraining/RAVDESS/Actor_07/03-01-08-02-02-01-07.wav')]\n",
            "1441\n"
          ],
          "name": "stdout"
        }
      ]
    },
    {
      "cell_type": "code",
      "metadata": {
        "id": "ox-4o6eZK5RC",
        "colab": {
          "base_uri": "https://localhost:8080/",
          "height": 358,
          "referenced_widgets": [
            "06f9eaca35c94774a5fe4f34918c685c",
            "3fb92184e78f49c789bd69af63a8ceb7",
            "0ec130370b224736a5df78f849cb3e56",
            "a160a2b0bb0545e8a235b16ea6093c2c",
            "8680ae099c754ff1a46843acf00d1312",
            "47e03d1fe79942be9e112a8609eaa10c",
            "b249e428d0304680a711b3e96b9c6cc1",
            "104c88f48283470ab7ab10a21bac22bf"
          ]
        },
        "outputId": "3198cdf4-7359-40b3-d446-4d90f917a9b1"
      },
      "source": [
        "# 音声を画像として保存する関数を作成\n",
        "\n",
        "import librosa\n",
        "import numpy as np\n",
        "from tqdm import tqdm_notebook as tqdm\n",
        "\n",
        "def convert_wav_to_img(audio_file_path, i, sr=44100):\n",
        "    x, fs = librosa.load(audio_file_path, sr=sr)\n",
        "    # 20dB未満のところを切り取り\n",
        "    x, _ = librosa.effects.trim(x, 20)\n",
        "    # Data Augmentation\n",
        "    # if i % 3 == 0:\n",
        "    #     x = librosa.effects.time_stretch(x, 2)\n",
        "    # elif i % 4 == 0:\n",
        "    #     x = librosa.effects.pitch_shift(x, sr, 2.0)\n",
        "    \n",
        "    # mfcc = librosa.feature.mfcc(y=x, sr=sr, n_mfcc=256)\n",
        "    # メルスペクトログラムを取得してdBスケールに変換する\n",
        "    melspec = librosa.feature.melspectrogram(y=x, sr=sr)\n",
        "    melspec_db = librosa.power_to_db(melspec, ref=np.max)\n",
        "    return melspec_db\n",
        "\n",
        "melsp_raw = []\n",
        "i = 0\n",
        "for x in tqdm(list(audio_dir.glob(\"**/*.wav\"))):\n",
        "    melsp_raw.append((x, convert_wav_to_img(x, i)))\n",
        "    i += 1\n",
        "\n",
        "print(melsp_raw[0])\n",
        "print(melsp_raw[0][1].shape)"
      ],
      "execution_count": 3,
      "outputs": [
        {
          "output_type": "stream",
          "text": [
            "/usr/local/lib/python3.7/dist-packages/ipykernel_launcher.py:25: TqdmDeprecationWarning: This function will be removed in tqdm==5.0.0\n",
            "Please use `tqdm.notebook.tqdm` instead of `tqdm.tqdm_notebook`\n"
          ],
          "name": "stderr"
        },
        {
          "output_type": "display_data",
          "data": {
            "application/vnd.jupyter.widget-view+json": {
              "model_id": "06f9eaca35c94774a5fe4f34918c685c",
              "version_minor": 0,
              "version_major": 2
            },
            "text/plain": [
              "HBox(children=(FloatProgress(value=0.0, max=1441.0), HTML(value='')))"
            ]
          },
          "metadata": {
            "tags": []
          }
        },
        {
          "output_type": "stream",
          "text": [
            "\n",
            "(PosixPath('/content/drive/My Drive/Colab Notebooks/AITraining/RAVDESS/Actor_10/03-01-02-02-02-01-10.wav'), array([[-38.5934  , -43.040634, -49.667854, ..., -57.081642, -58.153114,\n",
            "        -59.424576],\n",
            "       [-32.450645, -34.18916 , -40.61956 , ..., -59.855972, -59.351547,\n",
            "        -56.3013  ],\n",
            "       [-36.495743, -34.678154, -42.135384, ..., -58.424683, -55.553444,\n",
            "        -53.159096],\n",
            "       ...,\n",
            "       [-72.47176 , -73.768135, -74.62846 , ..., -80.      , -80.      ,\n",
            "        -80.      ],\n",
            "       [-75.79931 , -76.90311 , -78.11025 , ..., -80.      , -80.      ,\n",
            "        -80.      ],\n",
            "       [-80.      , -80.      , -80.      , ..., -80.      , -80.      ,\n",
            "        -80.      ]], dtype=float32))\n",
            "(128, 155)\n"
          ],
          "name": "stdout"
        }
      ]
    },
    {
      "cell_type": "code",
      "metadata": {
        "id": "IZ2lErTZf_3c"
      },
      "source": [
        "# 一時保存\n",
        "import pickle\n",
        "from pathlib import Path\n",
        "\n",
        "working_dir = Path('/content/drive/My Drive/Colab Notebooks/AITraining')\n",
        "save_to = working_dir / 'melsp_raw.pkl'\n"
      ],
      "execution_count": 4,
      "outputs": []
    },
    {
      "cell_type": "code",
      "metadata": {
        "id": "xmhgA-NEjpWY"
      },
      "source": [
        "# 保存\n",
        "with save_to.open('wb') as f:\n",
        "    pickle.dump(melsp_raw, f)"
      ],
      "execution_count": 5,
      "outputs": []
    },
    {
      "cell_type": "code",
      "metadata": {
        "colab": {
          "base_uri": "https://localhost:8080/"
        },
        "id": "5s8FuTk0jqc7",
        "outputId": "45929d7b-a28c-4446-8b86-23b27ea17088"
      },
      "source": [
        "# ロード\n",
        "with save_to.open('rb') as f:\n",
        "    melsp_raw = pickle.load(f)\n",
        "print(len(melsp_raw))"
      ],
      "execution_count": 6,
      "outputs": [
        {
          "output_type": "stream",
          "text": [
            "1441\n"
          ],
          "name": "stdout"
        }
      ]
    },
    {
      "cell_type": "code",
      "metadata": {
        "colab": {
          "base_uri": "https://localhost:8080/"
        },
        "id": "S1NHb8LxmLyZ",
        "outputId": "756f293f-e81e-4d05-ed9b-3a70e929227b"
      },
      "source": [
        "print(melsp_raw[0])"
      ],
      "execution_count": 7,
      "outputs": [
        {
          "output_type": "stream",
          "text": [
            "(PosixPath('/content/drive/My Drive/Colab Notebooks/AITraining/RAVDESS/Actor_10/03-01-02-02-02-01-10.wav'), array([[-38.5934  , -43.040634, -49.667854, ..., -57.081642, -58.153114,\n",
            "        -59.424576],\n",
            "       [-32.450645, -34.18916 , -40.61956 , ..., -59.855972, -59.351547,\n",
            "        -56.3013  ],\n",
            "       [-36.495743, -34.678154, -42.135384, ..., -58.424683, -55.553444,\n",
            "        -53.159096],\n",
            "       ...,\n",
            "       [-72.47176 , -73.768135, -74.62846 , ..., -80.      , -80.      ,\n",
            "        -80.      ],\n",
            "       [-75.79931 , -76.90311 , -78.11025 , ..., -80.      , -80.      ,\n",
            "        -80.      ],\n",
            "       [-80.      , -80.      , -80.      , ..., -80.      , -80.      ,\n",
            "        -80.      ]], dtype=float32))\n"
          ],
          "name": "stdout"
        }
      ]
    },
    {
      "cell_type": "markdown",
      "metadata": {
        "id": "Z-KtxZQ7io93"
      },
      "source": [
        "# データセットの説明\n",
        "\n",
        "https://www.kaggle.com/uwrfkaggler/ravdess-emotional-speech-audio\n",
        "\n",
        "```\n",
        "Filename identifiers\n",
        "Modality (01 = full-AV, 02 = video-only, 03 = audio-only).\n",
        "Vocal channel (01 = speech, 02 = song).\n",
        "Emotion (01 = neutral, 02 = calm, 03 = happy, 04 = sad, 05 = angry, 06 = fearful, 07 = disgust, 08 = surprised).\n",
        "Emotional intensity (01 = normal, 02 = strong). NOTE: There is no strong intensity for the 'neutral' emotion.\n",
        "Statement (01 = \"Kids are talking by the door\", 02 = \"Dogs are sitting by the door\").\n",
        "Repetition (01 = 1st repetition, 02 = 2nd repetition).\n",
        "Actor (01 to 24. Odd numbered actors are male, even numbered actors are female).\n",
        "```"
      ]
    },
    {
      "cell_type": "code",
      "metadata": {
        "id": "kAVuKvejh8VH"
      },
      "source": [
        "# オリジナルデータセット作成\n",
        "\n",
        "import torch\n",
        "from PIL import Image\n",
        "\n",
        "class AudioDataset(torch.utils.data.Dataset):\n",
        "    def __init__(self, melsp_raw, transform = None, num_classes=8):\n",
        "        self.transform = transform\n",
        "\n",
        "        self.data = [x[1] for x in melsp_raw]\n",
        "        #　ラベルはファイル名\"-\"区切りの3番目から取得\n",
        "        self.label = [int(x[0].name.split('-')[2]) - 1 for x in melsp_raw]\n",
        "        # print(self.label_raw)\n",
        "        # self.label = torch.nn.functional.one_hot(torch.tensor(self.label_raw), num_classes=num_classes)\n",
        "\n",
        "        self.datanum = len(self.label)\n",
        "\n",
        "    def __len__(self):\n",
        "        return self.datanum\n",
        "\n",
        "    def __getitem__(self, idx):\n",
        "        out_data = self.data[idx]\n",
        "        # ResNetに入力するためRGB画像にする -> しない\n",
        "        # out_img = Image.fromarray(np.uint8(out_data)).convert('RGB')\n",
        "        out_img = Image.fromarray(np.uint8(out_data))\n",
        "        out_label = self.label[idx]\n",
        "\n",
        "        if self.transform:\n",
        "            out_img = self.transform(out_img)\n",
        "\n",
        "        return out_img, out_label"
      ],
      "execution_count": 8,
      "outputs": []
    },
    {
      "cell_type": "code",
      "metadata": {
        "colab": {
          "base_uri": "https://localhost:8080/"
        },
        "id": "VPjKW0zmjQwv",
        "outputId": "8f6ccba7-214b-4bea-91fe-f4f264ef3786"
      },
      "source": [
        "# 学習準備\n",
        "import torch\n",
        "import torchvision\n",
        "import torchvision.transforms as transforms\n",
        "from torchvision.models import resnet18\n",
        "\n",
        "transform = transforms.Compose([\n",
        "    transforms.Resize((224, 224)),\n",
        "    transforms.ToTensor()\n",
        "])\n",
        "\n",
        "audio_dataset = AudioDataset(melsp_raw, transform)\n",
        "n_samples = len(audio_dataset)\n",
        "train_size = int(len(audio_dataset) * 0.8)\n",
        "val_size = n_samples - train_size\n",
        "train_dataset, val_dataset = torch.utils.data.random_split(audio_dataset, [train_size, val_size])\n",
        "\n",
        "print(len(train_dataset))\n",
        "print(len(val_dataset))\n",
        "\n",
        "train_loader = torch.utils.data.DataLoader(train_dataset, batch_size=32, shuffle=True)\n",
        "val_loader = torch.utils.data.DataLoader(val_dataset, batch_size=32, shuffle=True)"
      ],
      "execution_count": 9,
      "outputs": [
        {
          "output_type": "stream",
          "text": [
            "1152\n",
            "289\n"
          ],
          "name": "stdout"
        }
      ]
    },
    {
      "cell_type": "code",
      "metadata": {
        "colab": {
          "base_uri": "https://localhost:8080/",
          "height": 970,
          "referenced_widgets": [
            "770b98f198a04dec9c98d9ba49c15323",
            "a328f32c48fb4032826ca3a573aa4267",
            "452ecb9d8b76498284b8eda17133ab91",
            "f6bc6ca7b64748958acee13a974384ca",
            "3a8dd054ede1473588f4efc62d233b5f",
            "d7851d8636474485bd05210e012229ef",
            "fce52f15bc7d45f89fd487d82f789924",
            "0b31b1e99a744cc3b359251fcb1d916e"
          ]
        },
        "id": "Z_Erx9-fk8sB",
        "outputId": "e14fe65c-3c26-4751-f945-b99e55a6b360"
      },
      "source": [
        "# 学習\n",
        "import torch.nn as nn\n",
        "import torch.optim as optim\n",
        "from tqdm import tqdm_notebook as tqdm\n",
        "\n",
        "model = resnet18(pretrained=False)\n",
        "# 最初の畳み込み層のチャネルを1にする\n",
        "model.conv1 = nn.Conv2d(1, 64, kernel_size=(7, 7), stride=(2, 2), padding=(3, 3), bias=False)\n",
        "# 最後の全結合層出力を8にする\n",
        "model.fc = nn.Linear(512, 8)\n",
        "device = torch.device('cuda')\n",
        "model.cuda()\n",
        "criterion = nn.CrossEntropyLoss()\n",
        "optimizer = optim.SGD(model.parameters(), lr=0.01, momentum=0.9)\n",
        "\n",
        "n_epochs = 50\n",
        "\n",
        "for epoch in tqdm(range(n_epochs)):\n",
        "    total_loss = 0\n",
        "    total_size = 0\n",
        "    model.train()\n",
        "    for batch_idx, (data, target) in enumerate(train_loader):\n",
        "        data, target = data.to(device), target.to(device)\n",
        "        optimizer.zero_grad()\n",
        "        output = model(data)\n",
        "        loss = criterion(output, target)\n",
        "        total_loss += loss.item()\n",
        "        total_size += data.size(0)\n",
        "        loss.backward()\n",
        "        optimizer.step()\n",
        "        if batch_idx % 1000 == 0:\n",
        "            print('Train Epoch: {} \\tAverage loss: {:.6f}'.format(\n",
        "                epoch, total_loss / total_size))"
      ],
      "execution_count": 10,
      "outputs": [
        {
          "output_type": "stream",
          "text": [
            "/usr/local/lib/python3.7/dist-packages/ipykernel_launcher.py:18: TqdmDeprecationWarning: This function will be removed in tqdm==5.0.0\n",
            "Please use `tqdm.notebook.tqdm` instead of `tqdm.tqdm_notebook`\n"
          ],
          "name": "stderr"
        },
        {
          "output_type": "display_data",
          "data": {
            "application/vnd.jupyter.widget-view+json": {
              "model_id": "770b98f198a04dec9c98d9ba49c15323",
              "version_minor": 0,
              "version_major": 2
            },
            "text/plain": [
              "HBox(children=(FloatProgress(value=0.0, max=50.0), HTML(value='')))"
            ]
          },
          "metadata": {
            "tags": []
          }
        },
        {
          "output_type": "stream",
          "text": [
            "Train Epoch: 0 \tAverage loss: 0.064444\n",
            "Train Epoch: 1 \tAverage loss: 0.061016\n",
            "Train Epoch: 2 \tAverage loss: 0.057591\n",
            "Train Epoch: 3 \tAverage loss: 0.033847\n",
            "Train Epoch: 4 \tAverage loss: 0.018457\n",
            "Train Epoch: 5 \tAverage loss: 0.018837\n",
            "Train Epoch: 6 \tAverage loss: 0.021529\n",
            "Train Epoch: 7 \tAverage loss: 0.013471\n",
            "Train Epoch: 8 \tAverage loss: 0.008002\n",
            "Train Epoch: 9 \tAverage loss: 0.001933\n",
            "Train Epoch: 10 \tAverage loss: 0.005656\n",
            "Train Epoch: 11 \tAverage loss: 0.001003\n",
            "Train Epoch: 12 \tAverage loss: 0.000924\n",
            "Train Epoch: 13 \tAverage loss: 0.000855\n",
            "Train Epoch: 14 \tAverage loss: 0.000445\n",
            "Train Epoch: 15 \tAverage loss: 0.003266\n",
            "Train Epoch: 16 \tAverage loss: 0.003942\n",
            "Train Epoch: 17 \tAverage loss: 0.000348\n",
            "Train Epoch: 18 \tAverage loss: 0.001367\n",
            "Train Epoch: 19 \tAverage loss: 0.000748\n",
            "Train Epoch: 20 \tAverage loss: 0.000034\n",
            "Train Epoch: 21 \tAverage loss: 0.000013\n",
            "Train Epoch: 22 \tAverage loss: 0.000009\n",
            "Train Epoch: 23 \tAverage loss: 0.000006\n",
            "Train Epoch: 24 \tAverage loss: 0.000010\n",
            "Train Epoch: 25 \tAverage loss: 0.000039\n",
            "Train Epoch: 26 \tAverage loss: 0.000014\n",
            "Train Epoch: 27 \tAverage loss: 0.000010\n",
            "Train Epoch: 28 \tAverage loss: 0.000016\n",
            "Train Epoch: 29 \tAverage loss: 0.000009\n",
            "Train Epoch: 30 \tAverage loss: 0.000009\n",
            "Train Epoch: 31 \tAverage loss: 0.000012\n",
            "Train Epoch: 32 \tAverage loss: 0.000017\n",
            "Train Epoch: 33 \tAverage loss: 0.000043\n",
            "Train Epoch: 34 \tAverage loss: 0.000006\n",
            "Train Epoch: 35 \tAverage loss: 0.000007\n",
            "Train Epoch: 36 \tAverage loss: 0.000003\n",
            "Train Epoch: 37 \tAverage loss: 0.000006\n",
            "Train Epoch: 38 \tAverage loss: 0.000007\n",
            "Train Epoch: 39 \tAverage loss: 0.000002\n",
            "Train Epoch: 40 \tAverage loss: 0.000003\n",
            "Train Epoch: 41 \tAverage loss: 0.000003\n",
            "Train Epoch: 42 \tAverage loss: 0.000006\n",
            "Train Epoch: 43 \tAverage loss: 0.000030\n",
            "Train Epoch: 44 \tAverage loss: 0.000003\n",
            "Train Epoch: 45 \tAverage loss: 0.000006\n",
            "Train Epoch: 46 \tAverage loss: 0.000002\n",
            "Train Epoch: 47 \tAverage loss: 0.000004\n",
            "Train Epoch: 48 \tAverage loss: 0.000004\n",
            "Train Epoch: 49 \tAverage loss: 0.000004\n",
            "\n"
          ],
          "name": "stdout"
        }
      ]
    },
    {
      "cell_type": "code",
      "metadata": {
        "colab": {
          "base_uri": "https://localhost:8080/"
        },
        "id": "LvGcutptq5RH",
        "outputId": "971cd8dd-1345-4914-ea16-7773591a4de4"
      },
      "source": [
        "from sklearn.metrics import classification_report\n",
        "pred = []\n",
        "Y = []\n",
        "for i, (data, target) in enumerate(val_loader):\n",
        "    with torch.no_grad():\n",
        "        data, target = data.to(device), target.to(device)\n",
        "        output = model(data)\n",
        "    pred += [int(l.argmax()) for l in output]\n",
        "    Y += [int(l) for l in target]\n",
        "\n",
        "print(classification_report(Y, pred))"
      ],
      "execution_count": 11,
      "outputs": [
        {
          "output_type": "stream",
          "text": [
            "              precision    recall  f1-score   support\n",
            "\n",
            "           0       0.64      0.64      0.64        22\n",
            "           1       0.74      0.76      0.75        38\n",
            "           2       0.68      0.56      0.61        41\n",
            "           3       0.51      0.49      0.50        39\n",
            "           4       0.77      0.85      0.81        40\n",
            "           5       0.63      0.76      0.69        29\n",
            "           6       0.69      0.82      0.75        33\n",
            "           7       0.90      0.74      0.81        47\n",
            "\n",
            "    accuracy                           0.70       289\n",
            "   macro avg       0.70      0.70      0.70       289\n",
            "weighted avg       0.71      0.70      0.70       289\n",
            "\n"
          ],
          "name": "stdout"
        }
      ]
    },
    {
      "cell_type": "code",
      "metadata": {
        "id": "65VYf1GE58T4"
      },
      "source": [
        ""
      ],
      "execution_count": 11,
      "outputs": []
    }
  ]
}